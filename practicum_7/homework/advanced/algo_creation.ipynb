{
 "cells": [
  {
   "cell_type": "code",
   "execution_count": 190,
   "metadata": {},
   "outputs": [],
   "source": [
    "from collections import defaultdict\n",
    "from dataclasses import dataclass\n",
    "import os\n",
    "import sys\n",
    "import yaml\n",
    "import time\n",
    "import numpy as np\n",
    "import scipy.io\n",
    "import scipy.linalg\n",
    "import scipy.sparse as sp\n",
    "import matplotlib.pyplot as plt\n",
    "from src.common import NDArrayFloat\n",
    "from src.linalg import get_numpy_eigenvalues\n",
    "from mpl_toolkits.mplot3d import Axes3D\n",
    "from matplotlib import cm\n",
    "from scipy.interpolate import RectBivariateSpline\n"
   ]
  },
  {
   "cell_type": "code",
   "execution_count": 191,
   "metadata": {},
   "outputs": [],
   "source": [
    "def plot_2d_temperature(matrix, title=\"Temperature Plot of Matrix\"):\n",
    "  \"\"\"\n",
    "  Plots a 2D temperature map of a matrix, highlighting the largest elements.\n",
    "\n",
    "  Args:\n",
    "    matrix: The input numpy array (matrix).\n",
    "    title: The title of the plot.\n",
    "  \"\"\"\n",
    "\n",
    "  fig, ax = plt.subplots()\n",
    "\n",
    "  # Plot the temperature map\n",
    "  im = ax.imshow(matrix, cmap='hot', interpolation='nearest')\n",
    "\n",
    "  # Add a colorbar\n",
    "  cbar = fig.colorbar(im, ax=ax)\n",
    "  cbar.set_label('Value')\n",
    "\n",
    "  # Add labels and title\n",
    "  ax.set_xlabel('Column Index')\n",
    "  ax.set_ylabel('Row Index')\n",
    "  ax.set_title(title)\n",
    "\n",
    "  plt.show()"
   ]
  },
  {
   "cell_type": "code",
   "execution_count": 192,
   "metadata": {},
   "outputs": [
    {
     "name": "stderr",
     "output_type": "stream",
     "text": [
      "<>:53: SyntaxWarning: invalid escape sequence '\\d'\n",
      "<>:53: SyntaxWarning: invalid escape sequence '\\d'\n",
      "/var/folders/ls/btrdy60n12n_lk3plpt7wqlh0000gn/T/ipykernel_71326/2705233763.py:53: SyntaxWarning: invalid escape sequence '\\d'\n",
      "  plt.title(\"Eigenvalue Error $\\dfrac{\\mid\\lambda_{n} - \\lambda_{f}\\mid}{\\mid\\lambda_{n}\\mid}$\")\n"
     ]
    }
   ],
   "source": [
    "def testing(my_function, A: np.array, name: str,show_plots: bool=False, function_name: str=\"My_func\"):\n",
    "  \"\"\"Compares your eigenvalue algorithm with NumPy's eigvals.\n",
    "\n",
    "  Args:\n",
    "    my_function: function that takes a NumPy array (matrix) and returns a NumPy array of eigenvalues.\n",
    "    A: The input matrix for eigenvalue calculation.\n",
    "  \"\"\"\n",
    "\n",
    "\n",
    "  start_time = time.time()\n",
    "  my_eigenvalues = my_function(A).copy()\n",
    "  my_time = time.time() - start_time\n",
    "\n",
    "  start_time = time.time()\n",
    "  numpy_eigenvalues = np.linalg.eigvals(A)\n",
    "  numpy_time = time.time() - start_time\n",
    "\n",
    "  my_eigenvalues.sort()\n",
    "  numpy_eigenvalues.sort()\n",
    "\n",
    "  # Accuracy\n",
    "  \n",
    "  errors = np.abs(numpy_eigenvalues - my_eigenvalues) / np.abs(numpy_eigenvalues)\n",
    "  max_error = np.max(errors)\n",
    "  avg_error = np.mean(errors)\n",
    "  median_error = np.median(errors)\n",
    "  print(\"----------\")\n",
    "  print(f'{name}:')\n",
    "  print(\"  Time:\", my_time, \"seconds\")\n",
    "  print(\"NumPy eigvals:\")\n",
    "  print(\"  Time:\", numpy_time, \"seconds\")\n",
    "  print(\"\\nAccuracy:\")\n",
    "  print(\"  Maximum Error:\", max_error)\n",
    "  print(\"  Average Error:\", avg_error)\n",
    "  print(\"  Median Error:\", median_error)\n",
    "  print(\"----------\\n\")\n",
    "  if(show_plots):\n",
    "    # Plot the differences\n",
    "    my_eigenvalues_abs = np.abs(my_eigenvalues)\n",
    "    numpy_eigenvalues_abs = np.abs(numpy_eigenvalues)\n",
    "    plt.figure(figsize=(8, 6))\n",
    "    plt.plot(my_eigenvalues_abs, label=str(function_name + ' abs'))\n",
    "    plt.plot(numpy_eigenvalues_abs, label=\"NumPy eigvals abs\")\n",
    "    plt.xlabel(\"Eigenvalue Index\")\n",
    "    plt.ylabel(\"Eigenvalue\")\n",
    "    plt.title(\"Eigenvalue Comparison\")\n",
    "    plt.legend()\n",
    "    plt.show()\n",
    "\n",
    "    # Plot the errors\n",
    "    plt.figure(figsize=(8, 6))\n",
    "    plt.plot(errors)\n",
    "    plt.xlabel(\"Eigenvalue Index\")\n",
    "    plt.ylabel(\"Absolute Error\")\n",
    "    plt.title(\"Eigenvalue Error $ \\dfrac{\\mid\\lambda_{n} - \\lambda_{f}\\mid}{\\mid\\lambda_{n}\\mid}$\")\n",
    "    plt.show()\n"
   ]
  },
  {
   "cell_type": "code",
   "execution_count": 193,
   "metadata": {},
   "outputs": [],
   "source": [
    "def matrix_from_eigenvalues(eigenvalues):\n",
    "  \"\"\"Creates a numpy matrix with the specified eigenvalues.\n",
    "\n",
    "  Args:\n",
    "    eigenvalues: A list or numpy array of eigenvalues.\n",
    "\n",
    "  Returns:\n",
    "    A numpy array representing the matrix.\n",
    "  \"\"\"\n",
    "\n",
    "  size = len(eigenvalues)\n",
    "  D = np.diag(eigenvalues)  # Create a diagonal matrix with the eigenvalues\n",
    "  Q, _ = np.linalg.qr(np.random.rand(size, size)) # Generate a random orthogonal matrix Q\n",
    "\n",
    "  return Q @ D @ Q.T  # Compute A = QDQ^T"
   ]
  },
  {
   "cell_type": "code",
   "execution_count": 203,
   "metadata": {},
   "outputs": [
    {
     "name": "stdout",
     "output_type": "stream",
     "text": [
      "[[ 5.844108   -2.67224216 -1.93891675 -1.10963675  1.35742151]\n",
      " [-2.67224216 10.69042305  2.99725875 -1.82944402 -3.28333822]\n",
      " [-1.93891675  2.99725875  5.55404797 -4.19384448  0.05149879]\n",
      " [-1.10963675 -1.82944402 -4.19384448  6.94834877 -0.96425158]\n",
      " [ 1.35742151 -3.28333822  0.05149879 -0.96425158 -3.0369278 ]]\n",
      "eigenvalues: [-4.  1.  5.  9. 15.]\n"
     ]
    }
   ],
   "source": [
    "eigenvalues = [1, -4, 5, 9, 15]\n",
    "A = matrix_from_eigenvalues(eigenvalues)\n",
    "print(A)\n",
    "# You can verify the eigenvalues using:\n",
    "calculated_eigenvalues, _ = np.linalg.eig(A)\n",
    "calculated_eigenvalues.sort()\n",
    "print(f'eigenvalues: {calculated_eigenvalues}')"
   ]
  },
  {
   "cell_type": "code",
   "execution_count": 195,
   "metadata": {},
   "outputs": [],
   "source": [
    "def get_eigenvalues_from_R_matrix(R : np.array) -> np.array:\n",
    "    out = np.diag(R).copy()\n",
    "    out.sort()\n",
    "    return out"
   ]
  },
  {
   "cell_type": "code",
   "execution_count": 197,
   "metadata": {},
   "outputs": [],
   "source": [
    "def basic_QR(A: np.array):\n",
    "    \"\"\"\n",
    "    Basic Gram-Schmidt process with normalization.\n",
    "    \"\"\"\n",
    "    n = A.shape[0]\n",
    "    Q, R = np.eye(n), np.eye(n)\n",
    "    \n",
    "    for k in range(n):\n",
    "        u_k = A[:, k].copy()\n",
    "        for j in range(k):\n",
    "            coef = np.dot(u_k, Q[:, j])\n",
    "            R[j, k] = coef\n",
    "            u_k -= coef * Q[:, j] # update u_k\n",
    "        norm_u_k = np.linalg.norm(u_k)\n",
    "        u_k /= norm_u_k\n",
    "        Q[:, k] = u_k\n",
    "    return Q, R "
   ]
  },
  {
   "cell_type": "code",
   "execution_count": 222,
   "metadata": {},
   "outputs": [],
   "source": [
    "def Gram_Schmidt_optimised_QR(A: np.array):\n",
    "    \"\"\"\n",
    "    Optimized Gram-Schmidt process with normalization.\n",
    "    The coefficients q will be calculated at each step of the algorithm.\n",
    "    Each time we will subtract the component of the vector from all the vectors q at once.\n",
    "    \"\"\"\n",
    "    m, n = A.shape  # Get both dimensions of A\n",
    "    Q = A.copy()\n",
    "    R = np.zeros((n, n))  # Initialize R with zeros\n",
    "\n",
    "    for k in range(n): # Orthogonalize the k-th column\n",
    "        R[k, k] = np.linalg.norm(Q[:, k]) # Normalize the k-th column\n",
    "        Q[:, k] /= R[k, k] \n",
    "        for j in range(k + 1, n): # Subtract the projection from subsequent columns \n",
    "            R[k, j] = np.dot(Q[:, k], Q[:, j])\n",
    "            Q[:, j] -= R[k, j] * Q[:, k] \n",
    "    return Q, R"
   ]
  },
  {
   "cell_type": "code",
   "execution_count": 228,
   "metadata": {},
   "outputs": [],
   "source": [
    "def qr_householder(A: np.ndarray) -> tuple[np.ndarray, np.ndarray]:\n",
    "    \"\"\"\n",
    "    QR decomposition using Householder reflections.\n",
    "    \"\"\"\n",
    "    m, n = A.shape\n",
    "    R = A.copy()\n",
    "    Q = np.eye(m)\n",
    "\n",
    "    for k in range(min(m - 1, n)):\n",
    "        x = R[k:, k]\n",
    "        e1 = np.zeros(len(x))\n",
    "        e1[0] = 1\n",
    "        v = x - np.linalg.norm(x) * e1  # Calculate the Householder vector\n",
    "        H_k = np.eye(m)\n",
    "        H_k[k:, k:] = np.eye(len(x)) - 2 * np.outer(v, v) / np.dot(v, v) # Embed the reflection \n",
    "        Q = Q @ H_k\n",
    "        R = H_k @ R\n",
    "\n",
    "    return Q, R\n"
   ]
  },
  {
   "cell_type": "code",
   "execution_count": 239,
   "metadata": {},
   "outputs": [],
   "source": [
    "def qr_givens(A: np.ndarray) -> tuple[np.ndarray, np.ndarray]:\n",
    "    \"\"\"\n",
    "    QR decomposition using Givens rotations.\n",
    "    \"\"\"\n",
    "\n",
    "    m, n = A.shape\n",
    "    Q = np.eye(m)\n",
    "    R = A.copy()\n",
    "\n",
    "    for j in range(n):\n",
    "        for i in range(m-1, j, -1):\n",
    "            # Calculate Givens rotation parameters (embedded directly)\n",
    "            a = R[i-1, j]\n",
    "            b = R[i, j]\n",
    "\n",
    "            if b == 0:\n",
    "              c = 1\n",
    "              s = 0\n",
    "            else:\n",
    "              if abs(b) > abs(a):\n",
    "                r = a / b\n",
    "                s = 1 / np.sqrt(1 + r**2)\n",
    "                c = r * s\n",
    "              else:\n",
    "                r = b / a\n",
    "                c = 1 / np.sqrt(1 + r**2)\n",
    "                s = r * c\n",
    "\n",
    "            G = np.eye(m)\n",
    "            G[i-1:i+1, i-1:i+1] = [[c, -s], [s, c]]\n",
    "            R = G @ R\n",
    "            Q = G @ Q\n",
    "\n",
    "    return Q.T, R "
   ]
  },
  {
   "cell_type": "code",
   "execution_count": 198,
   "metadata": {},
   "outputs": [],
   "source": [
    "    \n",
    "def qr(A: NDArrayFloat) -> tuple[NDArrayFloat, NDArrayFloat]: # на выходе Q и R\n",
    "    n = A.shape[0]\n",
    "    Q = np.zeros_like(A)\n",
    "    R = np.zeros_like(A)\n",
    "    W = A.copy()\n",
    "    \n",
    "    for j in range(n):\n",
    "        w_j_norm = np.linalg.norm(W[: , j])\n",
    "        Q[: , j ] = W[: , j] / w_j_norm # W[: , j] == w_j^j\n",
    "        for i in range(j):\n",
    "            R[i,j] = A[: , j] @ Q[:, i]\n",
    "        a_j_norm = np.linalg.norm(A[:, j])\n",
    "        R[j,j] = np.sqrt(a_j_norm**2 - np.sum(R[ :j , j] ** 2))\n",
    "        for k in range(j+1,n):\n",
    "            prod = W[: , k] @ Q[: , j]\n",
    "            W[:, k ] = W[: , k] - prod * Q[:, j]\n",
    "    return Q,R"
   ]
  },
  {
   "cell_type": "code",
   "execution_count": 237,
   "metadata": {},
   "outputs": [],
   "source": [
    "def QR_eigenvalues_algorithm(A : np.array, iteration_number: int = 100) -> np.array:\n",
    "    A_k = A.copy()\n",
    "    plot_2d_temperature(A)\n",
    "    for k in range(iteration_number):\n",
    "        Q,R = qr_givens(A_k)\n",
    "        A_k = R @ Q\n",
    "    plot_2d_temperature(A_k)\n",
    "    return np.diag(A_k)"
   ]
  },
  {
   "cell_type": "code",
   "execution_count": 241,
   "metadata": {},
   "outputs": [
    {
     "name": "stdout",
     "output_type": "stream",
     "text": [
      "[ 5.844108   -2.67224216 -1.93891675 -1.10963675  1.35742151]\n",
      "[ 5.844108   -2.67224216 -1.93891675 -1.10963675  1.35742151]\n",
      "[[ 5.844108   -2.67224216 -1.93891675 -1.10963675  1.35742151]\n",
      " [-2.67224216 10.69042305  2.99725875 -1.82944402 -3.28333822]\n",
      " [-1.93891675  2.99725875  5.55404797 -4.19384448  0.05149879]\n",
      " [-1.10963675 -1.82944402 -4.19384448  6.94834877 -0.96425158]\n",
      " [ 1.35742151 -3.28333822  0.05149879 -0.96425158 -3.0369278 ]]\n"
     ]
    }
   ],
   "source": [
    "print(A[0 , :])\n",
    "Q,R = qr_givens(A)\n",
    "print(A[0 , :])\n",
    "print(Q @ R)"
   ]
  },
  {
   "cell_type": "code",
   "execution_count": 242,
   "metadata": {},
   "outputs": [
    {
     "data": {
      "image/png": "[encoded data removed]",
      "text/plain": [
       "<Figure size 640x480 with 2 Axes>"
      ]
     },
     "metadata": {},
     "output_type": "display_data"
    },
    {
     "data": {
      "image/png": "[encoded data removed]",
      "text/plain": [
       "<Figure size 640x480 with 2 Axes>"
      ]
     },
     "metadata": {},
     "output_type": "display_data"
    },
    {
     "data": {
      "text/plain": [
       "array([15.,  9.,  5., -4.,  1.])"
      ]
     },
     "execution_count": 242,
     "metadata": {},
     "output_type": "execute_result"
    }
   ],
   "source": [
    "A_k = QR_eigenvalues_algorithm(A)\n",
    "A_k"
   ]
  }
 ],
 "metadata": {
  "kernelspec": {
   "display_name": "base",
   "language": "python",
   "name": "python3"
  },
  "language_info": {
   "codemirror_mode": {
    "name": "ipython",
    "version": 3
   },
   "file_extension": ".py",
   "mimetype": "text/x-python",
   "name": "python",
   "nbconvert_exporter": "python",
   "pygments_lexer": "ipython3",
   "version": "3.12.2"
  }
 },
 "nbformat": 4,
 "nbformat_minor": 2
}
