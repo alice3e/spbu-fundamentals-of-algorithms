{
 "cells": [
  {
   "cell_type": "code",
   "execution_count": 1,
   "metadata": {},
   "outputs": [],
   "source": [
    "from collections import defaultdict\n",
    "from dataclasses import dataclass\n",
    "import os\n",
    "import sys\n",
    "import yaml\n",
    "import time\n",
    "import numpy as np\n",
    "import scipy.io\n",
    "import scipy.linalg\n",
    "import scipy.sparse as sp\n",
    "import matplotlib.pyplot as plt\n",
    "from src.common import NDArrayFloat\n",
    "from src.linalg import get_numpy_eigenvalues\n",
    "from mpl_toolkits.mplot3d import Axes3D\n",
    "from matplotlib import cm\n",
    "from scipy.interpolate import RectBivariateSpline\n"
   ]
  },
  {
   "cell_type": "code",
   "execution_count": 2,
   "metadata": {},
   "outputs": [],
   "source": [
    "def plot_2d_temperature(matrix, title=\"Temperature Plot of Matrix\"):\n",
    "  \"\"\"\n",
    "  Plots a 2D temperature map of a matrix, highlighting the largest elements.\n",
    "\n",
    "  Args:\n",
    "    matrix: The input numpy array (matrix).\n",
    "    title: The title of the plot.\n",
    "  \"\"\"\n",
    "\n",
    "  fig, ax = plt.subplots()\n",
    "\n",
    "  # Plot the temperature map\n",
    "  im = ax.imshow(matrix, cmap='hot', interpolation='nearest')\n",
    "\n",
    "  # Add a colorbar\n",
    "  cbar = fig.colorbar(im, ax=ax)\n",
    "  cbar.set_label('Value')\n",
    "\n",
    "  # Add labels and title\n",
    "  ax.set_xlabel('Column Index')\n",
    "  ax.set_ylabel('Row Index')\n",
    "  ax.set_title(title)\n",
    "\n",
    "  plt.show()"
   ]
  },
  {
   "cell_type": "code",
   "execution_count": 3,
   "metadata": {},
   "outputs": [],
   "source": [
    "def generate_matrix(type: str, sparse: bool, size: int, min_val: float, max_val: float, grouping_factor: float = 0, density: float = 1) -> np.array:\n",
    "  \"\"\"Generates various types of REAL matrices with controlled value range and diagonal grouping.\n",
    "\n",
    "  Args:\n",
    "    type: The type of matrix to generate.\n",
    "          Options: 'nonsymmetric', 'symmetric', 'normal', 'orthogonal'.\n",
    "    sparse: Whether to generate a sparse matrix.\n",
    "    size: The size of the matrix (size x size).\n",
    "    min_val: Minimum value of the matrix elements.\n",
    "    max_val: Maximum value of the matrix elements.\n",
    "    grouping_factor: Controls the strength of diagonal grouping. \n",
    "                     0: No grouping.\n",
    "                     Positive values: Increase grouping strength.\n",
    "\n",
    "  Returns:\n",
    "    A NumPy array representing the generated matrix.\n",
    "  \"\"\"\n",
    "  \n",
    "  seed = 42\n",
    "  np.random.seed(seed)\n",
    "  \n",
    "  if type == 'nonsymmetric':\n",
    "    if sparse:\n",
    "      A = sp.rand(size, size, density=density, format='csr').toarray()\n",
    "    else:\n",
    "      A = np.random.rand(size, size)\n",
    "    if grouping_factor > 0:\n",
    "      for i in range(size):\n",
    "        A[i, :] = A[i, :] * (1 + grouping_factor * i / (size-1)) # Scale based on distance and factor\n",
    "    return A * (max_val - min_val) + min_val\n",
    "\n",
    "  elif type == 'symmetric':\n",
    "    if sparse:\n",
    "      A = sp.rand(size, size, density=density, format='csr')\n",
    "      A = (A + A.transpose()).toarray() / 2\n",
    "    else:\n",
    "      A = np.random.rand(size, size)\n",
    "      A = (A + A.T) / 2\n",
    "    if grouping_factor > 0:\n",
    "      for i in range(size):\n",
    "        for j in range(size):\n",
    "          A[i, j] = A[i, j] * np.exp(-grouping_factor * abs(i - j) / (size - 1)) # Exponential decay from diagonal\n",
    "    return A * (max_val - min_val) + min_val\n",
    "\n",
    "  elif type == 'normal':\n",
    "    if sparse:\n",
    "      raise ValueError(\"Sparse normal matrices are not well-defined.\")\n",
    "    else:\n",
    "      # Generate a symmetric matrix (guaranteed to be normal)\n",
    "      A = np.random.rand(size, size)\n",
    "      A = (A + A.T) / 2\n",
    "      if grouping_factor > 0:\n",
    "        for i in range(size):\n",
    "          for j in range(size):\n",
    "            A[i, j] = A[i, j] * np.exp(-grouping_factor * abs(i - j) / (size - 1)) # Exponential decay from diagonal\n",
    "      return A * (max_val - min_val) + min_val\n",
    "\n",
    "  elif type == 'orthogonal':\n",
    "    if sparse:\n",
    "      raise ValueError(\"Sparse orthogonal matrices are not well-defined.\")\n",
    "    else:\n",
    "      Q, _ = np.linalg.qr(np.random.rand(size, size))\n",
    "      if grouping_factor > 0:\n",
    "        for i in range(size):\n",
    "          Q[i, :] = Q[i, :] * (1 + grouping_factor * i / (size-1)) # Scale based on distance and factor\n",
    "      return Q * (max_val - min_val) + min_val\n",
    "\n",
    "  else:\n",
    "    raise ValueError(f\"Invalid matrix type: {type}\")"
   ]
  },
  {
   "cell_type": "code",
   "execution_count": 4,
   "metadata": {},
   "outputs": [],
   "source": [
    "orthogonal_matrix_10 = generate_matrix(type='orthogonal',sparse=False,size=10,min_val=0,max_val=30)"
   ]
  },
  {
   "cell_type": "code",
   "execution_count": 5,
   "metadata": {},
   "outputs": [
    {
     "data": {
      "image/png": "[encoded data removed]",
      "text/plain": [
       "<Figure size 640x480 with 2 Axes>"
      ]
     },
     "metadata": {},
     "output_type": "display_data"
    }
   ],
   "source": [
    "plot_2d_temperature(orthogonal_matrix_10)"
   ]
  },
  {
   "cell_type": "code",
   "execution_count": null,
   "metadata": {},
   "outputs": [],
   "source": []
  }
 ],
 "metadata": {
  "kernelspec": {
   "display_name": "base",
   "language": "python",
   "name": "python3"
  },
  "language_info": {
   "codemirror_mode": {
    "name": "ipython",
    "version": 3
   },
   "file_extension": ".py",
   "mimetype": "text/x-python",
   "name": "python",
   "nbconvert_exporter": "python",
   "pygments_lexer": "ipython3",
   "version": "3.12.2"
  }
 },
 "nbformat": 4,
 "nbformat_minor": 2
}
