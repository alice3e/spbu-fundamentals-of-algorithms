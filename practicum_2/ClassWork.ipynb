{
 "cells": [
  {
   "cell_type": "code",
   "execution_count": 12,
   "id": "initial_id",
   "metadata": {
    "ExecuteTime": {
     "end_time": "2024-03-19T18:11:06.002165Z",
     "start_time": "2024-03-19T18:11:05.458165Z"
    },
    "collapsed": true
   },
   "outputs": [],
   "source": [
    "import numpy as np"
   ]
  },
  {
   "cell_type": "code",
   "execution_count": 13,
   "id": "eb08c6ef0d35071e",
   "metadata": {
    "ExecuteTime": {
     "end_time": "2024-03-19T18:11:06.017530Z",
     "start_time": "2024-03-19T18:11:05.997574Z"
    },
    "collapsed": false
   },
   "outputs": [
    {
     "data": {
      "text/plain": [
       "array([[1, 2],\n",
       "       [3, 4]])"
      ]
     },
     "execution_count": 13,
     "metadata": {},
     "output_type": "execute_result"
    }
   ],
   "source": [
    "n = np.array([[1,2],[3,4]])\n",
    "n"
   ]
  },
  {
   "cell_type": "code",
   "execution_count": 14,
   "id": "66315890da00c7c0",
   "metadata": {
    "ExecuteTime": {
     "end_time": "2024-03-19T18:11:06.170538Z",
     "start_time": "2024-03-19T18:11:06.016897Z"
    },
    "collapsed": false
   },
   "outputs": [
    {
     "data": {
      "text/plain": [
       "array([[5, 2],\n",
       "       [3, 4]])"
      ]
     },
     "execution_count": 14,
     "metadata": {},
     "output_type": "execute_result"
    }
   ],
   "source": [
    "m = n\n",
    "m[0][0] = 5\n",
    "n # ОТражается в N"
   ]
  },
  {
   "cell_type": "code",
   "execution_count": 15,
   "id": "26fee2c187a058a9",
   "metadata": {
    "ExecuteTime": {
     "end_time": "2024-03-19T18:11:06.192231Z",
     "start_time": "2024-03-19T18:11:06.115307Z"
    },
    "collapsed": false
   },
   "outputs": [
    {
     "data": {
      "text/plain": [
       "array([[5, 2],\n",
       "       [3, 4]])"
      ]
     },
     "execution_count": 15,
     "metadata": {},
     "output_type": "execute_result"
    }
   ],
   "source": [
    "m = np.copy(n)\n",
    "m[0][0] = 123 # Теперь это настоящая копия\n",
    "n"
   ]
  },
  {
   "cell_type": "code",
   "execution_count": 16,
   "id": "1026a64978e41ca1",
   "metadata": {
    "ExecuteTime": {
     "end_time": "2024-03-19T18:11:06.240587Z",
     "start_time": "2024-03-19T18:11:06.187472Z"
    },
    "collapsed": false
   },
   "outputs": [
    {
     "data": {
      "text/plain": [
       "array([[1, 2, 3],\n",
       "       [4, 5, 6],\n",
       "       [7, 8, 9]])"
      ]
     },
     "execution_count": 16,
     "metadata": {},
     "output_type": "execute_result"
    }
   ],
   "source": [
    "m = np.array([[1,2,3],[4,5,6],[7,8,9]])\n",
    "m"
   ]
  },
  {
   "cell_type": "code",
   "execution_count": 17,
   "id": "e55d6b492b65f9c",
   "metadata": {
    "ExecuteTime": {
     "end_time": "2024-03-19T18:11:06.271949Z",
     "start_time": "2024-03-19T18:11:06.243202Z"
    },
    "collapsed": false
   },
   "outputs": [
    {
     "data": {
      "text/plain": [
       "array([[1, 2],\n",
       "       [4, 5]])"
      ]
     },
     "execution_count": 17,
     "metadata": {},
     "output_type": "execute_result"
    }
   ],
   "source": [
    "m[:2, :2] # Тоже не является копией"
   ]
  },
  {
   "cell_type": "code",
   "execution_count": 18,
   "id": "239fea5c1d7c0c06",
   "metadata": {
    "ExecuteTime": {
     "end_time": "2024-03-19T18:11:06.330067Z",
     "start_time": "2024-03-19T18:11:06.269242Z"
    },
    "collapsed": false
   },
   "outputs": [
    {
     "data": {
      "text/plain": [
       "array([[1, 2],\n",
       "       [4, 5]])"
      ]
     },
     "execution_count": 18,
     "metadata": {},
     "output_type": "execute_result"
    }
   ],
   "source": [
    "np.copy(m[:2,:2]) #Тоже являетя копией"
   ]
  },
  {
   "cell_type": "code",
   "execution_count": 19,
   "id": "342fd1740ad28f55",
   "metadata": {
    "ExecuteTime": {
     "end_time": "2024-03-19T18:11:06.346793Z",
     "start_time": "2024-03-19T18:11:06.317940Z"
    },
    "collapsed": false
   },
   "outputs": [
    {
     "data": {
      "text/plain": [
       "array([[1, 2],\n",
       "       [3, 4]])"
      ]
     },
     "execution_count": 19,
     "metadata": {},
     "output_type": "execute_result"
    }
   ],
   "source": [
    "a = np.array([[1,2],[3,4]])\n",
    "a"
   ]
  },
  {
   "cell_type": "code",
   "execution_count": 20,
   "id": "ce80bdb3cdc7e06f",
   "metadata": {
    "ExecuteTime": {
     "end_time": "2024-03-19T18:11:06.396395Z",
     "start_time": "2024-03-19T18:11:06.345919Z"
    },
    "collapsed": false
   },
   "outputs": [
    {
     "data": {
      "text/plain": [
       "array([[5, 6]])"
      ]
     },
     "execution_count": 20,
     "metadata": {},
     "output_type": "execute_result"
    }
   ],
   "source": [
    "b = np.array([[5,6]])\n",
    "b"
   ]
  },
  {
   "cell_type": "code",
   "execution_count": 21,
   "id": "2c0aeec07529efaa",
   "metadata": {
    "ExecuteTime": {
     "end_time": "2024-03-19T18:11:06.429321Z",
     "start_time": "2024-03-19T18:11:06.385551Z"
    },
    "collapsed": false
   },
   "outputs": [
    {
     "data": {
      "text/plain": [
       "array([[1, 2],\n",
       "       [3, 4],\n",
       "       [5, 6]])"
      ]
     },
     "execution_count": 21,
     "metadata": {},
     "output_type": "execute_result"
    }
   ],
   "source": [
    "np.concatenate((a,b) , axis=0) # строки - 0 , столбцы - 1"
   ]
  },
  {
   "cell_type": "code",
   "execution_count": 22,
   "id": "f3ad29559cb4591a",
   "metadata": {
    "ExecuteTime": {
     "end_time": "2024-03-19T18:11:06.500982Z",
     "start_time": "2024-03-19T18:11:06.421842Z"
    },
    "collapsed": false
   },
   "outputs": [
    {
     "ename": "ValueError",
     "evalue": "all the input array dimensions except for the concatenation axis must match exactly, but along dimension 0, the array at index 0 has size 2 and the array at index 1 has size 1",
     "output_type": "error",
     "traceback": [
      "\u001b[0;31m---------------------------------------------------------------------------\u001b[0m",
      "\u001b[0;31mValueError\u001b[0m                                Traceback (most recent call last)",
      "Cell \u001b[0;32mIn[22], line 1\u001b[0m\n\u001b[0;32m----> 1\u001b[0m np\u001b[38;5;241m.\u001b[39mconcatenate((a,b) , axis\u001b[38;5;241m=\u001b[39m\u001b[38;5;241m1\u001b[39m)\n",
      "\u001b[0;31mValueError\u001b[0m: all the input array dimensions except for the concatenation axis must match exactly, but along dimension 0, the array at index 0 has size 2 and the array at index 1 has size 1"
     ]
    }
   ],
   "source": [
    "np.concatenate((a,b) , axis=1) # ТК форма неправильная у B"
   ]
  },
  {
   "cell_type": "code",
   "execution_count": null,
   "id": "a4d885f801200ede",
   "metadata": {
    "ExecuteTime": {
     "end_time": "2024-03-19T18:11:06.512211Z",
     "start_time": "2024-03-19T18:11:06.477290Z"
    },
    "collapsed": false
   },
   "outputs": [
    {
     "data": {
      "text/plain": [
       "array([[1, 2, 5],\n",
       "       [3, 4, 6]])"
      ]
     },
     "execution_count": 13,
     "metadata": {},
     "output_type": "execute_result"
    }
   ],
   "source": [
    "np.concatenate((a,b.T) , axis=1) # Получилось тк транспонировали!"
   ]
  },
  {
   "cell_type": "code",
   "execution_count": null,
   "id": "2a7332a19d98650a",
   "metadata": {
    "ExecuteTime": {
     "end_time": "2024-03-19T18:11:06.774959Z",
     "start_time": "2024-03-19T18:11:06.508080Z"
    },
    "collapsed": false
   },
   "outputs": [
    {
     "data": {
      "text/plain": [
       "array([[1, 2],\n",
       "       [3, 4],\n",
       "       [5, 6]])"
      ]
     },
     "execution_count": 14,
     "metadata": {},
     "output_type": "execute_result"
    }
   ],
   "source": [
    "np.vstack((a,b))"
   ]
  },
  {
   "cell_type": "code",
   "execution_count": null,
   "id": "e3880a495891eec1",
   "metadata": {
    "ExecuteTime": {
     "end_time": "2024-03-19T18:11:06.822383Z",
     "start_time": "2024-03-19T18:11:06.777944Z"
    },
    "collapsed": false
   },
   "outputs": [
    {
     "ename": "ValueError",
     "evalue": "all the input array dimensions except for the concatenation axis must match exactly, but along dimension 0, the array at index 0 has size 2 and the array at index 1 has size 1",
     "output_type": "error",
     "traceback": [
      "\u001b[0;31m---------------------------------------------------------------------------\u001b[0m",
      "\u001b[0;31mValueError\u001b[0m                                Traceback (most recent call last)",
      "Cell \u001b[0;32mIn[15], line 1\u001b[0m\n\u001b[0;32m----> 1\u001b[0m np\u001b[38;5;241m.\u001b[39mhstack((a,b))\n",
      "File \u001b[0;32m~/opt/miniconda3/lib/python3.11/site-packages/numpy/core/shape_base.py:359\u001b[0m, in \u001b[0;36mhstack\u001b[0;34m(tup, dtype, casting)\u001b[0m\n\u001b[1;32m    357\u001b[0m     \u001b[38;5;28;01mreturn\u001b[39;00m _nx\u001b[38;5;241m.\u001b[39mconcatenate(arrs, \u001b[38;5;241m0\u001b[39m, dtype\u001b[38;5;241m=\u001b[39mdtype, casting\u001b[38;5;241m=\u001b[39mcasting)\n\u001b[1;32m    358\u001b[0m \u001b[38;5;28;01melse\u001b[39;00m:\n\u001b[0;32m--> 359\u001b[0m     \u001b[38;5;28;01mreturn\u001b[39;00m _nx\u001b[38;5;241m.\u001b[39mconcatenate(arrs, \u001b[38;5;241m1\u001b[39m, dtype\u001b[38;5;241m=\u001b[39mdtype, casting\u001b[38;5;241m=\u001b[39mcasting)\n",
      "\u001b[0;31mValueError\u001b[0m: all the input array dimensions except for the concatenation axis must match exactly, but along dimension 0, the array at index 0 has size 2 and the array at index 1 has size 1"
     ]
    }
   ],
   "source": [
    "np.hstack((a,b))"
   ]
  },
  {
   "cell_type": "code",
   "execution_count": null,
   "id": "b08041c0b321d198",
   "metadata": {
    "ExecuteTime": {
     "start_time": "2024-03-19T18:11:06.806964Z"
    },
    "collapsed": false
   },
   "outputs": [],
   "source": [
    "np.hstack((a,b.T)) # АНАЛОГ concatenate"
   ]
  },
  {
   "cell_type": "code",
   "execution_count": null,
   "id": "966444843363502a",
   "metadata": {
    "ExecuteTime": {
     "start_time": "2024-03-19T18:11:06.807916Z"
    },
    "collapsed": false
   },
   "outputs": [],
   "source": [
    "a[1] # a[1, :] // весь первый столбец"
   ]
  },
  {
   "cell_type": "code",
   "execution_count": null,
   "id": "2945cdbce5b180f7",
   "metadata": {
    "ExecuteTime": {
     "end_time": "2024-03-19T18:11:06.878920Z",
     "start_time": "2024-03-19T18:11:06.824867Z"
    },
    "collapsed": false
   },
   "outputs": [
    {
     "data": {
      "text/plain": [
       "array([[0, 0],\n",
       "       [3, 4]])"
      ]
     },
     "execution_count": 16,
     "metadata": {},
     "output_type": "execute_result"
    }
   ],
   "source": [
    "a[0, :] = [0,0] # заполнили первую строку нулями\n",
    "a"
   ]
  },
  {
   "cell_type": "code",
   "execution_count": null,
   "id": "1d886f24e1faccda",
   "metadata": {
    "ExecuteTime": {
     "end_time": "2024-03-19T18:11:06.938248Z",
     "start_time": "2024-03-19T18:11:06.871716Z"
    },
    "collapsed": false
   },
   "outputs": [
    {
     "data": {
      "text/plain": [
       "array([[7, 0],\n",
       "       [7, 4]])"
      ]
     },
     "execution_count": 17,
     "metadata": {},
     "output_type": "execute_result"
    }
   ],
   "source": [
    "a[:, 0] = 7 # заполнили первый столбец нулями\n",
    "a # не начинает агрится"
   ]
  },
  {
   "cell_type": "code",
   "execution_count": null,
   "id": "dbb90413138d0578",
   "metadata": {
    "ExecuteTime": {
     "end_time": "2024-03-19T18:11:06.971153Z",
     "start_time": "2024-03-19T18:11:06.939223Z"
    },
    "collapsed": false
   },
   "outputs": [
    {
     "data": {
      "text/plain": [
       "array([[1, 2],\n",
       "       [3, 4],\n",
       "       [5, 6]])"
      ]
     },
     "execution_count": 18,
     "metadata": {},
     "output_type": "execute_result"
    }
   ],
   "source": [
    "a = np.array([[1,2],[3,4],[5,6]])\n",
    "a"
   ]
  },
  {
   "cell_type": "code",
   "execution_count": null,
   "id": "f95fe1b812186307",
   "metadata": {
    "ExecuteTime": {
     "end_time": "2024-03-19T18:11:07.012641Z",
     "start_time": "2024-03-19T18:11:06.959468Z"
    },
    "collapsed": false
   },
   "outputs": [
    {
     "data": {
      "text/plain": [
       "array([[13, 13],\n",
       "       [ 3,  4],\n",
       "       [ 5,  6]])"
      ]
     },
     "execution_count": 19,
     "metadata": {},
     "output_type": "execute_result"
    }
   ],
   "source": [
    "a[0, :] = 13 # заполнили первую строку нулями\n",
    "a"
   ]
  },
  {
   "cell_type": "code",
   "execution_count": null,
   "id": "dcb5094c66da154c",
   "metadata": {
    "ExecuteTime": {
     "end_time": "2024-03-19T18:11:07.040517Z",
     "start_time": "2024-03-19T18:11:07.013738Z"
    },
    "collapsed": false
   },
   "outputs": [
    {
     "data": {
      "text/plain": [
       "array([[ 1,  2,  3,  4],\n",
       "       [ 5,  6,  7,  8],\n",
       "       [ 9, 10, 11, 12],\n",
       "       [13, 14, 15, 16]])"
      ]
     },
     "execution_count": 20,
     "metadata": {},
     "output_type": "execute_result"
    }
   ],
   "source": [
    "a = np.array([[1,2,3,4],[5,6,7,8],[9,10,11,12],[13,14,15,16]])\n",
    "a"
   ]
  },
  {
   "cell_type": "code",
   "execution_count": null,
   "id": "fb8dd1764e21286",
   "metadata": {
    "ExecuteTime": {
     "end_time": "2024-03-19T18:11:07.070081Z",
     "start_time": "2024-03-19T18:11:07.031527Z"
    },
    "collapsed": false
   },
   "outputs": [
    {
     "data": {
      "text/plain": [
       "array([[ 1, 15,  3,  4],\n",
       "       [ 5, 15,  7,  8],\n",
       "       [ 9, 15, 11, 12],\n",
       "       [13, 15, 15, 16]])"
      ]
     },
     "execution_count": 21,
     "metadata": {},
     "output_type": "execute_result"
    }
   ],
   "source": [
    "a[: , 1] = 15 # столбец 1ый заполнен\n",
    "a"
   ]
  },
  {
   "cell_type": "markdown",
   "id": "ec14e6f664851ba0",
   "metadata": {
    "collapsed": false
   },
   "source": [
    "Создать нулевую матрицу размерностью 5X5 с еденицами по границам"
   ]
  },
  {
   "cell_type": "code",
   "execution_count": null,
   "id": "22d28e258eca7812",
   "metadata": {
    "ExecuteTime": {
     "end_time": "2024-03-19T18:11:07.086785Z",
     "start_time": "2024-03-19T18:11:07.051012Z"
    },
    "collapsed": false
   },
   "outputs": [
    {
     "data": {
      "text/plain": [
       "array([[1, 1, 1, 1, 1],\n",
       "       [1, 0, 0, 0, 1],\n",
       "       [1, 0, 0, 0, 1],\n",
       "       [1, 0, 0, 0, 1],\n",
       "       [1, 1, 1, 1, 1]])"
      ]
     },
     "execution_count": 22,
     "metadata": {},
     "output_type": "execute_result"
    }
   ],
   "source": [
    "# НЕКРАСИВОЕ РЕШЕНИЕ\n",
    "a = np.zeros((5,5), dtype=int)\n",
    "a[0 , :] = 1\n",
    "a[:, 0] = 1\n",
    "a[-1, :] = 1\n",
    "a[:, -1] = 1\n",
    "a"
   ]
  },
  {
   "cell_type": "code",
   "execution_count": null,
   "id": "e3fa94bbeeb0780b",
   "metadata": {
    "ExecuteTime": {
     "end_time": "2024-03-19T18:11:07.149453Z",
     "start_time": "2024-03-19T18:11:07.087937Z"
    },
    "collapsed": false
   },
   "outputs": [
    {
     "data": {
      "text/plain": [
       "array([[1, 1, 1, 1, 1],\n",
       "       [1, 0, 0, 0, 1],\n",
       "       [1, 0, 0, 0, 1],\n",
       "       [1, 0, 0, 0, 1],\n",
       "       [1, 1, 1, 1, 1]])"
      ]
     },
     "execution_count": 23,
     "metadata": {},
     "output_type": "execute_result"
    }
   ],
   "source": [
    "# КРАСИВОЕ РЕШЕНИЕ\n",
    "a = np.ones((5,5), dtype=int)\n",
    "a[1:-1,1:-1] = 0\n",
    "a"
   ]
  },
  {
   "cell_type": "code",
   "execution_count": null,
   "id": "57815ca1318a383",
   "metadata": {
    "ExecuteTime": {
     "end_time": "2024-03-19T18:11:07.161064Z",
     "start_time": "2024-03-19T18:11:07.139998Z"
    },
    "collapsed": false
   },
   "outputs": [
    {
     "data": {
      "text/plain": [
       "array([[1, 1, 1, 1, 1],\n",
       "       [1, 0, 0, 0, 1],\n",
       "       [1, 0, 0, 0, 1],\n",
       "       [1, 0, 0, 0, 1],\n",
       "       [1, 1, 1, 1, 1]])"
      ]
     },
     "execution_count": 24,
     "metadata": {},
     "output_type": "execute_result"
    }
   ],
   "source": [
    "# ЕЩЕ РЕШЕНИЕ\n",
    "a = np.zeros((5,5), dtype=int)\n",
    "a[(0,-1), : ] = 1\n",
    "a[: , (0,-1)] = 1\n",
    "a"
   ]
  },
  {
   "cell_type": "markdown",
   "id": "7967fdbafdb5f0c5",
   "metadata": {
    "collapsed": false
   },
   "source": [
    "# ЛИНЕЙНАЯ АЛГЕБРА\n"
   ]
  },
  {
   "cell_type": "code",
   "execution_count": null,
   "id": "6a71dde3cf85b3f",
   "metadata": {
    "ExecuteTime": {
     "end_time": "2024-03-19T18:11:07.202896Z",
     "start_time": "2024-03-19T18:11:07.161569Z"
    },
    "collapsed": false
   },
   "outputs": [
    {
     "data": {
      "text/plain": [
       "array([0, 1, 2, 3, 4])"
      ]
     },
     "execution_count": 25,
     "metadata": {},
     "output_type": "execute_result"
    }
   ],
   "source": [
    "a = np.arange(5)\n",
    "a"
   ]
  },
  {
   "cell_type": "code",
   "execution_count": null,
   "id": "ae443d98b10ab3b0",
   "metadata": {
    "ExecuteTime": {
     "end_time": "2024-03-19T18:11:07.216668Z",
     "start_time": "2024-03-19T18:11:07.192790Z"
    },
    "collapsed": false
   },
   "outputs": [
    {
     "data": {
      "text/plain": [
       "array([1, 2, 3, 4, 5])"
      ]
     },
     "execution_count": 26,
     "metadata": {},
     "output_type": "execute_result"
    }
   ],
   "source": [
    "a += 1 # Ко всем элементам добавили 1\n",
    "a"
   ]
  },
  {
   "cell_type": "code",
   "execution_count": null,
   "id": "2e33f97cf0a21e60",
   "metadata": {
    "ExecuteTime": {
     "end_time": "2024-03-19T18:11:07.260942Z",
     "start_time": "2024-03-19T18:11:07.217498Z"
    },
    "collapsed": false
   },
   "outputs": [
    {
     "data": {
      "text/plain": [
       "array([ 2,  4,  6,  8, 10])"
      ]
     },
     "execution_count": 27,
     "metadata": {},
     "output_type": "execute_result"
    }
   ],
   "source": [
    "a * 2 # поэлементное деление и умножение"
   ]
  },
  {
   "cell_type": "markdown",
   "id": "13712be709626001",
   "metadata": {
    "collapsed": false
   },
   "source": [
    "# операции с векторами"
   ]
  },
  {
   "cell_type": "code",
   "execution_count": null,
   "id": "723d6f19c323c119",
   "metadata": {
    "ExecuteTime": {
     "end_time": "2024-03-19T18:11:07.274106Z",
     "start_time": "2024-03-19T18:11:07.251112Z"
    },
    "collapsed": false
   },
   "outputs": [
    {
     "data": {
      "text/plain": [
       "array([False,  True, False,  True])"
      ]
     },
     "execution_count": 28,
     "metadata": {},
     "output_type": "execute_result"
    }
   ],
   "source": [
    "a = np.array([1,2,3,4])\n",
    "b = np.array([4,2,2,4])\n",
    "\n",
    "a==b # поэлементное сравнение"
   ]
  },
  {
   "cell_type": "code",
   "execution_count": null,
   "id": "40548aa0464dd615",
   "metadata": {
    "ExecuteTime": {
     "end_time": "2024-03-19T18:11:07.306890Z",
     "start_time": "2024-03-19T18:11:07.268359Z"
    },
    "collapsed": false
   },
   "outputs": [
    {
     "data": {
      "text/plain": [
       "array([2, 4])"
      ]
     },
     "execution_count": 29,
     "metadata": {},
     "output_type": "execute_result"
    }
   ],
   "source": [
    "a[a==b] # вытащил только элементы содержащиеся в обоих векторах"
   ]
  },
  {
   "cell_type": "code",
   "execution_count": null,
   "id": "57cd9112f2128b56",
   "metadata": {
    "ExecuteTime": {
     "end_time": "2024-03-19T18:11:07.323675Z",
     "start_time": "2024-03-19T18:11:07.288950Z"
    },
    "collapsed": false
   },
   "outputs": [
    {
     "data": {
      "text/plain": [
       "array([ True,  True,  True, False,  True,  True, False,  True])"
      ]
     },
     "execution_count": 30,
     "metadata": {},
     "output_type": "execute_result"
    }
   ],
   "source": [
    "a = np.array([1,1,1,0,1,0,0,1])\n",
    "b = np.array([0,0,1,0,1,1,0,1]) # Булевой масив\n",
    "np.logical_or(a,b) # Булевое сравнение"
   ]
  },
  {
   "cell_type": "code",
   "execution_count": null,
   "id": "89a5d3c4df64698b",
   "metadata": {
    "ExecuteTime": {
     "end_time": "2024-03-19T18:11:07.380690Z",
     "start_time": "2024-03-19T18:11:07.324303Z"
    },
    "collapsed": false
   },
   "outputs": [
    {
     "data": {
      "text/plain": [
       "array([0, 0, 1, 0, 1, 0, 0, 1])"
      ]
     },
     "execution_count": 31,
     "metadata": {},
     "output_type": "execute_result"
    }
   ],
   "source": [
    "a&b # поэлементное AND"
   ]
  },
  {
   "cell_type": "markdown",
   "id": "2863bd3bd84c9952",
   "metadata": {
    "collapsed": false
   },
   "source": [
    "# A * B - выполняется поэлементно!"
   ]
  },
  {
   "cell_type": "code",
   "execution_count": null,
   "id": "d80d53a2dd0ae5a1",
   "metadata": {
    "ExecuteTime": {
     "end_time": "2024-03-19T18:11:07.393061Z",
     "start_time": "2024-03-19T18:11:07.370982Z"
    },
    "collapsed": false
   },
   "outputs": [
    {
     "data": {
      "text/plain": [
       "array([ 4,  4,  6, 16])"
      ]
     },
     "execution_count": 32,
     "metadata": {},
     "output_type": "execute_result"
    }
   ],
   "source": [
    "a = np.array([1,2,3,4])\n",
    "b = np.array([4,2,2,4])\n",
    "a*b"
   ]
  },
  {
   "cell_type": "code",
   "execution_count": null,
   "id": "58d383a5ecab6e55",
   "metadata": {
    "ExecuteTime": {
     "end_time": "2024-03-19T18:11:07.434309Z",
     "start_time": "2024-03-19T18:11:07.393680Z"
    },
    "collapsed": false
   },
   "outputs": [
    {
     "data": {
      "text/plain": [
       "array([   1,   32,  243, 1024])"
      ]
     },
     "execution_count": 33,
     "metadata": {},
     "output_type": "execute_result"
    }
   ],
   "source": [
    "a**5  # Возведение в степень тоже"
   ]
  },
  {
   "cell_type": "markdown",
   "id": "d136cc9a3f939baa",
   "metadata": {
    "collapsed": false
   },
   "source": [
    "Создать случайный вектор размера 10 и найти его средние значение"
   ]
  },
  {
   "cell_type": "code",
   "execution_count": null,
   "id": "4a0b46f38e1388af",
   "metadata": {
    "ExecuteTime": {
     "end_time": "2024-03-19T18:11:07.455140Z",
     "start_time": "2024-03-19T18:11:07.424925Z"
    },
    "collapsed": false
   },
   "outputs": [
    {
     "data": {
      "text/plain": [
       "0.5800664809454951"
      ]
     },
     "execution_count": 34,
     "metadata": {},
     "output_type": "execute_result"
    }
   ],
   "source": [
    "# ЧЕРЕЗ SUM\n",
    "a = np.random.random(10,)\n",
    "size = a.shape[0]\n",
    "a = np.sum(a)\n",
    "a /= size\n",
    "a"
   ]
  },
  {
   "cell_type": "code",
   "execution_count": null,
   "id": "175ff9be092a2314",
   "metadata": {
    "ExecuteTime": {
     "end_time": "2024-03-19T18:11:07.511955Z",
     "start_time": "2024-03-19T18:11:07.442571Z"
    },
    "collapsed": false
   },
   "outputs": [
    {
     "data": {
      "text/plain": [
       "0.3548276242898908"
      ]
     },
     "execution_count": 35,
     "metadata": {},
     "output_type": "execute_result"
    }
   ],
   "source": [
    "# Через mean\n",
    "a = np.random.random(10,)\n",
    "a.mean()"
   ]
  },
  {
   "cell_type": "markdown",
   "id": "4ca5c56f93d4bad5",
   "metadata": {
    "collapsed": false
   },
   "source": [
    "Создать случайную матрциу 10X2 хранящую декартовы координаты, затем еонвертируйте в полярные координаты"
   ]
  },
  {
   "cell_type": "code",
   "execution_count": null,
   "id": "dbc34fe1ec8bf3d5",
   "metadata": {
    "ExecuteTime": {
     "end_time": "2024-03-19T18:11:07.541119Z",
     "start_time": "2024-03-19T18:11:07.473293Z"
    },
    "collapsed": false
   },
   "outputs": [
    {
     "data": {
      "text/plain": [
       "array([[114.05700329,   1.01684382],\n",
       "       [ 77.20103626,   0.28897541],\n",
       "       [ 44.40720662,   1.43526861],\n",
       "       [ 93.91485505,   1.10714872],\n",
       "       [ 86.45229899,   0.71991814],\n",
       "       [ 22.20360331,   0.94531129],\n",
       "       [ 26.83281573,   1.10714872],\n",
       "       [ 76.15773106,   0.23860932],\n",
       "       [113.40634903,   0.65408272],\n",
       "       [110.788086  ,   1.03037683]])"
      ]
     },
     "execution_count": 36,
     "metadata": {},
     "output_type": "execute_result"
    }
   ],
   "source": [
    "a = np.random.random((10,2)) * 100\n",
    "a = a.astype(np.int64) # перевод в int\n",
    "X = np.copy(a[:, 0])\n",
    "Y = np.copy(a[:,1])\n",
    "R = np.array(np.sqrt(X**2 + Y**2))\n",
    "Phi = np.arctan2(Y,X) # arctan2 ДЛЯ ОБРАБОТКИ ГРАНИЧНЫХ СЛУЧАЕВ\n",
    "RES = np.array(np.column_stack((R,Phi)))\n",
    "a = np.copy(RES)\n",
    "a"
   ]
  },
  {
   "cell_type": "code",
   "execution_count": null,
   "id": "a140bb9849e15b0",
   "metadata": {
    "ExecuteTime": {
     "end_time": "2024-03-19T18:11:07.631134Z",
     "start_time": "2024-03-19T18:11:07.543255Z"
    },
    "collapsed": false
   },
   "outputs": [
    {
     "data": {
      "text/plain": [
       "array([0.7631796 , 0.13381098, 0.31475766, 0.34555558, 0.5880026 ,\n",
       "       0.95534067, 0.61253756, 0.72097132, 1.02224692, 1.12592585])"
      ]
     },
     "execution_count": 37,
     "metadata": {},
     "output_type": "execute_result"
    }
   ],
   "source": [
    "# КРАСИВОЕ РЕШЕНИЕ\n",
    "def euclidian_distance(x,y):\n",
    "    return np.sqrt(x**2 + y**2)\n",
    "\n",
    "a = np.random.random((10,2)) * 100\n",
    "a = a.astype(np.int64) # перевод в int\n",
    "X = np.copy(a[:, 0])\n",
    "Y = np.copy(a[:,1])\n",
    "r = euclidian_distance(X,Y)\n",
    "phi = np.arctan2(Y,X)\n",
    "phi"
   ]
  },
  {
   "cell_type": "code",
   "execution_count": null,
   "id": "adb83fd7044647ba",
   "metadata": {
    "ExecuteTime": {
     "end_time": "2024-03-19T18:11:07.667970Z",
     "start_time": "2024-03-19T18:11:07.624077Z"
    },
    "collapsed": false
   },
   "outputs": [
    {
     "ename": "AxisError",
     "evalue": "axis 1 is out of bounds for array of dimension 1",
     "output_type": "error",
     "traceback": [
      "\u001b[0;31m---------------------------------------------------------------------------\u001b[0m",
      "\u001b[0;31mAxisError\u001b[0m                                 Traceback (most recent call last)",
      "Cell \u001b[0;32mIn[38], line 1\u001b[0m\n\u001b[0;32m----> 1\u001b[0m a \u001b[38;5;241m=\u001b[39m np\u001b[38;5;241m.\u001b[39mconcatenate((phi,a),axis\u001b[38;5;241m=\u001b[39m\u001b[38;5;241m1\u001b[39m)\n",
      "\u001b[0;31mAxisError\u001b[0m: axis 1 is out of bounds for array of dimension 1"
     ]
    }
   ],
   "source": [
    "a = np.concatenate((phi,a),axis=1)"
   ]
  },
  {
   "cell_type": "markdown",
   "id": "1f387d83f57aadfd",
   "metadata": {
    "collapsed": false
   },
   "source": [
    "Матричное умножение"
   ]
  },
  {
   "cell_type": "code",
   "execution_count": null,
   "id": "f90a30a8e8bc8739",
   "metadata": {
    "ExecuteTime": {
     "end_time": "2024-03-19T18:11:07.690594Z",
     "start_time": "2024-03-19T18:11:07.668917Z"
    },
    "collapsed": false
   },
   "outputs": [
    {
     "data": {
      "text/plain": [
       "array([[0., 0.],\n",
       "       [0., 0.]])"
      ]
     },
     "execution_count": 39,
     "metadata": {},
     "output_type": "execute_result"
    }
   ],
   "source": [
    "x = np.zeros((2,2), dtype=np.float64)\n",
    "m = np.array([[1,2],[3,4]])\n",
    "x"
   ]
  },
  {
   "cell_type": "code",
   "execution_count": null,
   "id": "dd74380a3565c76f",
   "metadata": {
    "ExecuteTime": {
     "end_time": "2024-03-19T18:11:07.697212Z",
     "start_time": "2024-03-19T18:11:07.683834Z"
    },
    "collapsed": false
   },
   "outputs": [
    {
     "data": {
      "text/plain": [
       "array([[0., 0.],\n",
       "       [0., 0.]])"
      ]
     },
     "execution_count": 40,
     "metadata": {},
     "output_type": "execute_result"
    }
   ],
   "source": [
    "x.dot(m, out=x)"
   ]
  },
  {
   "cell_type": "code",
   "execution_count": null,
   "id": "46beb3e8a64cd52d",
   "metadata": {
    "ExecuteTime": {
     "end_time": "2024-03-19T18:11:07.758725Z",
     "start_time": "2024-03-19T18:11:07.697922Z"
    },
    "collapsed": false
   },
   "outputs": [
    {
     "data": {
      "text/plain": [
       "array([[1, 2],\n",
       "       [3, 4]])"
      ]
     },
     "execution_count": 41,
     "metadata": {},
     "output_type": "execute_result"
    }
   ],
   "source": [
    "m = np.array([[1,2],[3,4]])\n",
    "np.abs(m)"
   ]
  },
  {
   "cell_type": "code",
   "execution_count": null,
   "id": "1301cc04cc7e3598",
   "metadata": {
    "ExecuteTime": {
     "end_time": "2024-03-19T18:11:07.790473Z",
     "start_time": "2024-03-19T18:11:07.750031Z"
    },
    "collapsed": false
   },
   "outputs": [
    {
     "data": {
      "text/plain": [
       "array([[-2. ,  1. ],\n",
       "       [ 1.5, -0.5]])"
      ]
     },
     "execution_count": 42,
     "metadata": {},
     "output_type": "execute_result"
    }
   ],
   "source": [
    "np.linalg.inv(m) #  ЕСЛИ МАЛЕНЬКАЯ РАЗМЕРНОСТЬ ( ДО 100-1000 СТРОК )\n",
    "# ТК использует метод гаусса\n",
    "# Дает точное решение"
   ]
  },
  {
   "cell_type": "code",
   "execution_count": null,
   "id": "4264b467ee765ca4",
   "metadata": {
    "ExecuteTime": {
     "end_time": "2024-03-19T18:11:07.805991Z",
     "start_time": "2024-03-19T18:11:07.784403Z"
    },
    "collapsed": false
   },
   "outputs": [
    {
     "data": {
      "text/plain": [
       "-2.0000000000000004"
      ]
     },
     "execution_count": 43,
     "metadata": {},
     "output_type": "execute_result"
    }
   ],
   "source": [
    "np.linalg.det(m) # ищет определитель НО! неточно тк dtype=float64"
   ]
  },
  {
   "cell_type": "markdown",
   "id": "8c60a8e3b8f28c28",
   "metadata": {
    "collapsed": false
   },
   "source": [
    "Найти ближайшее значение к числу 4 в векторе [4.3, 1.0, 3.9, 5.0, 2.0, 1.9]"
   ]
  },
  {
   "cell_type": "code",
   "execution_count": null,
   "id": "b770e169999aaaaf",
   "metadata": {
    "ExecuteTime": {
     "end_time": "2024-03-19T18:11:07.848234Z",
     "start_time": "2024-03-19T18:11:07.807789Z"
    },
    "collapsed": false
   },
   "outputs": [
    {
     "data": {
      "text/plain": [
       "3.9"
      ]
     },
     "execution_count": 44,
     "metadata": {},
     "output_type": "execute_result"
    }
   ],
   "source": [
    "def closest(x,value):\n",
    "    return abs(x-value)\n",
    "\n",
    "a = np.array([4.3, 1.0, 3.9, 5.0, 2.0, 1.9])\n",
    "b = closest(a,4)\n",
    "a[np.argmin(b)]"
   ]
  },
  {
   "cell_type": "code",
   "execution_count": null,
   "id": "60650644916003aa",
   "metadata": {
    "ExecuteTime": {
     "end_time": "2024-03-19T18:11:07.866134Z",
     "start_time": "2024-03-19T18:11:07.838025Z"
    },
    "collapsed": false
   },
   "outputs": [
    {
     "data": {
      "text/plain": [
       "3.9"
      ]
     },
     "execution_count": 45,
     "metadata": {},
     "output_type": "execute_result"
    }
   ],
   "source": [
    "# В одну строку\n",
    "a[np.argmin(abs(a-4))]"
   ]
  },
  {
   "cell_type": "code",
   "execution_count": null,
   "id": "d2cefefbe302f2e6",
   "metadata": {
    "ExecuteTime": {
     "end_time": "2024-03-19T18:11:07.924305Z",
     "start_time": "2024-03-19T18:11:07.867230Z"
    },
    "collapsed": false
   },
   "outputs": [
    {
     "name": "stdout",
     "output_type": "stream",
     "text": [
      "4.3\n"
     ]
    }
   ],
   "source": [
    "# FIXME найти ошибку\n",
    "idx = np.abs(x-4).argmin()\n",
    "print(a[idx])"
   ]
  },
  {
   "cell_type": "markdown",
   "id": "c06b62e8b0f9e36e",
   "metadata": {
    "collapsed": false
   },
   "source": [
    "# Векторизация"
   ]
  },
  {
   "cell_type": "code",
   "execution_count": null,
   "id": "ba02aa2199130d3e",
   "metadata": {
    "ExecuteTime": {
     "end_time": "2024-03-19T18:11:07.943979Z",
     "start_time": "2024-03-19T18:11:07.922060Z"
    },
    "collapsed": false
   },
   "outputs": [],
   "source": [
    "def foo(x):\n",
    "    return x*3"
   ]
  },
  {
   "cell_type": "code",
   "execution_count": null,
   "id": "bdbbf46767ead8d0",
   "metadata": {
    "ExecuteTime": {
     "end_time": "2024-03-19T18:11:07.987252Z",
     "start_time": "2024-03-19T18:11:07.938992Z"
    },
    "collapsed": false
   },
   "outputs": [
    {
     "data": {
      "text/plain": [
       "array([ 3,  6, -9, 12])"
      ]
     },
     "execution_count": 48,
     "metadata": {},
     "output_type": "execute_result"
    }
   ],
   "source": [
    "a = np.array([1,2,-3,4])\n",
    "foo(a) ## ВСЕ РАБОТАЕТ!"
   ]
  },
  {
   "cell_type": "markdown",
   "id": "6ed36e94b3d61223",
   "metadata": {
    "collapsed": false
   },
   "source": [
    "## Любое ветвление не дает выполнить функцию относительно массива значений⬇️"
   ]
  },
  {
   "cell_type": "code",
   "execution_count": null,
   "id": "870b675d15517deb",
   "metadata": {
    "ExecuteTime": {
     "end_time": "2024-03-19T18:11:08.009443Z",
     "start_time": "2024-03-19T18:11:07.954289Z"
    },
    "collapsed": false
   },
   "outputs": [],
   "source": [
    "def foo(x):\n",
    "    if(x>0):\n",
    "        return x*3\n",
    "    else:\n",
    "        return -1000"
   ]
  },
  {
   "cell_type": "code",
   "execution_count": null,
   "id": "fc87a7d3f9adb21",
   "metadata": {
    "ExecuteTime": {
     "end_time": "2024-03-19T18:11:08.053831Z",
     "start_time": "2024-03-19T18:11:08.013224Z"
    },
    "collapsed": false
   },
   "outputs": [
    {
     "ename": "ValueError",
     "evalue": "The truth value of an array with more than one element is ambiguous. Use a.any() or a.all()",
     "output_type": "error",
     "traceback": [
      "\u001b[0;31m---------------------------------------------------------------------------\u001b[0m",
      "\u001b[0;31mValueError\u001b[0m                                Traceback (most recent call last)",
      "Cell \u001b[0;32mIn[50], line 1\u001b[0m\n\u001b[0;32m----> 1\u001b[0m foo(a)\n",
      "Cell \u001b[0;32mIn[49], line 2\u001b[0m, in \u001b[0;36mfoo\u001b[0;34m(x)\u001b[0m\n\u001b[1;32m      1\u001b[0m \u001b[38;5;28;01mdef\u001b[39;00m \u001b[38;5;21mfoo\u001b[39m(x):\n\u001b[0;32m----> 2\u001b[0m     \u001b[38;5;28;01mif\u001b[39;00m(x\u001b[38;5;241m>\u001b[39m\u001b[38;5;241m0\u001b[39m):\n\u001b[1;32m      3\u001b[0m         \u001b[38;5;28;01mreturn\u001b[39;00m x\u001b[38;5;241m*\u001b[39m\u001b[38;5;241m3\u001b[39m\n\u001b[1;32m      4\u001b[0m     \u001b[38;5;28;01melse\u001b[39;00m:\n",
      "\u001b[0;31mValueError\u001b[0m: The truth value of an array with more than one element is ambiguous. Use a.any() or a.all()"
     ]
    }
   ],
   "source": [
    "foo(a) "
   ]
  },
  {
   "cell_type": "markdown",
   "id": "dc3b388bb5009353",
   "metadata": {
    "collapsed": false
   },
   "source": [
    "## Эта ошибка супер частая!⬆️"
   ]
  },
  {
   "cell_type": "code",
   "execution_count": null,
   "id": "902ac3ad501c64f3",
   "metadata": {
    "ExecuteTime": {
     "end_time": "2024-03-19T18:11:08.106339Z",
     "start_time": "2024-03-19T18:11:08.054103Z"
    },
    "collapsed": false
   },
   "outputs": [
    {
     "ename": "ValueError",
     "evalue": "The truth value of an array with more than one element is ambiguous. Use a.any() or a.all()",
     "output_type": "error",
     "traceback": [
      "\u001b[0;31m---------------------------------------------------------------------------\u001b[0m",
      "\u001b[0;31mValueError\u001b[0m                                Traceback (most recent call last)",
      "Cell \u001b[0;32mIn[51], line 1\u001b[0m\n\u001b[0;32m----> 1\u001b[0m \u001b[38;5;28;01mif\u001b[39;00m np\u001b[38;5;241m.\u001b[39marray([\u001b[38;5;241m1\u001b[39m,\u001b[38;5;241m0\u001b[39m,\u001b[38;5;241m0\u001b[39m,\u001b[38;5;241m1\u001b[39m]):\n\u001b[1;32m      2\u001b[0m     \u001b[38;5;28mprint\u001b[39m(\u001b[38;5;124m\"\u001b[39m\u001b[38;5;124mHEY\u001b[39m\u001b[38;5;124m\"\u001b[39m)\n",
      "\u001b[0;31mValueError\u001b[0m: The truth value of an array with more than one element is ambiguous. Use a.any() or a.all()"
     ]
    }
   ],
   "source": [
    "if np.array([1,0,0,1]):\n",
    "    print(\"HEY\")"
   ]
  },
  {
   "cell_type": "markdown",
   "id": "114596e47e48b338",
   "metadata": {
    "collapsed": false
   },
   "source": [
    "## Та же самая ошибка!⬆️"
   ]
  },
  {
   "cell_type": "code",
   "execution_count": null,
   "id": "a07c29b27a56e606",
   "metadata": {
    "ExecuteTime": {
     "end_time": "2024-03-19T18:11:08.131969Z",
     "start_time": "2024-03-19T18:11:08.096940Z"
    },
    "collapsed": false
   },
   "outputs": [
    {
     "name": "stdout",
     "output_type": "stream",
     "text": [
      "HEY\n"
     ]
    }
   ],
   "source": [
    "y = np.array([1,0,0,1])\n",
    "if any(y):\n",
    "    print(\"HEY\")"
   ]
  },
  {
   "cell_type": "markdown",
   "id": "c4bcc623cc5ccf10",
   "metadata": {
    "collapsed": false
   },
   "source": [
    "## фикс ошибки⬆️"
   ]
  },
  {
   "cell_type": "code",
   "execution_count": null,
   "id": "56f9166af5851176",
   "metadata": {
    "ExecuteTime": {
     "end_time": "2024-03-19T18:11:08.200816Z",
     "start_time": "2024-03-19T18:11:08.133705Z"
    },
    "collapsed": false
   },
   "outputs": [
    {
     "data": {
      "text/plain": [
       "array([    3, -1000, -1000,     3])"
      ]
     },
     "execution_count": 53,
     "metadata": {},
     "output_type": "execute_result"
    }
   ],
   "source": [
    "a = np.array([1,0,0,1])\n",
    "foo_vectorise = np.vectorize(foo) ## Веткоризуем функцию!\n",
    "##  может неявно проводить параллелизацию\n",
    "foo_vectorise(a)"
   ]
  },
  {
   "cell_type": "markdown",
   "id": "988c85a6a27a9087",
   "metadata": {
    "collapsed": false
   },
   "source": [
    "## Сработало⬆️"
   ]
  },
  {
   "cell_type": "markdown",
   "id": "b109254d759b4dfa",
   "metadata": {
    "collapsed": false
   },
   "source": [
    "# MatPlotLib💓"
   ]
  },
  {
   "cell_type": "code",
   "execution_count": null,
   "id": "f33974d6db3f35eb",
   "metadata": {
    "ExecuteTime": {
     "end_time": "2024-03-19T18:11:08.527238Z",
     "start_time": "2024-03-19T18:11:08.189739Z"
    },
    "collapsed": false
   },
   "outputs": [],
   "source": [
    "import matplotlib.pyplot as plt"
   ]
  },
  {
   "cell_type": "code",
   "execution_count": null,
   "id": "a52906ff097f863c",
   "metadata": {
    "ExecuteTime": {
     "end_time": "2024-03-19T18:11:08.532263Z",
     "start_time": "2024-03-19T18:11:08.528213Z"
    },
    "collapsed": false
   },
   "outputs": [],
   "source": [
    "x = np.linspace(-2,2,128) # Генерация равномерно точек \n",
    "y1 = x**2\n",
    "y2 = np.exp(x)"
   ]
  },
  {
   "cell_type": "code",
   "execution_count": null,
   "id": "8fcd5e85af74ab9a",
   "metadata": {
    "ExecuteTime": {
     "end_time": "2024-03-19T18:11:08.630861Z",
     "start_time": "2024-03-19T18:11:08.530837Z"
    },
    "collapsed": false
   },
   "outputs": [
    {
     "data": {
      "text/plain": [
       "[<matplotlib.lines.Line2D at 0x118f26c90>]"
      ]
     },
     "execution_count": 56,
     "metadata": {},
     "output_type": "execute_result"
    },
    {
     "data": {
      "image/png": "[encoded data removed]",
      "text/plain": [
       "<Figure size 640x480 with 1 Axes>"
      ]
     },
     "metadata": {},
     "output_type": "display_data"
    }
   ],
   "source": [
    "plt.plot(x,y1,label=\"Qubuic\") # обычно не используем\n",
    "plt.plot(x,y2, label=\"Exponential\")"
   ]
  },
  {
   "cell_type": "code",
   "execution_count": null,
   "id": "d9e3f92d8cc4cc86",
   "metadata": {
    "ExecuteTime": {
     "end_time": "2024-03-19T18:12:07.358627Z",
     "start_time": "2024-03-19T18:12:06.437122Z"
    },
    "collapsed": false
   },
   "outputs": [
    {
     "data": {
      "image/png": "[encoded data removed]",
      "text/plain": [
       "<Figure size 1200x600 with 4 Axes>"
      ]
     },
     "metadata": {},
     "output_type": "display_data"
    }
   ],
   "source": [
    "x = np.linspace(-2,2,128) # Генерация равномерно точек \n",
    "y1 = x**2\n",
    "y2 = np.exp(x)\n",
    "y3 = np.sqrt(abs(x))\n",
    "y4 = x**3\n",
    "\n",
    "fig, ax = plt.subplots(nrows=2, ncols=2, figsize=(12,6)) # Создает фигуру и оси ( 2 разных обьекта )\n",
    "# Вернет массив 2х2 -> надо выбрать оси\n",
    "ax[0,0].plot(x,y1,label=\"x in a power of 2\")\n",
    "ax[0,1].plot(x,y2 ,label=\"exponent of x\")\n",
    "ax[1,0].plot(x,y3 ,label=\"sqrt of x\")\n",
    "ax[1,1].plot(x,y4, label=\"x in a power of 3\")\n",
    "\n",
    "for axes in ax.reshape(-1): # TODO прочитать про reshape\n",
    "    axes.set_xlabel(\"TEST\",fontsize=12)\n",
    "    axes.set_ylabel(\"$y(x)$\",fontsize=12) # ЕСТЬ ПОДДЕРЖКА LaTeX!\n",
    "    axes.grid() # TODO почитать про настройки\n",
    "    axes.legend(loc=\"lower right\",fontsize=12)\n",
    "fig.tight_layout()\n",
    "fig.savefig(\"graph4.png\", dpi=300) # FIXME найти куда сохраняет ( в директорию откуда запущен питон ) \n",
    "\n",
    "plt.show() ## Всегда пишем в последний момент"
   ]
  },
  {
   "cell_type": "markdown",
   "id": "c05f4f45ee7d341b",
   "metadata": {
    "collapsed": false
   },
   "source": [
    "# Всегда подписывайте **Оси**"
   ]
  },
  {
   "cell_type": "code",
   "execution_count": null,
   "id": "7155eb29c13cbf0b",
   "metadata": {
    "ExecuteTime": {
     "end_time": "2024-03-19T18:11:09.399794Z",
     "start_time": "2024-03-19T18:11:09.394521Z"
    },
    "collapsed": false
   },
   "outputs": [
    {
     "data": {
      "text/plain": [
       "numpy.ndarray"
      ]
     },
     "execution_count": 58,
     "metadata": {},
     "output_type": "execute_result"
    }
   ],
   "source": [
    "type(ax) # нампай хранит оси "
   ]
  }
 ],
 "metadata": {
  "kernelspec": {
   "display_name": "Python 3",
   "language": "python",
   "name": "python3"
  },
  "language_info": {
   "codemirror_mode": {
    "name": "ipython",
    "version": 3
   },
   "file_extension": ".py",
   "mimetype": "text/x-python",
   "name": "python",
   "nbconvert_exporter": "python",
   "pygments_lexer": "ipython3",
   "version": "3.12.2"
  }
 },
 "nbformat": 4,
 "nbformat_minor": 5
}
