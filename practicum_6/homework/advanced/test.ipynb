{
 "cells": [
  {
   "cell_type": "code",
   "execution_count": 86,
   "id": "initial_id",
   "metadata": {
    "ExecuteTime": {
     "end_time": "2024-05-03T13:58:32.353624Z",
     "start_time": "2024-05-03T13:58:32.198970Z"
    },
    "collapsed": true
   },
   "outputs": [],
   "source": [
    "from collections import defaultdict\n",
    "from dataclasses import dataclass\n",
    "import os\n",
    "import yaml\n",
    "import time\n",
    "\n",
    "import numpy as np\n",
    "from numpy.typing import NDArray\n",
    "import scipy.io\n",
    "import scipy.linalg\n",
    "\n",
    "from src.linalg import get_scipy_solution"
   ]
  },
  {
   "cell_type": "code",
   "execution_count": 87,
   "id": "309ec94fba1cbebf",
   "metadata": {
    "ExecuteTime": {
     "end_time": "2024-05-03T13:58:32.358966Z",
     "start_time": "2024-05-03T13:58:32.354587Z"
    }
   },
   "outputs": [],
   "source": [
    "def lu(A: NDArray, permute: bool) -> tuple[NDArray, NDArray, NDArray]:\n",
    "    n = A.shape[0]\n",
    "    L = np.eye(n)\n",
    "    U = np.copy(A)\n",
    "    P = np.eye(n)\n",
    "\n",
    "    for column in range(n-1):\n",
    "        if(permute):\n",
    "            max_index = np.argmax(abs(U[column:, column])) + column\n",
    "            if max_index != column:\n",
    "                U[[column, max_index]] = U[[max_index, column]]\n",
    "                P[[column, max_index]] = P[[max_index, column]]\n",
    "                if column != 0:\n",
    "                    L[[column, max_index], :column] = L[[max_index, column], :column]\n",
    "            \n",
    "        a_diag_elem = U[column][column]\n",
    "        for row in range(column + 1, n):\n",
    "            coef = U[row][column] / a_diag_elem\n",
    "            L[row][column] = coef\n",
    "            print(f'строка = {row} , столбец - {column}, | {U[row]} - {U[column] * coef}')\n",
    "            U[row] -= (U[column] * coef)\n",
    "    return L, U, P"
   ]
  },
  {
   "cell_type": "code",
   "execution_count": 127,
   "id": "4301a25b4d1f4765",
   "metadata": {
    "ExecuteTime": {
     "end_time": "2024-05-03T13:58:32.361553Z",
     "start_time": "2024-05-03T13:58:32.359551Z"
    }
   },
   "outputs": [],
   "source": [
    "def solve(L: NDArray, U: NDArray, P: NDArray, b: NDArray) -> NDArray:\n",
    "    n = P.shape[0]\n",
    "    x = np.zeros((n, 1))\n",
    "    b_permuted = P.dot(b) # меняем местами стобцы b в соответствии с a\n",
    "    \n",
    "    # Обозначив вектор y как y = Ux мы находим его как решение уравнения: Ly = Pb = b_permutated\n",
    "    y = np.zeros((n, 1))\n",
    "    for i in range(n):\n",
    "        y[i] = b_permuted[i] -  (L[0:i+1 , 0:i+1] @ y[0:i+1])[i]\n",
    "    print(y)\n",
    "    \n",
    "    # Ux = y\n",
    "    x = np.zeros((n, 1))\n",
    "    for i in range(n):\n",
    "        x[i] = (y[i] - np.sum(U[i, i+1:] * x[i+1:])) / U[i, i]\n",
    "    return x"
   ]
  },
  {
   "cell_type": "code",
   "execution_count": 98,
   "id": "41d40350",
   "metadata": {},
   "outputs": [
    {
     "data": {
      "text/plain": [
       "array([8., 2., 7.])"
      ]
     },
     "execution_count": 98,
     "metadata": {},
     "output_type": "execute_result"
    }
   ],
   "source": [
    "b"
   ]
  },
  {
   "cell_type": "code",
   "execution_count": 129,
   "id": "594a0f2e",
   "metadata": {},
   "outputs": [
    {
     "name": "stdout",
     "output_type": "stream",
     "text": [
      "[[ 8.        ]\n",
      " [ 2.2       ]\n",
      " [-2.88235294]]\n"
     ]
    },
    {
     "data": {
      "text/plain": [
       "array([[1.6       ],\n",
       "       [0.64705882],\n",
       "       [0.77777778]])"
      ]
     },
     "execution_count": 129,
     "metadata": {},
     "output_type": "execute_result"
    }
   ],
   "source": [
    "solve(L,U,P,b)"
   ]
  },
  {
   "cell_type": "code",
   "execution_count": 91,
   "id": "3adff9d3c36badb7",
   "metadata": {
    "ExecuteTime": {
     "end_time": "2024-05-03T13:58:32.364970Z",
     "start_time": "2024-05-03T13:58:32.363173Z"
    }
   },
   "outputs": [
    {
     "data": {
      "text/plain": [
       "array([[5., 1., 7.],\n",
       "       [2., 3., 2.],\n",
       "       [3., 4., 8.]])"
      ]
     },
     "execution_count": 91,
     "metadata": {},
     "output_type": "execute_result"
    }
   ],
   "source": [
    "A = np.array([[5,1,7],[2,3,2],[3,4,8]] , dtype=np.float64)\n",
    "b = np.array([8,2,7] , dtype=np.float64)\n",
    "A"
   ]
  },
  {
   "cell_type": "code",
   "execution_count": 92,
   "id": "e6da5598",
   "metadata": {},
   "outputs": [
    {
     "name": "stdout",
     "output_type": "stream",
     "text": [
      "строка = 1 , столбец - 0, | [2. 3. 2.] - [2.  0.4 2.8]\n",
      "строка = 2 , столбец - 0, | [3. 4. 8.] - [3.  0.6 4.2]\n",
      "строка = 2 , столбец - 1, | [ 0.   2.6 -0.8] - [0.         2.6        2.90588235]\n"
     ]
    }
   ],
   "source": [
    "L,U,P = lu(A,True)"
   ]
  },
  {
   "cell_type": "code",
   "execution_count": 93,
   "id": "253346a6",
   "metadata": {},
   "outputs": [
    {
     "data": {
      "text/plain": [
       "array([[1.        , 0.        , 0.        ],\n",
       "       [0.6       , 1.        , 0.        ],\n",
       "       [0.4       , 0.76470588, 1.        ]])"
      ]
     },
     "execution_count": 93,
     "metadata": {},
     "output_type": "execute_result"
    }
   ],
   "source": [
    "L"
   ]
  },
  {
   "cell_type": "code",
   "execution_count": 94,
   "id": "28ffef72",
   "metadata": {},
   "outputs": [
    {
     "data": {
      "text/plain": [
       "array([[ 5.        ,  1.        ,  7.        ],\n",
       "       [ 0.        ,  3.4       ,  3.8       ],\n",
       "       [ 0.        ,  0.        , -3.70588235]])"
      ]
     },
     "execution_count": 94,
     "metadata": {},
     "output_type": "execute_result"
    }
   ],
   "source": [
    "U"
   ]
  },
  {
   "cell_type": "code",
   "execution_count": 95,
   "id": "eacf7395",
   "metadata": {},
   "outputs": [
    {
     "data": {
      "text/plain": [
       "array([[1., 0., 0.],\n",
       "       [0., 0., 1.],\n",
       "       [0., 1., 0.]])"
      ]
     },
     "execution_count": 95,
     "metadata": {},
     "output_type": "execute_result"
    }
   ],
   "source": [
    "P"
   ]
  },
  {
   "cell_type": "code",
   "execution_count": 96,
   "id": "0c1ffa46",
   "metadata": {},
   "outputs": [
    {
     "data": {
      "text/plain": [
       "array([[5., 1., 7.],\n",
       "       [2., 3., 2.],\n",
       "       [3., 4., 8.]])"
      ]
     },
     "execution_count": 96,
     "metadata": {},
     "output_type": "execute_result"
    }
   ],
   "source": [
    "np.linalg.inv(P) @ L @ U"
   ]
  }
 ],
 "metadata": {
  "kernelspec": {
   "display_name": "Python 3",
   "language": "python",
   "name": "python3"
  },
  "language_info": {
   "codemirror_mode": {
    "name": "ipython",
    "version": 3
   },
   "file_extension": ".py",
   "mimetype": "text/x-python",
   "name": "python",
   "nbconvert_exporter": "python",
   "pygments_lexer": "ipython3",
   "version": "3.12.2"
  }
 },
 "nbformat": 4,
 "nbformat_minor": 5
}
