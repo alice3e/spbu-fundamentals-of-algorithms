{
 "cells": [
  {
   "cell_type": "code",
   "outputs": [],
   "source": [
    "import numpy as np"
   ],
   "metadata": {
    "collapsed": false,
    "ExecuteTime": {
     "end_time": "2024-03-23T09:32:55.606983Z",
     "start_time": "2024-03-23T09:32:55.473546Z"
    }
   },
   "id": "d6a274f207c71e5b",
   "execution_count": 56
  },
  {
   "cell_type": "markdown",
   "source": [
    "## 1.2 Создание массива"
   ],
   "metadata": {
    "collapsed": false
   },
   "id": "18c68b3963a6ab64"
  },
  {
   "cell_type": "markdown",
   "source": [
    "<img src=\"https://ucarecdn.com/09b174e8-e8b2-4c10-990c-570057daf8c8/\" alt=\"drawing\" width=\"400\"/>.\n",
    "<img src=\"https://ucarecdn.com/a659ae99-e9f5-4523-be7d-eae05bfbf195/\" alt=\"drawing\" width=\"600\"/>.\n",
    "<img src=\"https://ucarecdn.com/06e69802-f635-45dc-a3a9-95337ce1a6b8/\" width=\"800\"/>.\n",
    "<img src=\"https://ucarecdn.com/1450cdcd-22ac-40e0-86ef-05ff27bf8510/\" width=\"400\"/>."
   ],
   "metadata": {
    "collapsed": false
   },
   "id": "6e75f645c2f9c2b9"
  },
  {
   "cell_type": "code",
   "outputs": [
    {
     "name": "stdout",
     "output_type": "stream",
     "text": [
      "[1 2 3]\n",
      "[[ 1.  2.  3.  4.]\n",
      " [ 5.  6.  7.  8.]\n",
      " [ 9. 10. 11. 12.]\n",
      " [13. 14. 15. 16.]]\n",
      "[[0. 0. 0. 0. 0.]\n",
      " [0. 0. 0. 0. 0.]\n",
      " [0. 0. 0. 0. 0.]]\n",
      "[[1. 1. 1. 1. 1.]]\n"
     ]
    }
   ],
   "source": [
    "a = np.array([1,2,3])\n",
    "b = np.array(([1,2,3,4],[5,6,7,8],[9,10,11,12],[13,14,15,16]), dtype=np.float64)\n",
    "c = np.zeros((3,5))\n",
    "d = np.ones((1,5))\n",
    "print(a)\n",
    "print(b)\n",
    "print(c)\n",
    "print(d)"
   ],
   "metadata": {
    "collapsed": false,
    "ExecuteTime": {
     "end_time": "2024-03-23T09:32:55.641586Z",
     "start_time": "2024-03-23T09:32:55.610261Z"
    }
   },
   "id": "78b807253df7211c",
   "execution_count": 57
  },
  {
   "cell_type": "code",
   "outputs": [
    {
     "data": {
      "text/plain": "array([0, 1, 2, 3, 4, 5, 6, 7, 8, 9])"
     },
     "execution_count": 58,
     "metadata": {},
     "output_type": "execute_result"
    }
   ],
   "source": [
    "np.arange(10)"
   ],
   "metadata": {
    "collapsed": false,
    "ExecuteTime": {
     "end_time": "2024-03-23T09:32:55.663247Z",
     "start_time": "2024-03-23T09:32:55.636657Z"
    }
   },
   "id": "2eccf7b360cc533e",
   "execution_count": 58
  },
  {
   "cell_type": "code",
   "outputs": [
    {
     "data": {
      "text/plain": "array([1, 2, 3, 4])"
     },
     "execution_count": 59,
     "metadata": {},
     "output_type": "execute_result"
    }
   ],
   "source": [
    "np.arange(1,5)"
   ],
   "metadata": {
    "collapsed": false,
    "ExecuteTime": {
     "end_time": "2024-03-23T09:32:55.666910Z",
     "start_time": "2024-03-23T09:32:55.646483Z"
    }
   },
   "id": "93c3c959e3efbb05",
   "execution_count": 59
  },
  {
   "cell_type": "code",
   "outputs": [
    {
     "name": "stdout",
     "output_type": "stream",
     "text": [
      "[0.  0.1 0.2 0.3 0.4 0.5 0.6 0.7 0.8 0.9 1. ]\n"
     ]
    }
   ],
   "source": [
    "print(np.arange(0,1 + 0.1,0.1))\n"
   ],
   "metadata": {
    "collapsed": false,
    "ExecuteTime": {
     "end_time": "2024-03-23T09:32:55.697159Z",
     "start_time": "2024-03-23T09:32:55.668825Z"
    }
   },
   "id": "5a8089b13ed06674",
   "execution_count": 60
  },
  {
   "cell_type": "code",
   "outputs": [
    {
     "name": "stdout",
     "output_type": "stream",
     "text": [
      "[0.         0.02040816 0.04081633 0.06122449 0.08163265 0.10204082\n",
      " 0.12244898 0.14285714 0.16326531 0.18367347 0.20408163 0.2244898\n",
      " 0.24489796 0.26530612 0.28571429 0.30612245 0.32653061 0.34693878\n",
      " 0.36734694 0.3877551  0.40816327 0.42857143 0.44897959 0.46938776\n",
      " 0.48979592 0.51020408 0.53061224 0.55102041 0.57142857 0.59183673\n",
      " 0.6122449  0.63265306 0.65306122 0.67346939 0.69387755 0.71428571\n",
      " 0.73469388 0.75510204 0.7755102  0.79591837 0.81632653 0.83673469\n",
      " 0.85714286 0.87755102 0.89795918 0.91836735 0.93877551 0.95918367\n",
      " 0.97959184 1.        ]\n"
     ]
    }
   ],
   "source": [
    "print(np.linspace(0,1)) # num (необязательный): Количество элементов в массиве. По умолчанию 50."
   ],
   "metadata": {
    "collapsed": false,
    "ExecuteTime": {
     "end_time": "2024-03-23T09:32:55.700226Z",
     "start_time": "2024-03-23T09:32:55.681787Z"
    }
   },
   "id": "8a5c3c9ea444b678",
   "execution_count": 61
  },
  {
   "cell_type": "code",
   "outputs": [
    {
     "data": {
      "text/plain": "array([0.   , 0.625, 1.25 , 1.875, 2.5  , 3.125, 3.75 , 4.375, 5.   ])"
     },
     "execution_count": 62,
     "metadata": {},
     "output_type": "execute_result"
    }
   ],
   "source": [
    "np.linspace(0,5,9)"
   ],
   "metadata": {
    "collapsed": false,
    "ExecuteTime": {
     "end_time": "2024-03-23T09:32:55.748299Z",
     "start_time": "2024-03-23T09:32:55.702869Z"
    }
   },
   "id": "2a3ef6532c009065",
   "execution_count": 62
  },
  {
   "cell_type": "code",
   "outputs": [
    {
     "data": {
      "text/plain": "array([[7, 7, 7],\n       [7, 7, 7],\n       [7, 7, 7]])"
     },
     "execution_count": 63,
     "metadata": {},
     "output_type": "execute_result"
    }
   ],
   "source": [
    "np.full((3,3),7)"
   ],
   "metadata": {
    "collapsed": false,
    "ExecuteTime": {
     "end_time": "2024-03-23T09:32:55.763231Z",
     "start_time": "2024-03-23T09:32:55.717991Z"
    }
   },
   "id": "6739b04b99664a4c",
   "execution_count": 63
  },
  {
   "cell_type": "code",
   "outputs": [
    {
     "data": {
      "text/plain": "array([[1., 1., 1.],\n       [1., 1., 1.],\n       [1., 1., 1.]])"
     },
     "execution_count": 64,
     "metadata": {},
     "output_type": "execute_result"
    }
   ],
   "source": [
    "np.ones([3,3])"
   ],
   "metadata": {
    "collapsed": false,
    "ExecuteTime": {
     "end_time": "2024-03-23T09:32:55.813751Z",
     "start_time": "2024-03-23T09:32:55.765307Z"
    }
   },
   "id": "e44d3f3ff3e0ec7e",
   "execution_count": 64
  },
  {
   "cell_type": "markdown",
   "source": [
    "## 1.3 Создание массива часть 2"
   ],
   "metadata": {
    "collapsed": false
   },
   "id": "a35711ead7305091"
  },
  {
   "cell_type": "code",
   "outputs": [
    {
     "data": {
      "text/plain": "array([[1., 1.],\n       [1., 1.],\n       [1., 1.]])"
     },
     "execution_count": 65,
     "metadata": {},
     "output_type": "execute_result"
    }
   ],
   "source": [
    "np.ones([3,2])"
   ],
   "metadata": {
    "collapsed": false,
    "ExecuteTime": {
     "end_time": "2024-03-23T09:32:55.854360Z",
     "start_time": "2024-03-23T09:32:55.807221Z"
    }
   },
   "id": "3131925c3079450d",
   "execution_count": 65
  },
  {
   "cell_type": "markdown",
   "source": [
    "<img src=\"https://ucarecdn.com/c6cf7ceb-9a35-4001-9410-2259da43d47c/\" width=\"600\"/>.\n",
    "<img src=\"https://ucarecdn.com/c544842a-29cd-48d8-b4a6-1d139228f5d3/\" width=\"300\"/>."
   ],
   "metadata": {
    "collapsed": false
   },
   "id": "aa3c5beba509f735"
  },
  {
   "cell_type": "code",
   "outputs": [
    {
     "name": "stdout",
     "output_type": "stream",
     "text": [
      "[[ 1.  2.  3.  4.]\n",
      " [ 5.  6.  7.  8.]\n",
      " [ 9. 10. 11. 12.]\n",
      " [13. 14. 15. 16.]]\n",
      "2\n",
      "(4, 4)\n",
      "16\n"
     ]
    }
   ],
   "source": [
    "print(b)\n",
    "print(np.ndim(b))\n",
    "print(np.shape(b))\n",
    "print(np.size(b))"
   ],
   "metadata": {
    "collapsed": false,
    "ExecuteTime": {
     "end_time": "2024-03-23T09:32:55.872502Z",
     "start_time": "2024-03-23T09:32:55.854587Z"
    }
   },
   "id": "97f90c301a0fd330",
   "execution_count": 66
  },
  {
   "cell_type": "code",
   "outputs": [
    {
     "name": "stdout",
     "output_type": "stream",
     "text": [
      "[[1. 0. 0.]\n",
      " [0. 1. 0.]\n",
      " [0. 0. 1.]\n",
      " [0. 0. 0.]\n",
      " [0. 0. 0.]]\n",
      "[[1. 0. 0.]\n",
      " [0. 1. 0.]\n",
      " [0. 0. 1.]]\n",
      "[[1. 0. 0.]\n",
      " [0. 1. 0.]\n",
      " [0. 0. 1.]]\n",
      "\n",
      "[[0. 0. 1. 0. 0.]\n",
      " [0. 0. 0. 1. 0.]\n",
      " [0. 0. 0. 0. 1.]\n",
      " [0. 0. 0. 0. 0.]\n",
      " [0. 0. 0. 0. 0.]]\n"
     ]
    }
   ],
   "source": [
    "print(np.eye(5,3)) # Еденичная матрица\n",
    "print(np.eye(3,3)) # аналогично identity\n",
    "print(np.identity(3)) # создает квадратную матрицу с единицами на главной диагонали и нулями в остальных местах.\n",
    "# В отличие от numpy.identity,  numpy.eye позволяет создавать матрицы с единичной диагональю \n",
    "# произвольной размерности и выполнять сдвиг этой диагонали относительно главной диагонали.\n",
    "print('')\n",
    "print(np.eye(5,k=2))"
   ],
   "metadata": {
    "collapsed": false,
    "ExecuteTime": {
     "end_time": "2024-03-23T09:32:55.899165Z",
     "start_time": "2024-03-23T09:32:55.872813Z"
    }
   },
   "id": "74f98c525b896ca2",
   "execution_count": 67
  },
  {
   "cell_type": "code",
   "outputs": [
    {
     "data": {
      "text/plain": "array([[0.11370715, 0.92533356, 0.18117333],\n       [0.10389123, 0.68297208, 0.48254231],\n       [0.40239842, 0.22598218, 0.95691249]])"
     },
     "execution_count": 68,
     "metadata": {},
     "output_type": "execute_result"
    }
   ],
   "source": [
    "np.random.rand( 3,3 )"
   ],
   "metadata": {
    "collapsed": false,
    "ExecuteTime": {
     "end_time": "2024-03-23T09:32:55.909919Z",
     "start_time": "2024-03-23T09:32:55.884074Z"
    }
   },
   "id": "7eb0874f71d56fbb",
   "execution_count": 68
  },
  {
   "cell_type": "code",
   "outputs": [
    {
     "data": {
      "text/plain": "4"
     },
     "execution_count": 69,
     "metadata": {},
     "output_type": "execute_result"
    }
   ],
   "source": [
    "np.random.randint(10) # случайное число от 0 до 10 (целое)"
   ],
   "metadata": {
    "collapsed": false,
    "ExecuteTime": {
     "end_time": "2024-03-23T09:32:55.935374Z",
     "start_time": "2024-03-23T09:32:55.904793Z"
    }
   },
   "id": "4bd848cfa67960cd",
   "execution_count": 69
  },
  {
   "cell_type": "code",
   "outputs": [
    {
     "name": "stdout",
     "output_type": "stream",
     "text": [
      "[5 2 5 5 5]\n"
     ]
    }
   ],
   "source": [
    "print(np.random.randint(1,10, size=5))"
   ],
   "metadata": {
    "collapsed": false,
    "ExecuteTime": {
     "end_time": "2024-03-23T09:32:55.940836Z",
     "start_time": "2024-03-23T09:32:55.916757Z"
    }
   },
   "id": "800e5d92a999bc52",
   "execution_count": 70
  },
  {
   "cell_type": "code",
   "outputs": [
    {
     "name": "stdout",
     "output_type": "stream",
     "text": [
      "[[6 9 7]\n",
      " [4 2 1]\n",
      " [2 4 7]]\n"
     ]
    }
   ],
   "source": [
    "print(np.random.randint(1,10, size=(3,3)))"
   ],
   "metadata": {
    "collapsed": false,
    "ExecuteTime": {
     "end_time": "2024-03-23T09:32:55.978203Z",
     "start_time": "2024-03-23T09:32:55.941006Z"
    }
   },
   "id": "5e266bdcdccd83ae",
   "execution_count": 71
  },
  {
   "cell_type": "code",
   "outputs": [
    {
     "data": {
      "text/plain": "array([[1, 2],\n       [3, 4]])"
     },
     "execution_count": 72,
     "metadata": {},
     "output_type": "execute_result"
    }
   ],
   "source": [
    "small_arr = np.array([[1,2],[3,4]])\n",
    "small_arr"
   ],
   "metadata": {
    "collapsed": false,
    "ExecuteTime": {
     "end_time": "2024-03-23T09:32:55.988269Z",
     "start_time": "2024-03-23T09:32:55.954047Z"
    }
   },
   "id": "14df0670e68f0e93",
   "execution_count": 72
  },
  {
   "cell_type": "code",
   "outputs": [
    {
     "name": "stdout",
     "output_type": "stream",
     "text": [
      "[[1 2 1 2 1 2]\n",
      " [3 4 3 4 3 4]]\n"
     ]
    }
   ],
   "source": [
    "print(np.tile(small_arr,reps=3))"
   ],
   "metadata": {
    "collapsed": false,
    "ExecuteTime": {
     "end_time": "2024-03-23T09:32:56.009194Z",
     "start_time": "2024-03-23T09:32:55.983302Z"
    }
   },
   "id": "91fcfd770802f6a0",
   "execution_count": 73
  },
  {
   "cell_type": "code",
   "outputs": [
    {
     "name": "stdout",
     "output_type": "stream",
     "text": [
      "[[1 2 1 2 1 2]\n",
      " [3 4 3 4 3 4]\n",
      " [1 2 1 2 1 2]\n",
      " [3 4 3 4 3 4]\n",
      " [1 2 1 2 1 2]\n",
      " [3 4 3 4 3 4]]\n"
     ]
    }
   ],
   "source": [
    "print(np.tile(small_arr,reps=(3,3)))"
   ],
   "metadata": {
    "collapsed": false,
    "ExecuteTime": {
     "end_time": "2024-03-23T09:32:56.020493Z",
     "start_time": "2024-03-23T09:32:56.010585Z"
    }
   },
   "id": "5c5919cfc31548db",
   "execution_count": 74
  },
  {
   "cell_type": "markdown",
   "source": [
    "## 1.4 Типы Данных\n",
    "\n",
    "int(16-64), float(16-64), complex(64-128), bool, string, object (используется для хранения произвольных объектов Python в массивах NumPy)"
   ],
   "metadata": {
    "collapsed": false
   },
   "id": "af587bf08a8fea69"
  },
  {
   "cell_type": "code",
   "outputs": [
    {
     "name": "stdout",
     "output_type": "stream",
     "text": [
      "[[0.2 0.4 0.6 0.8]\n",
      " [1.  1.2 1.4 1.6]\n",
      " [1.8 2.  2.2 2.4]\n",
      " [2.6 2.8 3.  3.2]]\n",
      "float64\n"
     ]
    },
    {
     "data": {
      "text/plain": "dtype('float64')"
     },
     "execution_count": 75,
     "metadata": {},
     "output_type": "execute_result"
    }
   ],
   "source": [
    "print(b*0.2)\n",
    "print(np.dtype(b[0][0]))\n",
    "b.dtype"
   ],
   "metadata": {
    "collapsed": false,
    "ExecuteTime": {
     "end_time": "2024-03-23T09:32:56.030253Z",
     "start_time": "2024-03-23T09:32:56.021857Z"
    }
   },
   "id": "61652613e1fda2c5",
   "execution_count": 75
  },
  {
   "cell_type": "code",
   "outputs": [
    {
     "name": "stdout",
     "output_type": "stream",
     "text": [
      "[[0 0 0 0]\n",
      " [1 1 1 1]\n",
      " [1 2 2 2]\n",
      " [2 2 3 3]]\n"
     ]
    },
    {
     "data": {
      "text/plain": "dtype('float64')"
     },
     "execution_count": 76,
     "metadata": {},
     "output_type": "execute_result"
    }
   ],
   "source": [
    "# array.astype(dtype, order='K', casting='unsafe', subok=True, copy=True)\n",
    "b_int = (b*0.2).astype(np.int64)\n",
    "print(b_int)\n",
    "b.dtype"
   ],
   "metadata": {
    "collapsed": false,
    "ExecuteTime": {
     "end_time": "2024-03-23T09:32:56.060315Z",
     "start_time": "2024-03-23T09:32:56.030391Z"
    }
   },
   "id": "db09a3509189f26f",
   "execution_count": 76
  },
  {
   "cell_type": "markdown",
   "source": [
    "Задача: Предположим, у вас есть два датасета с данными о температуре и влажности. Каждый датасет представлен в виде двумерного массива, где строки представляют дни, а столбцы представляют конкретные моменты времени в течение дня. Тип данных - int. Но вам нужно изменить их на float."
   ],
   "metadata": {
    "collapsed": false
   },
   "id": "9c1a32eb41e2feda"
  },
  {
   "cell_type": "code",
   "outputs": [
    {
     "name": "stdout",
     "output_type": "stream",
     "text": [
      "Новый тип данных temp_data: float64\n",
      "Новый тип данных humid_data: float64\n"
     ]
    }
   ],
   "source": [
    "# put your python code here\n",
    "import numpy as np\n",
    "\n",
    "# Датасет температуры (тип данных: int)\n",
    "temp_data = np.array([[22, 25, 24, 23, 21],\n",
    "                      [20, 18, 19, 22, 24]])\n",
    "\n",
    "# Датасет влажности (тип данных: int)\n",
    "humid_data = np.array([[45, 50, 48, 52, 47],\n",
    "                       [45, 48, 50, 51, 53]])\n",
    "\n",
    "def change_data_type(data_set: np.array, data_type: np.dtype):  # добавь два аргумента для функции согласно условию\n",
    "    return  data_set.astype(data_type)\n",
    "\n",
    "temp_data =  change_data_type(temp_data, np.float64)\n",
    "humid_data =  change_data_type(humid_data, np.float64)\n",
    "\n",
    "print(f'Новый тип данных temp_data: {temp_data.dtype}')\n",
    "print(f'Новый тип данных humid_data: {humid_data.dtype}')"
   ],
   "metadata": {
    "collapsed": false,
    "ExecuteTime": {
     "end_time": "2024-03-23T09:32:56.069192Z",
     "start_time": "2024-03-23T09:32:56.035062Z"
    }
   },
   "id": "718899fd891ba440",
   "execution_count": 77
  },
  {
   "cell_type": "code",
   "outputs": [
    {
     "ename": "ValueError",
     "evalue": "setting an array element with a sequence. The requested array has an inhomogeneous shape after 1 dimensions. The detected shape was (5,) + inhomogeneous part.",
     "output_type": "error",
     "traceback": [
      "\u001B[0;31m---------------------------------------------------------------------------\u001B[0m",
      "\u001B[0;31mValueError\u001B[0m                                Traceback (most recent call last)",
      "Cell \u001B[0;32mIn[78], line 1\u001B[0m\n\u001B[0;32m----> 1\u001B[0m arr \u001B[38;5;241m=\u001B[39m np\u001B[38;5;241m.\u001B[39marray([\u001B[38;5;241m1\u001B[39m, \u001B[38;5;124m'\u001B[39m\u001B[38;5;124ma\u001B[39m\u001B[38;5;124m'\u001B[39m, \u001B[38;5;28;01mTrue\u001B[39;00m, (\u001B[38;5;241m2\u001B[39m, \u001B[38;5;241m3\u001B[39m), [\u001B[38;5;241m4\u001B[39m, \u001B[38;5;241m5\u001B[39m]])\n",
      "\u001B[0;31mValueError\u001B[0m: setting an array element with a sequence. The requested array has an inhomogeneous shape after 1 dimensions. The detected shape was (5,) + inhomogeneous part."
     ]
    }
   ],
   "source": [
    "arr = np.array([1, 'a', True, (2, 3), [4, 5]])"
   ],
   "metadata": {
    "collapsed": false,
    "ExecuteTime": {
     "end_time": "2024-03-23T09:32:56.114936Z",
     "start_time": "2024-03-23T09:32:56.072096Z"
    }
   },
   "id": "59f391b5c93a50c4",
   "execution_count": 78
  },
  {
   "cell_type": "markdown",
   "source": [
    "В NumPy, тип данных object представляет собой общий и гибкий тип, который может хранить объекты произвольного типа. Когда массив имеет тип данных object, это означает, что элементы массива могут быть любого типа данных, и каждый элемент массива фактически является объектом Python."
   ],
   "metadata": {
    "collapsed": false
   },
   "id": "696e75cc82bd182c"
  },
  {
   "cell_type": "code",
   "outputs": [
    {
     "data": {
      "text/plain": "array([1, 'a', True, (2, 3), list([4, 5])], dtype=object)"
     },
     "execution_count": 79,
     "metadata": {},
     "output_type": "execute_result"
    }
   ],
   "source": [
    "arr = np.array([1, 'a', True, (2, 3), [4, 5]], dtype=object)\n",
    "arr"
   ],
   "metadata": {
    "collapsed": false,
    "ExecuteTime": {
     "end_time": "2024-03-23T09:32:56.140039Z",
     "start_time": "2024-03-23T09:32:56.108908Z"
    }
   },
   "id": "4cd476d886ccf3a7",
   "execution_count": 79
  },
  {
   "cell_type": "markdown",
   "source": [
    "## 1.5 Арифметические операции с массивами\n",
    "<img src=\"https://ucarecdn.com/f1a8b477-8350-4933-808f-d7c18ab5b2bc/\" width=1300>.\n",
    "<img src=\"https://ucarecdn.com/1babf19f-aa71-4730-b7dd-9bfe173b4e91/\" width=700>.\n",
    "**Где @ - краткая форма записи матричного умножения (np.matmul)**"
   ],
   "metadata": {
    "collapsed": false
   },
   "id": "4b46550cad2172be"
  },
  {
   "cell_type": "code",
   "outputs": [
    {
     "name": "stdout",
     "output_type": "stream",
     "text": [
      "[1 2 3]\n",
      "[[ 1.  2.  3.  4.]\n",
      " [ 5.  6.  7.  8.]\n",
      " [ 9. 10. 11. 12.]\n",
      " [13. 14. 15. 16.]]\n"
     ]
    }
   ],
   "source": [
    "print(a)\n",
    "print(b)"
   ],
   "metadata": {
    "collapsed": false,
    "ExecuteTime": {
     "end_time": "2024-03-23T09:32:56.162713Z",
     "start_time": "2024-03-23T09:32:56.141621Z"
    }
   },
   "id": "506819b150608e54",
   "execution_count": 80
  },
  {
   "cell_type": "code",
   "outputs": [
    {
     "ename": "ValueError",
     "evalue": "operands could not be broadcast together with shapes (3,) (4,4) ",
     "output_type": "error",
     "traceback": [
      "\u001B[0;31m---------------------------------------------------------------------------\u001B[0m",
      "\u001B[0;31mValueError\u001B[0m                                Traceback (most recent call last)",
      "Cell \u001B[0;32mIn[81], line 1\u001B[0m\n\u001B[0;32m----> 1\u001B[0m a \u001B[38;5;241m+\u001B[39m b\n",
      "\u001B[0;31mValueError\u001B[0m: operands could not be broadcast together with shapes (3,) (4,4) "
     ]
    }
   ],
   "source": [
    "a + b"
   ],
   "metadata": {
    "collapsed": false,
    "ExecuteTime": {
     "end_time": "2024-03-23T09:32:56.199690Z",
     "start_time": "2024-03-23T09:32:56.164795Z"
    }
   },
   "id": "c9a3ee26e390951c",
   "execution_count": 81
  },
  {
   "cell_type": "code",
   "outputs": [
    {
     "ename": "ValueError",
     "evalue": "operands could not be broadcast together with shapes (3,) (4,4) ",
     "output_type": "error",
     "traceback": [
      "\u001B[0;31m---------------------------------------------------------------------------\u001B[0m",
      "\u001B[0;31mValueError\u001B[0m                                Traceback (most recent call last)",
      "Cell \u001B[0;32mIn[82], line 1\u001B[0m\n\u001B[0;32m----> 1\u001B[0m a \u001B[38;5;241m*\u001B[39m b\n",
      "\u001B[0;31mValueError\u001B[0m: operands could not be broadcast together with shapes (3,) (4,4) "
     ]
    }
   ],
   "source": [
    "a * b"
   ],
   "metadata": {
    "collapsed": false,
    "ExecuteTime": {
     "start_time": "2024-03-23T09:32:56.190617Z"
    }
   },
   "id": "11c98126425cfbf",
   "execution_count": 82
  },
  {
   "cell_type": "code",
   "outputs": [
    {
     "data": {
      "text/plain": "array([[ 5., 10., 15., 20.],\n       [25., 30., 35., 40.],\n       [45., 50., 55., 60.],\n       [65., 70., 75., 80.]])"
     },
     "execution_count": 83,
     "metadata": {},
     "output_type": "execute_result"
    }
   ],
   "source": [
    "5 * b"
   ],
   "metadata": {
    "collapsed": false,
    "ExecuteTime": {
     "end_time": "2024-03-23T09:32:56.237808Z",
     "start_time": "2024-03-23T09:32:56.209484Z"
    }
   },
   "id": "2f4a508e128474f0",
   "execution_count": 83
  },
  {
   "cell_type": "code",
   "outputs": [
    {
     "data": {
      "text/plain": "array([[ 11.,  22.,  33.,  44.],\n       [ 55.,  66.,  77.,  88.],\n       [ 99., 110., 121., 132.],\n       [143., 154., 165., 176.]])"
     },
     "execution_count": 84,
     "metadata": {},
     "output_type": "execute_result"
    }
   ],
   "source": [
    "b_copy = b * 10\n",
    "b + b_copy"
   ],
   "metadata": {
    "collapsed": false,
    "ExecuteTime": {
     "end_time": "2024-03-23T09:32:56.280045Z",
     "start_time": "2024-03-23T09:32:56.239973Z"
    }
   },
   "id": "8033c572c994e8d4",
   "execution_count": 84
  },
  {
   "cell_type": "code",
   "outputs": [
    {
     "name": "stdout",
     "output_type": "stream",
     "text": [
      "[[ 900. 1000. 1100. 1200.]\n",
      " [2020. 2280. 2540. 2800.]\n",
      " [3140. 3560. 3980. 4400.]\n",
      " [4260. 4840. 5420. 6000.]]\n"
     ]
    }
   ],
   "source": [
    "print(b @ b_copy)"
   ],
   "metadata": {
    "collapsed": false,
    "ExecuteTime": {
     "end_time": "2024-03-23T09:32:56.329167Z",
     "start_time": "2024-03-23T09:32:56.275243Z"
    }
   },
   "id": "e44ce178e5d3c8c5",
   "execution_count": 85
  },
  {
   "cell_type": "code",
   "outputs": [
    {
     "name": "stdout",
     "output_type": "stream",
     "text": [
      "[[  10.   40.   90.  160.]\n",
      " [ 250.  360.  490.  640.]\n",
      " [ 810. 1000. 1210. 1440.]\n",
      " [1690. 1960. 2250. 2560.]]\n"
     ]
    }
   ],
   "source": [
    "print(b * b_copy)"
   ],
   "metadata": {
    "collapsed": false,
    "ExecuteTime": {
     "end_time": "2024-03-23T09:32:56.352861Z",
     "start_time": "2024-03-23T09:32:56.325688Z"
    }
   },
   "id": "b437aaba9b4cbcff",
   "execution_count": 86
  },
  {
   "cell_type": "code",
   "outputs": [
    {
     "name": "stdout",
     "output_type": "stream",
     "text": [
      "[1 2 3]\n",
      "[ 5 10 15]\n"
     ]
    }
   ],
   "source": [
    "print(a)\n",
    "print(a * 5)"
   ],
   "metadata": {
    "collapsed": false,
    "ExecuteTime": {
     "end_time": "2024-03-23T09:32:56.361999Z",
     "start_time": "2024-03-23T09:32:56.348536Z"
    }
   },
   "id": "951ab571e664b582",
   "execution_count": 87
  },
  {
   "cell_type": "code",
   "outputs": [
    {
     "name": "stdout",
     "output_type": "stream",
     "text": [
      "[[ 6.  7.  8.]\n",
      " [10. 11. 12.]\n",
      " [14. 15. 16.]]\n",
      "[[ 7.  9. 11.]\n",
      " [11. 13. 15.]\n",
      " [15. 17. 19.]]\n"
     ]
    }
   ],
   "source": [
    "b_copy = b[1: , 1:] # сделали 3x3\n",
    "print(b_copy)\n",
    "print(a + b_copy) # построчное сложение"
   ],
   "metadata": {
    "collapsed": false,
    "ExecuteTime": {
     "end_time": "2024-03-23T09:32:56.373829Z",
     "start_time": "2024-03-23T09:32:56.364349Z"
    }
   },
   "id": "f5cdfba0c0206a21",
   "execution_count": 88
  },
  {
   "cell_type": "code",
   "outputs": [
    {
     "name": "stdout",
     "output_type": "stream",
     "text": [
      "[0 0 0]\n"
     ]
    }
   ],
   "source": [
    "print(a + a*-1)"
   ],
   "metadata": {
    "collapsed": false,
    "ExecuteTime": {
     "end_time": "2024-03-23T09:32:56.388376Z",
     "start_time": "2024-03-23T09:32:56.374451Z"
    }
   },
   "id": "d102fee0b54fcdbc",
   "execution_count": 89
  },
  {
   "cell_type": "code",
   "outputs": [
    {
     "data": {
      "text/plain": "array([[0.25, 0.5 , 0.75],\n       [1.  , 1.25, 1.5 ],\n       [1.75, 2.  , 2.25]])"
     },
     "execution_count": 96,
     "metadata": {},
     "output_type": "execute_result"
    }
   ],
   "source": [
    "arr1 = np.array([[1, 2, 3],\n",
    "                 [4, 5, 6],\n",
    "                 [7, 8, 9]])\n",
    "\n",
    "arr1 / 4"
   ],
   "metadata": {
    "collapsed": false,
    "ExecuteTime": {
     "end_time": "2024-03-23T09:37:25.240535Z",
     "start_time": "2024-03-23T09:37:25.226036Z"
    }
   },
   "id": "262f7a013884b721",
   "execution_count": 96
  },
  {
   "cell_type": "code",
   "outputs": [
    {
     "data": {
      "text/plain": "array([[ 1,  4,  9],\n       [16, 25, 36],\n       [49, 64, 81]])"
     },
     "execution_count": 97,
     "metadata": {},
     "output_type": "execute_result"
    }
   ],
   "source": [
    "arr1 ** 2"
   ],
   "metadata": {
    "collapsed": false,
    "ExecuteTime": {
     "end_time": "2024-03-23T09:37:31.221590Z",
     "start_time": "2024-03-23T09:37:31.210769Z"
    }
   },
   "id": "383f6b89e097d54",
   "execution_count": 97
  },
  {
   "cell_type": "code",
   "outputs": [
    {
     "data": {
      "text/plain": "array([[   1,    2,    3],\n       [   1, 2000, 3000],\n       [1000, 2000, 3000]])"
     },
     "execution_count": 99,
     "metadata": {},
     "output_type": "execute_result"
    }
   ],
   "source": [
    "np.where(arr1 < 5, a , a*1000) # if statement, YES cond, NO cond"
   ],
   "metadata": {
    "collapsed": false,
    "ExecuteTime": {
     "end_time": "2024-03-23T09:41:12.329811Z",
     "start_time": "2024-03-23T09:41:12.314966Z"
    }
   },
   "id": "c51f50815bcb8392",
   "execution_count": 99
  },
  {
   "cell_type": "code",
   "outputs": [
    {
     "name": "stdout",
     "output_type": "stream",
     "text": [
      "[[ 10  20  30]\n",
      " [ 80 100 120]\n",
      " [210 240 270]]\n"
     ]
    }
   ],
   "source": [
    "matrix_a = np.array([[1, 2, 3],\n",
    "                     [4, 5, 6],\n",
    "                     [7, 8, 9]])\n",
    "\n",
    "vec_b = np.array([10,20,30]).reshape(3,1) # создайте вектор-столбец\n",
    "\n",
    "\n",
    "print(matrix_a*vec_b)"
   ],
   "metadata": {
    "collapsed": false,
    "ExecuteTime": {
     "end_time": "2024-03-23T09:48:40.986231Z",
     "start_time": "2024-03-23T09:48:40.974826Z"
    }
   },
   "id": "6dfff752a8de2536",
   "execution_count": 107
  },
  {
   "cell_type": "markdown",
   "source": [
    "## 1.6 Индексы и срезы"
   ],
   "metadata": {
    "collapsed": false
   },
   "id": "e09439ee3d66b947"
  }
 ],
 "metadata": {
  "kernelspec": {
   "display_name": "Python 3",
   "language": "python",
   "name": "python3"
  },
  "language_info": {
   "codemirror_mode": {
    "name": "ipython",
    "version": 2
   },
   "file_extension": ".py",
   "mimetype": "text/x-python",
   "name": "python",
   "nbconvert_exporter": "python",
   "pygments_lexer": "ipython2",
   "version": "2.7.6"
  }
 },
 "nbformat": 4,
 "nbformat_minor": 5
}
