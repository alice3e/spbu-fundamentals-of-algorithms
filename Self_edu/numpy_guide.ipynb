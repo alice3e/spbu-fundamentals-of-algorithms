{
 "cells": [
  {
   "cell_type": "code",
   "execution_count": 1,
   "id": "d6a274f207c71e5b",
   "metadata": {
    "ExecuteTime": {
     "end_time": "2024-04-09T11:45:30.042686Z",
     "start_time": "2024-04-09T11:45:29.973965Z"
    }
   },
   "outputs": [],
   "source": [
    "import numpy as np\n"
   ]
  },
  {
   "cell_type": "markdown",
   "id": "f91c755a8a421417",
   "metadata": {},
   "source": [
    "# 1. Многомерный обьект массива"
   ]
  },
  {
   "cell_type": "markdown",
   "id": "18c68b3963a6ab64",
   "metadata": {},
   "source": [
    "## 1.2 Создание массива"
   ]
  },
  {
   "cell_type": "markdown",
   "id": "6e75f645c2f9c2b9",
   "metadata": {},
   "source": [
    "<img src=\"https://ucarecdn.com/09b174e8-e8b2-4c10-990c-570057daf8c8/\" alt=\"drawing\" width=\"400\"/>.\n",
    "<img src=\"https://ucarecdn.com/a659ae99-e9f5-4523-be7d-eae05bfbf195/\" alt=\"drawing\" width=\"600\"/>.\n",
    "<img src=\"https://ucarecdn.com/06e69802-f635-45dc-a3a9-95337ce1a6b8/\" width=\"800\"/>.\n",
    "<img src=\"https://ucarecdn.com/1450cdcd-22ac-40e0-86ef-05ff27bf8510/\" width=\"400\"/>."
   ]
  },
  {
   "cell_type": "code",
   "execution_count": 2,
   "id": "78b807253df7211c",
   "metadata": {
    "ExecuteTime": {
     "end_time": "2024-04-09T11:45:39.736808Z",
     "start_time": "2024-04-09T11:45:39.677987Z"
    }
   },
   "outputs": [
    {
     "name": "stdout",
     "output_type": "stream",
     "text": [
      "[1 2 3]\n",
      "[[ 1.  2.  3.  4.]\n",
      " [ 5.  6.  7.  8.]\n",
      " [ 9. 10. 11. 12.]\n",
      " [13. 14. 15. 16.]]\n",
      "[[0. 0. 0. 0. 0.]\n",
      " [0. 0. 0. 0. 0.]\n",
      " [0. 0. 0. 0. 0.]]\n",
      "[[1. 1. 1. 1. 1.]]\n"
     ]
    }
   ],
   "source": [
    "a = np.array([1,2,3])\n",
    "b = np.array(([1,2,3,4],[5,6,7,8],[9,10,11,12],[13,14,15,16]), dtype=np.float64)\n",
    "c = np.zeros((3,5))\n",
    "d = np.ones((1,5))\n",
    "print(a)\n",
    "print(b)\n",
    "print(c)\n",
    "print(d)"
   ]
  },
  {
   "cell_type": "code",
   "execution_count": 3,
   "id": "2eccf7b360cc533e",
   "metadata": {
    "ExecuteTime": {
     "end_time": "2024-04-09T11:45:41.012198Z",
     "start_time": "2024-04-09T11:45:40.984688Z"
    }
   },
   "outputs": [
    {
     "data": {
      "text/plain": [
       "array([0, 1, 2, 3, 4, 5, 6, 7, 8, 9])"
      ]
     },
     "execution_count": 3,
     "metadata": {},
     "output_type": "execute_result"
    }
   ],
   "source": [
    "np.arange(10)"
   ]
  },
  {
   "cell_type": "code",
   "execution_count": 4,
   "id": "93c3c959e3efbb05",
   "metadata": {
    "ExecuteTime": {
     "end_time": "2024-04-09T11:45:42.179452Z",
     "start_time": "2024-04-09T11:45:42.151882Z"
    }
   },
   "outputs": [
    {
     "data": {
      "text/plain": [
       "array([1, 2, 3, 4])"
      ]
     },
     "execution_count": 4,
     "metadata": {},
     "output_type": "execute_result"
    }
   ],
   "source": [
    "np.arange(1,5)"
   ]
  },
  {
   "cell_type": "code",
   "execution_count": 5,
   "id": "5a8089b13ed06674",
   "metadata": {
    "ExecuteTime": {
     "end_time": "2024-04-09T11:45:44.431248Z",
     "start_time": "2024-04-09T11:45:44.406771Z"
    }
   },
   "outputs": [
    {
     "name": "stdout",
     "output_type": "stream",
     "text": [
      "[0.  0.1 0.2 0.3 0.4 0.5 0.6 0.7 0.8 0.9 1. ]\n"
     ]
    }
   ],
   "source": [
    "print(np.arange(0,1 + 0.1,0.1))\n"
   ]
  },
  {
   "cell_type": "code",
   "execution_count": 6,
   "id": "8a5c3c9ea444b678",
   "metadata": {
    "ExecuteTime": {
     "end_time": "2024-04-09T11:45:46.104551Z",
     "start_time": "2024-04-09T11:45:46.077620Z"
    }
   },
   "outputs": [
    {
     "name": "stdout",
     "output_type": "stream",
     "text": [
      "[0.         0.02040816 0.04081633 0.06122449 0.08163265 0.10204082\n",
      " 0.12244898 0.14285714 0.16326531 0.18367347 0.20408163 0.2244898\n",
      " 0.24489796 0.26530612 0.28571429 0.30612245 0.32653061 0.34693878\n",
      " 0.36734694 0.3877551  0.40816327 0.42857143 0.44897959 0.46938776\n",
      " 0.48979592 0.51020408 0.53061224 0.55102041 0.57142857 0.59183673\n",
      " 0.6122449  0.63265306 0.65306122 0.67346939 0.69387755 0.71428571\n",
      " 0.73469388 0.75510204 0.7755102  0.79591837 0.81632653 0.83673469\n",
      " 0.85714286 0.87755102 0.89795918 0.91836735 0.93877551 0.95918367\n",
      " 0.97959184 1.        ]\n"
     ]
    }
   ],
   "source": [
    "print(np.linspace(0,1)) # num (необязательный): Количество элементов в массиве. По умолчанию 50."
   ]
  },
  {
   "cell_type": "code",
   "execution_count": 7,
   "id": "2a3ef6532c009065",
   "metadata": {
    "ExecuteTime": {
     "end_time": "2024-04-09T11:45:48.303963Z",
     "start_time": "2024-04-09T11:45:48.277230Z"
    }
   },
   "outputs": [
    {
     "data": {
      "text/plain": [
       "array([0.   , 0.625, 1.25 , 1.875, 2.5  , 3.125, 3.75 , 4.375, 5.   ])"
      ]
     },
     "execution_count": 7,
     "metadata": {},
     "output_type": "execute_result"
    }
   ],
   "source": [
    "np.linspace(0,5,9)"
   ]
  },
  {
   "cell_type": "code",
   "execution_count": 8,
   "id": "6739b04b99664a4c",
   "metadata": {
    "ExecuteTime": {
     "end_time": "2024-04-09T11:45:50.088155Z",
     "start_time": "2024-04-09T11:45:50.050725Z"
    }
   },
   "outputs": [
    {
     "data": {
      "text/plain": [
       "array([[7, 7, 7],\n",
       "       [7, 7, 7],\n",
       "       [7, 7, 7]])"
      ]
     },
     "execution_count": 8,
     "metadata": {},
     "output_type": "execute_result"
    }
   ],
   "source": [
    "np.full((3,3),7)"
   ]
  },
  {
   "cell_type": "code",
   "execution_count": 9,
   "id": "e44d3f3ff3e0ec7e",
   "metadata": {
    "ExecuteTime": {
     "end_time": "2024-04-09T11:45:51.044930Z",
     "start_time": "2024-04-09T11:45:51.010820Z"
    }
   },
   "outputs": [
    {
     "data": {
      "text/plain": [
       "array([[1., 1., 1.],\n",
       "       [1., 1., 1.],\n",
       "       [1., 1., 1.]])"
      ]
     },
     "execution_count": 9,
     "metadata": {},
     "output_type": "execute_result"
    }
   ],
   "source": [
    "np.ones([3,3])"
   ]
  },
  {
   "cell_type": "markdown",
   "id": "a35711ead7305091",
   "metadata": {},
   "source": [
    "## 1.3 Создание массива часть 2"
   ]
  },
  {
   "cell_type": "code",
   "execution_count": 10,
   "id": "3131925c3079450d",
   "metadata": {
    "ExecuteTime": {
     "end_time": "2024-04-09T11:45:52.207896Z",
     "start_time": "2024-04-09T11:45:52.184883Z"
    }
   },
   "outputs": [
    {
     "data": {
      "text/plain": [
       "array([[1., 1.],\n",
       "       [1., 1.],\n",
       "       [1., 1.]])"
      ]
     },
     "execution_count": 10,
     "metadata": {},
     "output_type": "execute_result"
    }
   ],
   "source": [
    "np.ones([3,2])"
   ]
  },
  {
   "cell_type": "markdown",
   "id": "aa3c5beba509f735",
   "metadata": {},
   "source": [
    "<img src=\"https://ucarecdn.com/c6cf7ceb-9a35-4001-9410-2259da43d47c/\" width=\"600\"/>.\n",
    "<img src=\"https://ucarecdn.com/c544842a-29cd-48d8-b4a6-1d139228f5d3/\" width=\"300\"/>."
   ]
  },
  {
   "cell_type": "code",
   "execution_count": 11,
   "id": "97f90c301a0fd330",
   "metadata": {
    "ExecuteTime": {
     "end_time": "2024-04-09T11:45:54.031812Z",
     "start_time": "2024-04-09T11:45:54.017321Z"
    }
   },
   "outputs": [
    {
     "name": "stdout",
     "output_type": "stream",
     "text": [
      "[[ 1.  2.  3.  4.]\n",
      " [ 5.  6.  7.  8.]\n",
      " [ 9. 10. 11. 12.]\n",
      " [13. 14. 15. 16.]]\n",
      "2\n",
      "(4, 4)\n",
      "16\n"
     ]
    }
   ],
   "source": [
    "print(b)\n",
    "print(np.ndim(b))\n",
    "print(np.shape(b))\n",
    "print(np.size(b))"
   ]
  },
  {
   "cell_type": "code",
   "execution_count": 12,
   "id": "74f98c525b896ca2",
   "metadata": {
    "ExecuteTime": {
     "end_time": "2024-04-09T11:45:54.886743Z",
     "start_time": "2024-04-09T11:45:54.862962Z"
    }
   },
   "outputs": [
    {
     "name": "stdout",
     "output_type": "stream",
     "text": [
      "[[1. 0. 0.]\n",
      " [0. 1. 0.]\n",
      " [0. 0. 1.]\n",
      " [0. 0. 0.]\n",
      " [0. 0. 0.]]\n",
      "[[1. 0. 0.]\n",
      " [0. 1. 0.]\n",
      " [0. 0. 1.]]\n",
      "[[1. 0. 0.]\n",
      " [0. 1. 0.]\n",
      " [0. 0. 1.]]\n",
      "\n",
      "[[0. 0. 1. 0. 0.]\n",
      " [0. 0. 0. 1. 0.]\n",
      " [0. 0. 0. 0. 1.]\n",
      " [0. 0. 0. 0. 0.]\n",
      " [0. 0. 0. 0. 0.]]\n"
     ]
    }
   ],
   "source": [
    "print(np.eye(5,3)) # Еденичная матрица\n",
    "print(np.eye(3,3)) # аналогично identity\n",
    "print(np.identity(3)) # создает квадратную матрицу с единицами на главной диагонали и нулями в остальных местах.\n",
    "# В отличие от numpy.identity,  numpy.eye позволяет создавать матрицы с единичной диагональю \n",
    "# произвольной размерности и выполнять сдвиг этой диагонали относительно главной диагонали.\n",
    "print('')\n",
    "print(np.eye(5,k=2))"
   ]
  },
  {
   "cell_type": "code",
   "execution_count": 13,
   "id": "7eb0874f71d56fbb",
   "metadata": {
    "ExecuteTime": {
     "end_time": "2024-04-09T11:45:58.075290Z",
     "start_time": "2024-04-09T11:45:58.035420Z"
    }
   },
   "outputs": [
    {
     "data": {
      "text/plain": [
       "array([[0.39487312, 0.85702033, 0.54144958],\n",
       "       [0.63080058, 0.59712907, 0.35977549],\n",
       "       [0.99112653, 0.66121955, 0.69840331]])"
      ]
     },
     "execution_count": 13,
     "metadata": {},
     "output_type": "execute_result"
    }
   ],
   "source": [
    "np.random.rand( 3,3 )"
   ]
  },
  {
   "cell_type": "code",
   "execution_count": 14,
   "id": "4bd848cfa67960cd",
   "metadata": {
    "is_executing": true
   },
   "outputs": [
    {
     "data": {
      "text/plain": [
       "6"
      ]
     },
     "execution_count": 14,
     "metadata": {},
     "output_type": "execute_result"
    }
   ],
   "source": [
    "np.random.randint(10) # случайное число от 0 до 10 (целое)"
   ]
  },
  {
   "cell_type": "code",
   "execution_count": 15,
   "id": "800e5d92a999bc52",
   "metadata": {
    "ExecuteTime": {
     "end_time": "2024-04-09T10:33:12.735976Z",
     "start_time": "2024-04-09T10:33:12.734087Z"
    }
   },
   "outputs": [
    {
     "name": "stdout",
     "output_type": "stream",
     "text": [
      "[3 6 2 5 8]\n"
     ]
    }
   ],
   "source": [
    "print(np.random.randint(1,10, size=5))"
   ]
  },
  {
   "cell_type": "code",
   "execution_count": 16,
   "id": "5e266bdcdccd83ae",
   "metadata": {
    "ExecuteTime": {
     "end_time": "2024-04-09T10:33:12.766554Z",
     "start_time": "2024-04-09T10:33:12.764618Z"
    }
   },
   "outputs": [
    {
     "name": "stdout",
     "output_type": "stream",
     "text": [
      "[[8 5 2]\n",
      " [9 2 7]\n",
      " [4 4 4]]\n"
     ]
    }
   ],
   "source": [
    "print(np.random.randint(1,10, size=(3,3)))"
   ]
  },
  {
   "cell_type": "code",
   "execution_count": 17,
   "id": "14df0670e68f0e93",
   "metadata": {
    "ExecuteTime": {
     "end_time": "2024-04-09T10:33:12.862936Z",
     "start_time": "2024-04-09T10:33:12.860606Z"
    }
   },
   "outputs": [
    {
     "data": {
      "text/plain": [
       "array([[1, 2],\n",
       "       [3, 4]])"
      ]
     },
     "execution_count": 17,
     "metadata": {},
     "output_type": "execute_result"
    }
   ],
   "source": [
    "small_arr = np.array([[1,2],[3,4]])\n",
    "small_arr"
   ]
  },
  {
   "cell_type": "code",
   "execution_count": 18,
   "id": "91fcfd770802f6a0",
   "metadata": {
    "ExecuteTime": {
     "end_time": "2024-04-09T10:33:12.914588Z",
     "start_time": "2024-04-09T10:33:12.912319Z"
    }
   },
   "outputs": [
    {
     "name": "stdout",
     "output_type": "stream",
     "text": [
      "[[1 2 1 2 1 2]\n",
      " [3 4 3 4 3 4]]\n"
     ]
    }
   ],
   "source": [
    "print(np.tile(small_arr,reps=3))"
   ]
  },
  {
   "cell_type": "code",
   "execution_count": 19,
   "id": "5c5919cfc31548db",
   "metadata": {
    "ExecuteTime": {
     "end_time": "2024-04-09T10:33:12.973395Z",
     "start_time": "2024-04-09T10:33:12.971378Z"
    }
   },
   "outputs": [
    {
     "name": "stdout",
     "output_type": "stream",
     "text": [
      "[[1 2 1 2 1 2]\n",
      " [3 4 3 4 3 4]\n",
      " [1 2 1 2 1 2]\n",
      " [3 4 3 4 3 4]\n",
      " [1 2 1 2 1 2]\n",
      " [3 4 3 4 3 4]]\n"
     ]
    }
   ],
   "source": [
    "print(np.tile(small_arr,reps=(3,3)))"
   ]
  },
  {
   "cell_type": "markdown",
   "id": "af587bf08a8fea69",
   "metadata": {},
   "source": [
    "## 1.4 Типы Данных\n",
    "\n",
    "int(16-64), float(16-64), complex(64-128), bool, string, object (используется для хранения произвольных объектов Python в массивах NumPy)"
   ]
  },
  {
   "cell_type": "code",
   "execution_count": 20,
   "id": "61652613e1fda2c5",
   "metadata": {
    "ExecuteTime": {
     "end_time": "2024-04-09T10:33:13.034019Z",
     "start_time": "2024-04-09T10:33:13.030842Z"
    }
   },
   "outputs": [
    {
     "name": "stdout",
     "output_type": "stream",
     "text": [
      "[[0.2 0.4 0.6 0.8]\n",
      " [1.  1.2 1.4 1.6]\n",
      " [1.8 2.  2.2 2.4]\n",
      " [2.6 2.8 3.  3.2]]\n",
      "float64\n"
     ]
    },
    {
     "data": {
      "text/plain": [
       "dtype('float64')"
      ]
     },
     "execution_count": 20,
     "metadata": {},
     "output_type": "execute_result"
    }
   ],
   "source": [
    "print(b*0.2)\n",
    "print(np.dtype(b[0][0]))\n",
    "b.dtype"
   ]
  },
  {
   "cell_type": "code",
   "execution_count": 21,
   "id": "db09a3509189f26f",
   "metadata": {
    "ExecuteTime": {
     "end_time": "2024-04-09T10:33:13.125200Z",
     "start_time": "2024-04-09T10:33:13.122357Z"
    }
   },
   "outputs": [
    {
     "name": "stdout",
     "output_type": "stream",
     "text": [
      "[[0 0 0 0]\n",
      " [1 1 1 1]\n",
      " [1 2 2 2]\n",
      " [2 2 3 3]]\n"
     ]
    },
    {
     "data": {
      "text/plain": [
       "dtype('float64')"
      ]
     },
     "execution_count": 21,
     "metadata": {},
     "output_type": "execute_result"
    }
   ],
   "source": [
    "# array.astype(dtype, order='K', casting='unsafe', subok=True, copy=True)\n",
    "b_int = (b*0.2).astype(np.int64)\n",
    "print(b_int)\n",
    "b.dtype"
   ]
  },
  {
   "cell_type": "markdown",
   "id": "9c1a32eb41e2feda",
   "metadata": {},
   "source": [
    "Задача: Предположим, у вас есть два датасета с данными о температуре и влажности. Каждый датасет представлен в виде двумерного массива, где строки представляют дни, а столбцы представляют конкретные моменты времени в течение дня. Тип данных - int. Но вам нужно изменить их на float."
   ]
  },
  {
   "cell_type": "code",
   "execution_count": 22,
   "id": "718899fd891ba440",
   "metadata": {
    "ExecuteTime": {
     "end_time": "2024-04-09T10:33:13.153312Z",
     "start_time": "2024-04-09T10:33:13.150465Z"
    }
   },
   "outputs": [
    {
     "name": "stdout",
     "output_type": "stream",
     "text": [
      "Новый тип данных temp_data: float64\n",
      "Новый тип данных humid_data: float64\n"
     ]
    }
   ],
   "source": [
    "# put your python code here\n",
    "import numpy as np\n",
    "\n",
    "# Датасет температуры (тип данных: int)\n",
    "temp_data = np.array([[22, 25, 24, 23, 21],\n",
    "                      [20, 18, 19, 22, 24]])\n",
    "\n",
    "# Датасет влажности (тип данных: int)\n",
    "humid_data = np.array([[45, 50, 48, 52, 47],\n",
    "                       [45, 48, 50, 51, 53]])\n",
    "\n",
    "def change_data_type(data_set: np.array, data_type: np.dtype):  # добавь два аргумента для функции согласно условию\n",
    "    return  data_set.astype(data_type)\n",
    "\n",
    "temp_data =  change_data_type(temp_data, np.float64)\n",
    "humid_data =  change_data_type(humid_data, np.float64)\n",
    "\n",
    "print(f'Новый тип данных temp_data: {temp_data.dtype}')\n",
    "print(f'Новый тип данных humid_data: {humid_data.dtype}')"
   ]
  },
  {
   "cell_type": "code",
   "execution_count": 23,
   "id": "59f391b5c93a50c4",
   "metadata": {
    "ExecuteTime": {
     "end_time": "2024-04-09T10:33:13.243582Z",
     "start_time": "2024-04-09T10:33:13.229029Z"
    }
   },
   "outputs": [
    {
     "ename": "ValueError",
     "evalue": "setting an array element with a sequence. The requested array has an inhomogeneous shape after 1 dimensions. The detected shape was (5,) + inhomogeneous part.",
     "output_type": "error",
     "traceback": [
      "\u001b[0;31m---------------------------------------------------------------------------\u001b[0m",
      "\u001b[0;31mValueError\u001b[0m                                Traceback (most recent call last)",
      "Cell \u001b[0;32mIn[23], line 1\u001b[0m\n\u001b[0;32m----> 1\u001b[0m arr \u001b[38;5;241m=\u001b[39m np\u001b[38;5;241m.\u001b[39marray([\u001b[38;5;241m1\u001b[39m, \u001b[38;5;124m'\u001b[39m\u001b[38;5;124ma\u001b[39m\u001b[38;5;124m'\u001b[39m, \u001b[38;5;28;01mTrue\u001b[39;00m, (\u001b[38;5;241m2\u001b[39m, \u001b[38;5;241m3\u001b[39m), [\u001b[38;5;241m4\u001b[39m, \u001b[38;5;241m5\u001b[39m]])\n",
      "\u001b[0;31mValueError\u001b[0m: setting an array element with a sequence. The requested array has an inhomogeneous shape after 1 dimensions. The detected shape was (5,) + inhomogeneous part."
     ]
    }
   ],
   "source": [
    "arr = np.array([1, 'a', True, (2, 3), [4, 5]])"
   ]
  },
  {
   "cell_type": "markdown",
   "id": "696e75cc82bd182c",
   "metadata": {},
   "source": [
    "В NumPy, тип данных object представляет собой общий и гибкий тип, который может хранить объекты произвольного типа. Когда массив имеет тип данных object, это означает, что элементы массива могут быть любого типа данных, и каждый элемент массива фактически является объектом Python."
   ]
  },
  {
   "cell_type": "code",
   "execution_count": null,
   "id": "4cd476d886ccf3a7",
   "metadata": {
    "ExecuteTime": {
     "end_time": "2024-04-09T10:33:13.300575Z",
     "start_time": "2024-04-09T10:33:13.298369Z"
    }
   },
   "outputs": [],
   "source": [
    "arr = np.array([1, 'a', True, (2, 3), [4, 5]], dtype=object)\n",
    "arr"
   ]
  },
  {
   "cell_type": "markdown",
   "id": "4b46550cad2172be",
   "metadata": {},
   "source": [
    "## 1.5 Арифметические операции с массивами\n",
    "<img src=\"https://ucarecdn.com/f1a8b477-8350-4933-808f-d7c18ab5b2bc/\" width=1300>.\n",
    "<img src=\"https://ucarecdn.com/1babf19f-aa71-4730-b7dd-9bfe173b4e91/\" width=700>.\n",
    "**Где @ - краткая форма записи матричного умножения (np.matmul)**"
   ]
  },
  {
   "cell_type": "code",
   "execution_count": null,
   "id": "506819b150608e54",
   "metadata": {
    "ExecuteTime": {
     "end_time": "2024-04-09T10:33:13.427132Z",
     "start_time": "2024-04-09T10:33:13.425004Z"
    }
   },
   "outputs": [],
   "source": [
    "print(a)\n",
    "print(b)"
   ]
  },
  {
   "cell_type": "code",
   "execution_count": null,
   "id": "c9a3ee26e390951c",
   "metadata": {
    "ExecuteTime": {
     "end_time": "2024-04-09T10:33:13.537241Z",
     "start_time": "2024-04-09T10:33:13.530030Z"
    }
   },
   "outputs": [],
   "source": [
    "a + b"
   ]
  },
  {
   "cell_type": "code",
   "execution_count": null,
   "id": "11c98126425cfbf",
   "metadata": {
    "ExecuteTime": {
     "end_time": "2024-04-09T10:33:13.618530Z",
     "start_time": "2024-04-09T10:33:13.611215Z"
    }
   },
   "outputs": [],
   "source": [
    "a * b"
   ]
  },
  {
   "cell_type": "code",
   "execution_count": null,
   "id": "2f4a508e128474f0",
   "metadata": {
    "ExecuteTime": {
     "end_time": "2024-04-09T10:33:13.663767Z",
     "start_time": "2024-04-09T10:33:13.660341Z"
    }
   },
   "outputs": [],
   "source": [
    "5 * b"
   ]
  },
  {
   "cell_type": "code",
   "execution_count": null,
   "id": "8033c572c994e8d4",
   "metadata": {
    "ExecuteTime": {
     "end_time": "2024-04-09T10:33:14.507162Z",
     "start_time": "2024-04-09T10:33:14.498904Z"
    }
   },
   "outputs": [],
   "source": [
    "b_copy = b * 10\n",
    "b + b_copy"
   ]
  },
  {
   "cell_type": "code",
   "execution_count": null,
   "id": "e44ce178e5d3c8c5",
   "metadata": {
    "ExecuteTime": {
     "end_time": "2024-04-09T10:33:14.617380Z",
     "start_time": "2024-04-09T10:33:14.608040Z"
    }
   },
   "outputs": [],
   "source": [
    "print(b @ b_copy)"
   ]
  },
  {
   "cell_type": "code",
   "execution_count": null,
   "id": "b437aaba9b4cbcff",
   "metadata": {
    "ExecuteTime": {
     "end_time": "2024-04-09T10:33:14.946356Z",
     "start_time": "2024-04-09T10:33:14.940373Z"
    }
   },
   "outputs": [],
   "source": [
    "print(b * b_copy)"
   ]
  },
  {
   "cell_type": "code",
   "execution_count": null,
   "id": "951ab571e664b582",
   "metadata": {
    "ExecuteTime": {
     "end_time": "2024-04-09T10:33:15.251182Z",
     "start_time": "2024-04-09T10:33:15.236856Z"
    }
   },
   "outputs": [],
   "source": [
    "print(a)\n",
    "print(a * 5)"
   ]
  },
  {
   "cell_type": "code",
   "execution_count": null,
   "id": "f5cdfba0c0206a21",
   "metadata": {
    "ExecuteTime": {
     "end_time": "2024-04-09T10:33:15.369327Z",
     "start_time": "2024-04-09T10:33:15.361744Z"
    }
   },
   "outputs": [],
   "source": [
    "b_copy = b[1: , 1:] # сделали 3x3\n",
    "print(b_copy)\n",
    "print(a + b_copy) # построчное сложение"
   ]
  },
  {
   "cell_type": "code",
   "execution_count": null,
   "id": "d102fee0b54fcdbc",
   "metadata": {
    "ExecuteTime": {
     "end_time": "2024-04-09T10:33:15.621205Z",
     "start_time": "2024-04-09T10:33:15.594288Z"
    }
   },
   "outputs": [],
   "source": [
    "print(a + a*-1)"
   ]
  },
  {
   "cell_type": "code",
   "execution_count": null,
   "id": "262f7a013884b721",
   "metadata": {
    "ExecuteTime": {
     "end_time": "2024-04-09T10:33:15.790678Z",
     "start_time": "2024-04-09T10:33:15.777101Z"
    }
   },
   "outputs": [],
   "source": [
    "arr1 = np.array([[1, 2, 3],\n",
    "                 [4, 5, 6],\n",
    "                 [7, 8, 9]])\n",
    "\n",
    "arr1 / 4"
   ]
  },
  {
   "cell_type": "code",
   "execution_count": null,
   "id": "383f6b89e097d54",
   "metadata": {
    "ExecuteTime": {
     "end_time": "2024-04-09T10:33:15.859877Z",
     "start_time": "2024-04-09T10:33:15.856411Z"
    }
   },
   "outputs": [],
   "source": [
    "arr1 ** 2"
   ]
  },
  {
   "cell_type": "code",
   "execution_count": null,
   "id": "c51f50815bcb8392",
   "metadata": {
    "ExecuteTime": {
     "end_time": "2024-04-09T10:33:16.238497Z",
     "start_time": "2024-04-09T10:33:16.230706Z"
    }
   },
   "outputs": [],
   "source": [
    "np.where(arr1 < 5, a , a*1000) # if statement, YES cond, NO cond"
   ]
  },
  {
   "cell_type": "code",
   "execution_count": null,
   "id": "6dfff752a8de2536",
   "metadata": {
    "ExecuteTime": {
     "end_time": "2024-04-09T10:33:16.350063Z",
     "start_time": "2024-04-09T10:33:16.343059Z"
    }
   },
   "outputs": [],
   "source": [
    "matrix_a = np.array([[1, 2, 3],\n",
    "                     [4, 5, 6],\n",
    "                     [7, 8, 9]])\n",
    "\n",
    "vec_b = np.array([10,20,30]).reshape(3,1) # создайте вектор-столбец\n",
    "\n",
    "\n",
    "print(matrix_a*vec_b)"
   ]
  },
  {
   "cell_type": "markdown",
   "id": "e09439ee3d66b947",
   "metadata": {},
   "source": [
    "## 1.6 Индексы и срезы"
   ]
  },
  {
   "cell_type": "markdown",
   "id": "32ad5457f908d93f",
   "metadata": {},
   "source": [
    "1.Slicing (cлайсинг/срез) в NumPy работает аналогично срезу в стандартном Python, но с добавлением некоторых особенностей для работы с многомерными массивами. Основные параметры среза в NumPy:\n",
    "\n",
    "arr[start:stop:step]\n",
    "\n",
    "    start: Начальный индекс среза. Элемент с этим индексом включается в срез.\n",
    "    stop: Конечный индекс среза. Элемент с этим индексом не включается в срез.\n",
    "    step: Шаг (или интервал) между выбранными элементами. Если не указан, используется шаг 1.\n",
    "\n",
    "Некоторые важные замечания:\n",
    "\n",
    "    Если start не указан, используется начало массива (индекс 0).\n",
    "    Если stop не указан, используется конец массива (последний элемент).\n",
    "    Если step не указан, используется шаг 1.\n",
    "    Все эти параметры могут быть отрицательными, что означает выбор элементов в обратном порядке.\n",
    "    В случае отрицательного step и отсутствия start и stop, массив будет выведен в обратном порядке.\n",
    "<img src=\"https://ucarecdn.com/d82e7acf-1719-4d9b-a7c6-60d43de4c4f4/\" width=1200>\n"
   ]
  },
  {
   "cell_type": "code",
   "execution_count": null,
   "id": "964948f8c6a976f2",
   "metadata": {
    "ExecuteTime": {
     "end_time": "2024-04-09T10:33:16.785727Z",
     "start_time": "2024-04-09T10:33:16.774544Z"
    }
   },
   "outputs": [],
   "source": [
    "a = np.array([1,2,3,4,5,6,7])\n",
    "print(a[4:123]) # OUT OF RANGE WONT GIVE YOU AN ERROR!"
   ]
  },
  {
   "cell_type": "markdown",
   "id": "aa00d524581f50f7",
   "metadata": {},
   "source": [
    "<img src=\"https://ucarecdn.com/b175cafe-a492-42c9-b3ae-c02f342a0981/\" width=900>.\n",
    "<img src=\"https://ucarecdn.com/d6258be9-27f9-4b9a-983a-6f2c3719c916/\" width=900>."
   ]
  },
  {
   "cell_type": "code",
   "execution_count": null,
   "id": "909f9a0c764baf93",
   "metadata": {
    "ExecuteTime": {
     "end_time": "2024-04-09T10:33:17.277187Z",
     "start_time": "2024-04-09T10:33:17.258250Z"
    }
   },
   "outputs": [],
   "source": [
    "b"
   ]
  },
  {
   "cell_type": "code",
   "execution_count": null,
   "id": "2815233eb25f56e7",
   "metadata": {
    "ExecuteTime": {
     "end_time": "2024-04-09T10:33:17.560182Z",
     "start_time": "2024-04-09T10:33:17.513624Z"
    }
   },
   "outputs": [],
   "source": [
    "b[1:2]"
   ]
  },
  {
   "cell_type": "code",
   "execution_count": null,
   "id": "fa944be7c3d83afb",
   "metadata": {
    "ExecuteTime": {
     "end_time": "2024-04-09T10:33:18.129075Z",
     "start_time": "2024-04-09T10:33:18.020937Z"
    }
   },
   "outputs": [],
   "source": [
    "b[1:2 , 1:3]"
   ]
  },
  {
   "cell_type": "code",
   "execution_count": null,
   "id": "5a48155d5ab663b8",
   "metadata": {
    "ExecuteTime": {
     "end_time": "2024-04-09T10:33:18.374884Z",
     "start_time": "2024-04-09T10:33:18.366929Z"
    }
   },
   "outputs": [],
   "source": [
    "b[: , 1:3]"
   ]
  },
  {
   "cell_type": "code",
   "execution_count": null,
   "id": "e023425174a9c31e",
   "metadata": {
    "ExecuteTime": {
     "end_time": "2024-04-09T10:33:18.464028Z",
     "start_time": "2024-04-09T10:33:18.460163Z"
    }
   },
   "outputs": [],
   "source": [
    "b[: , 0]"
   ]
  },
  {
   "cell_type": "markdown",
   "id": "d65893f7ba4a9f50",
   "metadata": {},
   "source": [
    " <img src=\"https://ucarecdn.com/d15c0cbd-de5a-46ce-81fc-17edf40b9d13/\" width=700>."
   ]
  },
  {
   "cell_type": "markdown",
   "id": "263b04fcbb28e73b",
   "metadata": {},
   "source": [
    "В NumPy различие между ```[:, :, 1] и [:, :, 1:2]``` заключается в форме итогового массива (слайса).\n",
    "\n",
    "```[:, :, 1]```: Этот срез возвращает одномерный массив, выбирая второй столбец для каждой строки в каждой матрице. Результат - одномерный массив с элементами из второго столбца для каждой строки\n",
    "\n",
    "Результат \n",
    "```\n",
    "[:, :, 1:2]:\n",
    "[[[ 2]\n",
    "  [ 5]\n",
    "  [ 8]]\n",
    "\n",
    " [[11]\n",
    "  [14]\n",
    "  [17]]\n",
    "\n",
    " [[20]\n",
    "  [23]\n",
    "  [26]]]\n",
    "```\n",
    "```[:, :, 1:2]```: Этот срез возвращает двумерный массив, выбирая второй столбец в виде двумерного среза. Результат - двумерный массив с элементами из второго столбца для каждой строки, но он сохраняет второй столбец как отдельное измерение. Размерность будет (3, 3, 1).\n",
    "Результат ```[:, :, 1]```:\n",
    "```\n",
    "[[ 2  5  8]\n",
    " [11 14 17]\n",
    " [20 23 26]]\n",
    "```"
   ]
  },
  {
   "cell_type": "markdown",
   "id": "72b5932052efa5f2",
   "metadata": {},
   "source": [
    "## 1.7 Основы Boolean Indexing:"
   ]
  },
  {
   "cell_type": "markdown",
   "id": "bef6589e1266442a",
   "metadata": {},
   "source": [
    "Индексация по булевым значениям в Numpy — это механизм выбора элементов из массива на основе булевых условий. Это позволяет создавать условные выражения для фильтрации данных."
   ]
  },
  {
   "cell_type": "markdown",
   "id": "ae6569dbb7ee58ef",
   "metadata": {},
   "source": [
    "Можно создать булев массив такой же формы, что и исходный массив, применяя условные операции к элементам.\n",
    "<img src=\"https://ucarecdn.com/9abcc990-3872-430a-8923-a91cc57db1c6/\" width=800>"
   ]
  },
  {
   "cell_type": "code",
   "execution_count": null,
   "id": "9b433219f8147413",
   "metadata": {
    "ExecuteTime": {
     "end_time": "2024-04-09T10:33:18.684634Z",
     "start_time": "2024-04-09T10:33:18.670034Z"
    }
   },
   "outputs": [],
   "source": [
    "print(b)\n",
    "b_even = ((b+1)%2) # все четные элементы внутри b\n",
    "# not(b%2) или !(b%2) не сработает!\n",
    "# НО! (b%2==0) заработает\n",
    "print(b_even)"
   ]
  },
  {
   "cell_type": "markdown",
   "id": "a5e8f801b09e7224",
   "metadata": {},
   "source": [
    "Булев массив может быть использован как индекс для выбора элементов из массива, соответствующих True значениям в булевом массиве."
   ]
  },
  {
   "cell_type": "code",
   "execution_count": null,
   "id": "b86c0ee2908edec3",
   "metadata": {
    "ExecuteTime": {
     "end_time": "2024-04-09T10:33:18.777838Z",
     "start_time": "2024-04-09T10:33:18.767423Z"
    }
   },
   "outputs": [],
   "source": [
    "print(b[ b > 5 ]) # Возвращает строку"
   ]
  },
  {
   "cell_type": "markdown",
   "id": "deb5eb31277aec1a",
   "metadata": {},
   "source": [
    "Можно комбинировать несколько условий с использованием операторов ```&``` (и), ```|``` (или), ```~``` (не).\n",
    "\n",
    "Затем этот булев массив может быть использован для выбора соответствующих элементов из исходного массива или замены значений.\n",
    "\n",
    "***Не заработает внутри ```arr[ arr > 2 & arr < 6 ]``` , используйте скобки ```arr[(arr > 2) & (arr < 6)]```***"
   ]
  },
  {
   "cell_type": "code",
   "execution_count": null,
   "id": "23846b37c0273cde",
   "metadata": {
    "ExecuteTime": {
     "end_time": "2024-04-09T10:33:19.130534Z",
     "start_time": "2024-04-09T10:33:19.124804Z"
    }
   },
   "outputs": [],
   "source": [
    "comb_cond = (b % 2 ==0) & (b < 10) # b % 2 без указания остатка (==) не заработает\n",
    "print(b[comb_cond])"
   ]
  },
  {
   "cell_type": "markdown",
   "id": "62c02af4b40c5e14",
   "metadata": {},
   "source": [
    "Функция ```np.any``` используется для проверки, есть ли хотя бы один элемент в массиве, который оценивается как True.\n",
    "```numpy.any(a, axis=None)```\n",
    "```a```: Исходный массив.\n",
    "```axis```: Опциональный параметр, определяющий по какой оси выполняется проверка. Если ```None``` (по умолчанию), то проверка выполняется по всем элементам массива."
   ]
  },
  {
   "cell_type": "code",
   "execution_count": null,
   "id": "5b13d7c3bf90ef55",
   "metadata": {
    "ExecuteTime": {
     "end_time": "2024-04-09T10:33:19.436938Z",
     "start_time": "2024-04-09T10:33:19.402337Z"
    }
   },
   "outputs": [],
   "source": [
    "np.any(b < 0) # провекрка каждого элемента"
   ]
  },
  {
   "cell_type": "code",
   "execution_count": null,
   "id": "dda1c05fa3c9a80d",
   "metadata": {
    "ExecuteTime": {
     "end_time": "2024-04-09T10:33:19.517200Z",
     "start_time": "2024-04-09T10:33:19.513174Z"
    }
   },
   "outputs": [],
   "source": [
    "print(np.any(b > 10, axis=1)) # только в 2ой и 3ей строках есть элемент больше 10\n",
    "print(b)"
   ]
  },
  {
   "cell_type": "code",
   "execution_count": null,
   "id": "c60fd924ab1f28d9",
   "metadata": {
    "ExecuteTime": {
     "end_time": "2024-04-09T10:33:19.836324Z",
     "start_time": "2024-04-09T10:33:19.824704Z"
    }
   },
   "outputs": [],
   "source": [
    "print(np.all(b < 14, axis=0)) # только в первом столбце все элементы меньше 14\n",
    "print(b)"
   ]
  },
  {
   "cell_type": "markdown",
   "id": "1bdbfa6e406db06c",
   "metadata": {},
   "source": [
    "<img src=\"https://ucarecdn.com/5e9e6486-78bf-4b95-81f1-4f423385651f/\">.\n",
    "<img src=\"https://ucarecdn.com/86098fbc-585a-4154-8d50-37742b8f4d03/\">"
   ]
  },
  {
   "cell_type": "code",
   "execution_count": null,
   "id": "33eb85d059999bc9",
   "metadata": {
    "ExecuteTime": {
     "end_time": "2024-04-09T10:33:20.076458Z",
     "start_time": "2024-04-09T10:33:20.072747Z"
    }
   },
   "outputs": [],
   "source": [
    "print(b)"
   ]
  },
  {
   "cell_type": "code",
   "execution_count": null,
   "id": "2a6a156bff7571ee",
   "metadata": {
    "ExecuteTime": {
     "end_time": "2024-04-09T10:33:20.150341Z",
     "start_time": "2024-04-09T10:33:20.146505Z"
    }
   },
   "outputs": [],
   "source": [
    "b_copy = np.array(b, copy=True)\n",
    "b_copy[ 1:3 , 1:3]  = -1\n",
    "print(b_copy)"
   ]
  },
  {
   "cell_type": "code",
   "execution_count": null,
   "id": "577df6e2e820a988",
   "metadata": {
    "ExecuteTime": {
     "end_time": "2024-04-09T10:33:20.313516Z",
     "start_time": "2024-04-09T10:33:20.299392Z"
    }
   },
   "outputs": [],
   "source": [
    "b_copy = np.array(b, copy=True)\n",
    "b_copy[ b_copy[ : , 1] > 6, 1] = -1000\n",
    "print(b_copy)"
   ]
  },
  {
   "cell_type": "markdown",
   "id": "ae7e12d62955da11",
   "metadata": {},
   "source": [
    "Если есть 2 массива - один с условием, втрой со значениями, то можно использовать ```np.where( условие , если да , в каком массиве менять )```"
   ]
  },
  {
   "cell_type": "code",
   "execution_count": null,
   "id": "95b504567547a749",
   "metadata": {
    "ExecuteTime": {
     "end_time": "2024-04-09T10:33:20.488975Z",
     "start_time": "2024-04-09T10:33:20.483314Z"
    }
   },
   "outputs": [],
   "source": [
    "index_arr = np.array([1,0,1,0,1,1,0])\n",
    "a = np.array([1, 2, 3, 4, 5, 6, 7])\n",
    "print(a)\n",
    "print(np.where(index_arr == True, -1 , a))\n",
    "print(a [index_arr == False])"
   ]
  },
  {
   "cell_type": "markdown",
   "id": "f4060ee6c7892b59",
   "metadata": {},
   "source": [
    "*Задача*: Представим, у вас есть массив чисел, и вы хотите проверить, содержит ли он хотя бы одно положительное число и все ли элементы отрицательны. Необходимо проверить это с помощью функции check_array."
   ]
  },
  {
   "cell_type": "code",
   "execution_count": null,
   "id": "72f6c7ab734ad555",
   "metadata": {
    "ExecuteTime": {
     "end_time": "2024-04-09T10:33:20.754807Z",
     "start_time": "2024-04-09T10:33:20.746845Z"
    }
   },
   "outputs": [],
   "source": [
    "# put your python code here\n",
    "import numpy as np\n",
    "\n",
    "def check_array(arr):\n",
    "    has_positive =  np.any(arr > 0)\n",
    "    all_negative =  np.all(arr < 0)\n",
    "\n",
    "    return  has_positive , all_negative# функция должна возвращать два булева значения \n",
    "\n",
    "array2 = np.array([-2, -4, -6, -8, -1])\n",
    "result = check_array(array2)\n",
    "\n",
    "print(f\"В массиве есть хотя бы одно положительное число: {result[0]}\")\n",
    "print(f\"Все элементы массива отрицательны: {result[1]}\")"
   ]
  },
  {
   "cell_type": "markdown",
   "id": "329002a396f21fb2",
   "metadata": {},
   "source": [
    "Задача: Предположим, у вас есть набор данных о продажах товаров, представленный в виде двумерного массива sales_data_array. Каждая строка представляет собой информацию о продажах для конкретного товара, а столбцы содержат следующую информацию: номер товара, количество проданных единиц, и доход от продаж.\n",
    "\n",
    "Ваша задача - проверить следующие условия:\n",
    "\n",
    ">Есть ли хотя бы одна запись с нулевыми продажами (количество проданных единиц равно 0)?\n",
    ">Все ли товары имеют положительный доход от продаж?\n"
   ]
  },
  {
   "cell_type": "code",
   "execution_count": null,
   "id": "265e63a3351d922e",
   "metadata": {
    "ExecuteTime": {
     "end_time": "2024-04-09T10:33:21.008886Z",
     "start_time": "2024-04-09T10:33:20.999974Z"
    }
   },
   "outputs": [],
   "source": [
    "# put your python code here\n",
    "import numpy as np\n",
    "\n",
    "sales_data_array = np.array([[1, 10, 100],\n",
    "                             [2, 5, 50],\n",
    "                             [3, 0, 0],\n",
    "                             [4, 8, 80]])\n",
    "\n",
    "def analyze_sales_data(sales_data):\n",
    "    has_zero_sales =  np.any(sales_data[ : , 1] <= 0)\n",
    "    all_positive_income = np.all(sales_data[ : , 2] > 0)\n",
    "\n",
    "    return  has_zero_sales, all_positive_income\n",
    "\n",
    "result =  analyze_sales_data(sales_data_array)# проверь массив sales_data_array с помощью функции analyze_sales_data\n",
    "\n",
    "print(f\"Есть ли товары с нулевыми продажами: {result[0]}\")  # первое булево значение согласно условию\n",
    "print(f\"Все ли товары имеют положительный доход: {result[1]}\")  # второе булево значение согласно условию"
   ]
  },
  {
   "cell_type": "markdown",
   "id": "86e74cc00212cac5",
   "metadata": {},
   "source": [
    "Задача: Дан массив data размером 5 x 5, заполненный случайными целыми числами от 0 до 9. Замените все четные числа в массиве на 0, а все нечетные на 1. Используйте булеву индексацию для создания масок, которые соответствуют этим условиям, и примените их к массиву data.  \n",
    "\n",
    "``` \n",
    "Sample Output:\n",
    "\n",
    "[[0 0 0 1 1]\n",
    " [0 0 1 1 0]\n",
    " [1 1 1 0 0]\n",
    " [1 1 0 0 0]\n",
    " [1 0 1 0 1]]\n",
    "```"
   ]
  },
  {
   "cell_type": "code",
   "execution_count": null,
   "id": "4c00dbf22cf26109",
   "metadata": {
    "ExecuteTime": {
     "end_time": "2024-04-09T10:33:21.130455Z",
     "start_time": "2024-04-09T10:33:21.121799Z"
    }
   },
   "outputs": [],
   "source": [
    "# put your python code here\n",
    "import numpy as np\n",
    "\n",
    "data = np.array([[6, 4, 8, 7, 9],\n",
    "                 [0, 0, 1, 7, 2],\n",
    "                 [5, 7, 9, 0, 4],\n",
    "                 [5, 1, 2, 8, 6],\n",
    "                 [9, 8, 3, 0, 3]])\n",
    "\n",
    "even_mask =  data [ data %2 == 0 ] # Одномерный массив из ЭЛЕМЕНТОВ \n",
    "odd_mask = data %2 == 1 # двумерная булевая матрица\n",
    "print(even_mask)\n",
    "print(odd_mask)\n",
    "\n",
    "data = np.where(data % 2 == 0 , 0 , data) # Меняем элементы без Маски (ДВУМЕРНЫЙ БУЛЕВОЙ МАССИВ)\n",
    "data[odd_mask] = 1 # Используем маску\n",
    "\n",
    "data"
   ]
  },
  {
   "cell_type": "markdown",
   "id": "8a8091c2f35dfeef",
   "metadata": {},
   "source": [
    "Задача: Дан массив data размером 6 x 6, заполненный случайными целыми числами от 0 до 9. Найдите среднее арифметическое всех элементов, которые находятся на главной диагонали массива. Используйте булеву индексацию для создания маски, которая соответствует этому условию, и примените ее к массиву data"
   ]
  },
  {
   "cell_type": "code",
   "execution_count": null,
   "id": "18bf455a3dbd904a",
   "metadata": {
    "ExecuteTime": {
     "end_time": "2024-04-09T10:33:21.474744Z",
     "start_time": "2024-04-09T10:33:21.450763Z"
    }
   },
   "outputs": [],
   "source": [
    "# put your python code here\n",
    "import numpy as np\n",
    "\n",
    "data = np.array([[8, 3, 9, 1, 9, 0],\n",
    "                 [5, 4, 2, 7, 4, 2],\n",
    "                 [0, 8, 7, 4, 3, 9],\n",
    "                 [0, 9, 7, 1, 0, 1],\n",
    "                 [7, 1, 0, 3, 9, 3],\n",
    "                 [5, 8, 0, 4, 0, 6]])\n",
    "\n",
    "mask = np.eye(np.shape(data)[0],dtype=bool)\n",
    "\n",
    "mean = np.mean(data[mask])\n",
    "\n",
    "print(f'Среднее арифметическое элементов на диагоналях: {mean:.2f}')"
   ]
  },
  {
   "cell_type": "markdown",
   "id": "6a6c189ae32a018f",
   "metadata": {},
   "source": [
    "Задача: Попробуем с настоящими данными. Дан массив data, содержащий информацию о студентах: имя, возраст, пол, курс и средний балл. Найдите имена, средние баллы и другую информацию студентов, которые старше 20 лет, женского пола и учатся на третьем курсе. Используйте булеву индексацию для создания маски, которая соответствует этому условию, и примените ее к массиву data.  "
   ]
  },
  {
   "cell_type": "code",
   "execution_count": null,
   "id": "9d439641c6ffb6d4",
   "metadata": {
    "ExecuteTime": {
     "end_time": "2024-04-09T10:33:21.802994Z",
     "start_time": "2024-04-09T10:33:21.796411Z"
    }
   },
   "outputs": [],
   "source": [
    "# put your python code here\n",
    "import numpy as np\n",
    "\n",
    "data = np.array([\n",
    "    ['Анна', 19, 'F', 1, 4.5],\n",
    "    ['Борис', 21, 'M', 2, 3.7],\n",
    "    ['Вера', 21, 'F', 3, 4.8],\n",
    "    ['Глеб', 22, 'M', 4, 3.9],\n",
    "    ['Дарья', 18, 'F', 1, 4.2],\n",
    "    ['Егор', 23, 'M', 3, 4.1],\n",
    "    ['Жанна', 21, 'F', 2, 4.6],\n",
    "    ['Захар', 19, 'M', 1, 4.0]\n",
    "])\n",
    "\n",
    "mask = (data[: , 1].astype(int) > 20) & (data[ : , 2] == 'F') & (data[ : , 3].astype(int) == 3)\n",
    "\n",
    "result = data[mask]\n",
    "\n",
    "print(result)"
   ]
  },
  {
   "cell_type": "markdown",
   "id": "4139b0d535a8b7bf",
   "metadata": {},
   "source": [
    "## 1.8 Транспонирование Массивов\n",
    "Транспонирование — это операции, которые позволяют изменять форму (или структуру) массивов в языке программирования Python, особенно при использовании библиотеки NumPy."
   ]
  },
  {
   "cell_type": "code",
   "execution_count": null,
   "id": "2446c35dc836b877",
   "metadata": {
    "ExecuteTime": {
     "end_time": "2024-04-09T10:33:21.883801Z",
     "start_time": "2024-04-09T10:33:21.875862Z"
    }
   },
   "outputs": [],
   "source": [
    "c = np.array([[1,2,3],[4,5,6]])\n",
    "print(c)"
   ]
  },
  {
   "cell_type": "code",
   "execution_count": null,
   "id": "23f7e1cb32a8a2c7",
   "metadata": {
    "ExecuteTime": {
     "end_time": "2024-04-09T10:33:22.155908Z",
     "start_time": "2024-04-09T10:33:22.153299Z"
    }
   },
   "outputs": [],
   "source": [
    "# np.ndarray.T\n",
    "print(c.T)"
   ]
  },
  {
   "cell_type": "markdown",
   "id": "ca391f9ed3be9942",
   "metadata": {},
   "source": [
    "Метод dot используется для вычисления скалярного произведения векторов или матричного умножения (если массивы являются двумерными, то выполняется матричное умножение, однако в этом случае предпочтительно использовать matmul или @)\n",
    "<img src=\"https://ucarecdn.com/41d77d70-17a3-4083-8584-ab1fe074430a/\">"
   ]
  },
  {
   "cell_type": "code",
   "execution_count": null,
   "id": "12a7e5668c095eb2",
   "metadata": {
    "ExecuteTime": {
     "end_time": "2024-04-09T10:33:22.355080Z",
     "start_time": "2024-04-09T10:33:22.339156Z"
    }
   },
   "outputs": [],
   "source": [
    "print(c.T)\n",
    "print(b[:-1 , :-1])"
   ]
  },
  {
   "cell_type": "code",
   "execution_count": null,
   "id": "58753c242282a061",
   "metadata": {
    "ExecuteTime": {
     "end_time": "2024-04-09T10:33:22.764076Z",
     "start_time": "2024-04-09T10:33:22.743256Z"
    }
   },
   "outputs": [],
   "source": [
    "print(b[:-1 , :-1] @ c.T) # матричное умножение \"@\" shape совпадает строка:столбец\n",
    "print(np.multiply(b[:-1 , :-2] , c.T)) # Поэлементное умножение \"*\" shape совпадает 1:1"
   ]
  },
  {
   "cell_type": "code",
   "execution_count": null,
   "id": "2eb66d4c9ef61321",
   "metadata": {
    "ExecuteTime": {
     "end_time": "2024-04-09T10:33:22.929524Z",
     "start_time": "2024-04-09T10:33:22.920959Z"
    }
   },
   "outputs": [],
   "source": [
    "np.matmul(b[:-1 , :-1] , c.T) # np.dot лучше НЕ использовать!"
   ]
  },
  {
   "cell_type": "code",
   "execution_count": null,
   "id": "c6a6ddcb4f248337",
   "metadata": {
    "ExecuteTime": {
     "end_time": "2024-04-09T10:33:23.216517Z",
     "start_time": "2024-04-09T10:33:23.181932Z"
    }
   },
   "outputs": [],
   "source": [
    "b[:-1 , :-1].dot(c.T)"
   ]
  },
  {
   "cell_type": "markdown",
   "id": "ae49635abbd8e0e1",
   "metadata": {},
   "source": [
    "np.reshape() \n",
    "<img src=\"https://ucarecdn.com/0698a894-c885-4d51-9375-02560dc732fd/\" width=800>"
   ]
  },
  {
   "cell_type": "code",
   "execution_count": null,
   "id": "c1b61d50406fcf47",
   "metadata": {
    "ExecuteTime": {
     "end_time": "2024-04-09T10:33:23.646830Z",
     "start_time": "2024-04-09T10:33:23.609734Z"
    }
   },
   "outputs": [],
   "source": [
    "print(b)"
   ]
  },
  {
   "cell_type": "code",
   "execution_count": null,
   "id": "8acaee4e24397d43",
   "metadata": {
    "ExecuteTime": {
     "end_time": "2024-04-09T10:33:23.703762Z",
     "start_time": "2024-04-09T10:33:23.698989Z"
    }
   },
   "outputs": [],
   "source": [
    "print(b.reshape(8,2))"
   ]
  },
  {
   "cell_type": "code",
   "execution_count": null,
   "id": "68682852f6cad82b",
   "metadata": {
    "ExecuteTime": {
     "end_time": "2024-04-09T10:33:23.884747Z",
     "start_time": "2024-04-09T10:33:23.878100Z"
    }
   },
   "outputs": [],
   "source": [
    "b.reshape(16) # 16 строк и 1 столбец"
   ]
  },
  {
   "cell_type": "code",
   "execution_count": null,
   "id": "4bbea05b53a21f1",
   "metadata": {
    "ExecuteTime": {
     "end_time": "2024-04-09T10:33:24.143928Z",
     "start_time": "2024-04-09T10:33:24.130631Z"
    }
   },
   "outputs": [],
   "source": [
    "b.reshape(1,16) # 1 строка и 16 столбцов"
   ]
  },
  {
   "cell_type": "code",
   "execution_count": null,
   "id": "554199f5200c000b",
   "metadata": {
    "ExecuteTime": {
     "end_time": "2024-04-09T10:33:24.245758Z",
     "start_time": "2024-04-09T10:33:24.243032Z"
    }
   },
   "outputs": [],
   "source": [
    "print(c.T)"
   ]
  },
  {
   "cell_type": "markdown",
   "id": "5f0fdadde4384c93",
   "metadata": {},
   "source": [
    "Метод swapaxes используется для обмена осями массива, меняя местами указанные оси.\n",
    "<img src=\"https://ucarecdn.com/c88c08c2-2e9e-407d-835d-37a053fba321/\" width=700>"
   ]
  },
  {
   "cell_type": "code",
   "execution_count": null,
   "id": "c3d7a0dc7d13037e",
   "metadata": {
    "ExecuteTime": {
     "end_time": "2024-04-09T10:33:24.497683Z",
     "start_time": "2024-04-09T10:33:24.490614Z"
    }
   },
   "outputs": [],
   "source": [
    "print(c)"
   ]
  },
  {
   "cell_type": "code",
   "execution_count": null,
   "id": "6fd6f7b21d6398ad",
   "metadata": {
    "ExecuteTime": {
     "end_time": "2024-04-09T10:33:24.744544Z",
     "start_time": "2024-04-09T10:33:24.739534Z"
    }
   },
   "outputs": [],
   "source": [
    "print(np.swapaxes(c, 0, 1))"
   ]
  },
  {
   "cell_type": "code",
   "execution_count": null,
   "id": "8c5687eb0a45da55",
   "metadata": {
    "ExecuteTime": {
     "end_time": "2024-04-09T10:33:24.803089Z",
     "start_time": "2024-04-09T10:33:24.795652Z"
    }
   },
   "outputs": [],
   "source": [
    "print(b)\n",
    "print('')\n",
    "print(np.swapaxes(b, 1, 0)) # аналогично транспонированию!"
   ]
  },
  {
   "cell_type": "code",
   "execution_count": null,
   "id": "ee5acb95fdfeaa54",
   "metadata": {
    "ExecuteTime": {
     "end_time": "2024-04-09T10:33:25.050041Z",
     "start_time": "2024-04-09T10:33:25.034547Z"
    }
   },
   "outputs": [],
   "source": [
    "b = np.reshape(np.arange(16), (4,4)) # создание двумерного массива\n",
    "print(b)"
   ]
  },
  {
   "cell_type": "code",
   "execution_count": null,
   "id": "79b108015f8d84fd",
   "metadata": {
    "ExecuteTime": {
     "end_time": "2024-04-09T10:33:25.147578Z",
     "start_time": "2024-04-09T10:33:25.141155Z"
    }
   },
   "outputs": [],
   "source": [
    "A = np.array([[1, 2, 3, 4],\n",
    "              [5, 6, 7, 8],\n",
    "              [9, 10, 11, 12]])\n",
    "\n",
    "A = A[ :2 , :2 ].T\n",
    "A"
   ]
  },
  {
   "cell_type": "code",
   "execution_count": null,
   "id": "982a6790cd8048f1",
   "metadata": {
    "ExecuteTime": {
     "end_time": "2024-04-09T10:33:25.283695Z",
     "start_time": "2024-04-09T10:33:25.277983Z"
    }
   },
   "outputs": [],
   "source": [
    "# Транспонировать только те строки, у которых первый элемент больше 3\n",
    "A = np.array([[1, 2, 3, 4],\n",
    "              [5, 6, 7, 8],\n",
    "              [9, 10, 11, 12],\n",
    "              [13, 14, 15, 16],\n",
    "              [17, 18, 19, 20]])\n",
    "mask = A[ : , 0] > 3\n",
    "A[mask] =  A[mask].T\n",
    "print(A)"
   ]
  },
  {
   "cell_type": "markdown",
   "id": "39d78dd432fdf628",
   "metadata": {},
   "source": [
    "# 2. Универсальные функции"
   ]
  },
  {
   "cell_type": "markdown",
   "id": "b279972eb87bf06c",
   "metadata": {},
   "source": [
    "## 2.1 Унарные универсальные функции\n",
    "\n",
    "Унарные универсальные функции в NumPy представляют собой функции, которые выполняют операции над отдельными элементами массивов. Они называются \"унарными\", потому что они оперируют только над одним операндом. Универсальные функции (universal functions, или ufuncs) в NumPy представляют собой векторизованные функции, что означает, что они могут применяться к массивам любой формы и размера, выполняя операцию над каждым элементом массива.\n",
    "\n",
    "Эти функции обеспечивают быстрый и эффективный способ применения математических операций к элементам массива без необходимости использования явных циклов."
   ]
  },
  {
   "cell_type": "markdown",
   "id": "2222ea6f4538ead8",
   "metadata": {},
   "source": [
    "### Список функций\n",
    "    1. abs/fabs - Вычисляет абсолютное значение элементов массива\n",
    "    2. sqrt - Вычисляет квадратный корень из каждого элемента массива.\n",
    "    3. square - Возводит каждый элемент массива в квадрат.\n",
    "    4. exp - Вычисляет экспоненту для каждого элемента массива (e^x).\n",
    "    5. log, log10, log2, log1p - Вычисляют натуральный логарифм (log_e), логарифм по основанию 10, логарифм по основанию 2, и log(1 + x), соответственно.\n",
    "    6. sign-  Определяет знак каждого элемента: 1 (положительное), 0 (ноль), или –1 (отрицательное).\n",
    "    7. ceil - Вычисляет наименьшее целое число, не меньшее каждого элемента массива (округление по верхней границе)\n",
    "    8. floor - Вычисляет наибольшее целое число, не большее каждого элемента массива (округление по нижней границе).\n",
    "    9. round - ычисляет наибольшее целое число, не большее каждого элемента массива (округление по арифметическому правилу).\n",
    "    10. rint - Округляет элементы массива до ближайшего целого числа, сохраняя тип данных\n",
    "    11. modf - Возвращает дробную и целую части каждого элемента массива в двух отдельных массивах\n",
    "    12. isin - Используется для проверки наличия элементов одного массива в другом. Она возвращает булев массив той же формы, что и входные массивы, указывающий, где элементы из второго массива присутствуют во первом массиве.\n",
    "    13. isnan - Возвращает булев массив, показывающий, является ли каждый элемент NaN (Not a Number)\n",
    "    14. isfinite, isinf - Возвращают булев массив, указывающий, является ли каждый элемент конечным числом или бесконечностью\n",
    "<img src=\"https://ucarecdn.com/054de241-ea67-481d-885c-0c468e243dbc/\">\n",
    "    "
   ]
  },
  {
   "cell_type": "code",
   "execution_count": null,
   "id": "d3e92629be3195ee",
   "metadata": {
    "ExecuteTime": {
     "end_time": "2024-04-09T10:33:25.495607Z",
     "start_time": "2024-04-09T10:33:25.490099Z"
    }
   },
   "outputs": [],
   "source": [
    "np.square(b, dtype=float)"
   ]
  },
  {
   "cell_type": "code",
   "execution_count": null,
   "id": "9807e15e5ded6fba",
   "metadata": {
    "ExecuteTime": {
     "end_time": "2024-04-09T10:33:25.547795Z",
     "start_time": "2024-04-09T10:33:25.543508Z"
    }
   },
   "outputs": [],
   "source": [
    "# put your python code here\n",
    "import numpy as np\n",
    "\n",
    "array = np.array([2.5, -3.7, 4.2])\n",
    "\n",
    "fractional_part, integer_part =  np.modf(array)\n",
    "\n",
    "print(f'Дробная часть: {fractional_part}')\n",
    "print(f'Целая часть: {integer_part}')"
   ]
  },
  {
   "cell_type": "markdown",
   "id": "535af36ca623e9a9",
   "metadata": {},
   "source": [
    "## 2.2.1 Бинарные функции (Binary Universal Functions (ufuncs)) в NumPy представляют собой функции, которые выполняют операции над парами элементов входных массивов:\n",
    "\n",
    "    1. add \"+\"- Выполняет поэлементное сложение двух массивов\n",
    "    2. subtract \"-\"- Выполняет поэлементное вычитание второго массива из первого\n",
    "    3. multiply \"*\"- Выполняет поэлементное умножение двух массивов.\n",
    "    4. divide \"/\" / floor_divide - divide(возврщает FLOAT) выполняет поэлементное деление первого массива на второй. floor_divide также округляет результат вниз, возвращая только целую часть (INT).\n",
    "    5. power \"**\" - Возводит элементы первого массива в степени, указанные во втором массиве.\n",
    "    6. maximum / fmax - maximum возвращает поэлементный максимум двух массивов. fmax также возвращает максимум, игнорируя значения NaN. **np.max не заработает**\n",
    "    7. minimum / fmin - minimum возвращает поэлементный минимум двух массивов. fmin также возвращает минимум, игнорируя значения NaN. **np.min не заработает**\n",
    "    8. mod \"%\"- Вычисляет остаток от деления элементов первого массива на соответствующие элементы второго массива (либо заданнаго числа). \n",
    "    9. copysign - Копирует знак значения из второго массива в значения первого массива.\n",
    "    10. grater - Сравнивает каждый элемент двух массивов поэлементно и возвращает булев массив той же формы, где каждый элемент равен True, если соответствующий элемент в x больше соответствующего элемента в y, и False в противном случае.\n",
    "    11. grater_equal - Сравнивает каждый элемент двух массивов поэлементно и возвращает булев массив, где каждый элемент равен True, если соответствующий элемент в x больше или равен соответствующему элементу в y, и False в противном случае.\n",
    "    12. less - Сравнивает каждый элемент двух массивов поэлементно и возвращает булев массив, где каждый элемент равен True, если соответствующий элемент в x меньше соответствующего элемента в y, и False в противном случае.\n",
    "    13. less_equal -  Сравнивает каждый элемент двух массивов поэлементно и возвращает булев массив, где каждый элемент равен True, если соответствующий элемент в x меньше или равен соответствующему элементу в y, и False в противном случае.\n",
    "    14. equal - Сравнивает каждый элемент двух массивов поэлементно и возвращает булев массив, где каждый элемент равен True, если соответствующий элемент в x равен соответствующему элементу в y, и False в противном случае.\n",
    "    15. np.not_equal - Сравнивает каждый элемент двух массивов поэлементно и возвращает булев массив, где каждый элемент равен True, если соответствующий элемент в x не равен соответствующему элементу в y, и False в противном случае.\n",
    "    16. np.in1d - проверяет какие элементы содержаться в обоих массивах"
   ]
  },
  {
   "cell_type": "code",
   "execution_count": null,
   "id": "e1d6557faadb4b51",
   "metadata": {
    "ExecuteTime": {
     "end_time": "2024-04-09T10:33:25.768548Z",
     "start_time": "2024-04-09T10:33:25.764759Z"
    }
   },
   "outputs": [],
   "source": [
    "print(b ** 2)"
   ]
  },
  {
   "cell_type": "markdown",
   "id": "1e0899ca04b79bf3",
   "metadata": {},
   "source": [
    "## 2.2.2 Логические операции:\n",
    "    1. np.logical_and - Выполняет поэлементную логическую операцию И между элементами двух массивов и возвращает булев массив, где каждый элемент равен True, если оба соответствующих элемента входных массивов равны True, и False в противном случае.\n",
    "    2. np.logical_or - Выполняет поэлементную логическую операцию ИЛИ между элементами двух массивов и возвращает булев массив, где каждый элемент равен True, если хотя бы один из соответствующих элементов входных массивов равен True, и False в противном случае.\n",
    "    3. np.logical_xor -  Выполняет поэлементную логическую операцию \"исключающее ИЛИ\" между элементами двух массивов и возвращает булев массив, где каждый элемент равен True, если ровно один из соответствующих элементов входных массивов равен True, и False в противном случае.\n",
    "    4. np.logical_not - выполняет поэлементную логическую операцию НЕ (logical NOT) для массивов и возвращает булев массив, где каждый элемент равен True, если соответствующий элемент входного массива равен False, и наоборот."
   ]
  },
  {
   "cell_type": "code",
   "execution_count": null,
   "id": "db7f2ade",
   "metadata": {
    "ExecuteTime": {
     "end_time": "2024-04-09T10:33:25.857538Z",
     "start_time": "2024-04-09T10:33:25.847224Z"
    }
   },
   "outputs": [],
   "source": [
    "c = (np.arange(16).reshape((4,4)) % 3 == 0)\n",
    "print(c)\n",
    "print(b%2==0)\n",
    "np.logical_and(b%2==0,c)"
   ]
  },
  {
   "cell_type": "markdown",
   "id": "a4a4e79d9722ca3f",
   "metadata": {},
   "source": [
    "Задача: У вас есть массив чисел secret_codes, представляющих собой последовательность некоторых секретных кодов. К сожалению, не все коды были переданы вам, а только часть provided_codes. Вам нужно определить, какие коды вам не предоставили."
   ]
  },
  {
   "cell_type": "code",
   "execution_count": null,
   "id": "d12e3f0f64945c3e",
   "metadata": {
    "ExecuteTime": {
     "end_time": "2024-04-09T10:33:26.026752Z",
     "start_time": "2024-04-09T10:33:26.017690Z"
    }
   },
   "outputs": [],
   "source": [
    "\n",
    "secret_codes = np.array([15, 23, 7, 42, 18, 10, 7, 29])\n",
    "provided_codes = np.array([23, 7, 18, 7])\n",
    "\n",
    "missing = np.isin(secret_codes, provided_codes)\n",
    "missing_codes = secret_codes[~missing]\n",
    "missing_codes"
   ]
  },
  {
   "cell_type": "markdown",
   "id": "1d81852e48a368a9",
   "metadata": {},
   "source": [
    "\n",
    "\n",
    "Задача: Есть два массива, celsius_temps представляющий температуру в градусах Цельсия и days представляющий дни в которые эта температура была зарегистрирована. Определите, в какие дни температура в Фаренгейтах была выше 90, а в Цельсиях не ниже 30.\n",
    "\n",
    "Формула температуры в Фаренгейтах: \n",
    "```F =  C * 9 / 5 + 32```\n",
    "где:\n",
    "    F - температура в градусах Фаренгейта,\n",
    "    C - температура в градусах Цельсия.\n",
    "    \n",
    "---\n",
    "\n",
    "Sample Input:\n",
    "\n",
    "---\n",
    "Sample Output:\n",
    "Температура выше 90 по Фаренгейту: ['четверг']\n",
    "Температура не ниже 30 Цельсия: ['вторник' 'четверг' 'пятница']\n",
    "\n"
   ]
  },
  {
   "cell_type": "code",
   "execution_count": null,
   "id": "460a4ac1ab91b733",
   "metadata": {
    "ExecuteTime": {
     "end_time": "2024-04-09T10:33:26.129358Z",
     "start_time": "2024-04-09T10:33:26.126731Z"
    }
   },
   "outputs": [],
   "source": []
  },
  {
   "cell_type": "code",
   "execution_count": null,
   "id": "8f50768a201d7f13",
   "metadata": {
    "ExecuteTime": {
     "end_time": "2024-04-09T10:33:26.308857Z",
     "start_time": "2024-04-09T10:33:26.302832Z"
    }
   },
   "outputs": [],
   "source": [
    "# put your python code here\n",
    "import numpy as np\n",
    "\n",
    "celsius_temps = np.array([25, 32, 28, 35, 30])\n",
    "days = np.array(['понедельник', 'вторник', 'среда', 'четверг', 'пятница'])\n",
    "\n",
    "fahrenheit_temps =  (celsius_temps * (9/5)) + 32\n",
    "print(fahrenheit_temps)\n",
    "\n",
    "hot_days_fahrenheit_temps =  days[ fahrenheit_temps > 90 ]\n",
    "hot_days_celsius_temps =  days[ celsius_temps >= 30 ]\n",
    "\n",
    "print(f'Температура выше 90 по Фаренгейту: {hot_days_fahrenheit_temps}')\n",
    "print(f'Температура не ниже 30 Цельсия: {hot_days_celsius_temps}')"
   ]
  },
  {
   "cell_type": "markdown",
   "id": "c1db4b20ae881781",
   "metadata": {},
   "source": [
    "Задача: Есть массив, представляющий возрастающую последовательность чисел. Определите, какие числа удовлетворяют критериям: больше 10 и не больше 30, и не равны 15."
   ]
  },
  {
   "cell_type": "code",
   "execution_count": null,
   "id": "5d71fb140569c9b8",
   "metadata": {
    "ExecuteTime": {
     "end_time": "2024-04-09T10:33:26.369736Z",
     "start_time": "2024-04-09T10:33:26.365981Z"
    }
   },
   "outputs": [],
   "source": [
    "numbers = np.array([5, 12, 15, 20, 25, 30, 35])\n",
    "\n",
    "condition1 = ( numbers > 10 ) & ( numbers <= 30 )\n",
    "condition2 =  numbers != 15\n",
    "\n",
    "filtered_numbers =  numbers [ condition1 & condition2 ]\n",
    "\n",
    "print(f'Числа, удовлетворяющие условиям: {filtered_numbers}')"
   ]
  },
  {
   "cell_type": "markdown",
   "id": "9f29733266cef0a6",
   "metadata": {},
   "source": [
    "# 3. Программирование на основе массивов"
   ]
  },
  {
   "cell_type": "markdown",
   "id": "b4fedd388c4c3a4f",
   "metadata": {},
   "source": [
    "## 3.1 Запись логических условий в виде операций с массивами \n",
    "Запись логических условий в виде операций с массивами — это способ применения логических условий к элементам массивов в NumPy. Это позволяет создавать новые массивы на основе значений других массивов, используя функцию np.where. "
   ]
  },
  {
   "cell_type": "markdown",
   "id": "7281d78b8cd91633",
   "metadata": {},
   "source": [
    "```np.where``` — это функция библиотеки NumPy в Python, предназначенная для выполнения условного элементарного поэлементного выбора значений из двух массивов в зависимости от заданного условия. Она имеет несколько форм синтаксиса, основные из которых выглядят следующим образом:\n",
    "\n",
    "```numpy.where(condition[x, y])```\n",
    "    - condition: Логическое выражение или массив булевых значений. Если condition равно True, то соответствующее значение из x выбирается, в противном случае - из y.\n",
    "    - x: Значение или массив, используемый при условии True.\n",
    "    - y: Значение или массив, используемый при условии False.\n",
    "    \n",
    "<img src=\"https://ucarecdn.com/2c318b85-503b-464b-b8ee-aa96a07d7cc6/\" width=600>\n",
    "\n",
    "*Варианты использования:*\n",
    "    1. Простой выбор между двумя значениями\n",
    "    ```y = np.where(x > 3, 'больше трех', 'три и меньше')```\n",
    "    ```# ['три и меньше' 'три и меньше' 'три и меньше' 'больше трех' 'больше трех']```\n",
    "    2. Замена значений в массиве\n",
    "    ```y = np.where(x % 2 == 0, 'четное', 'нечетное')\n",
    "    # ['нечетное' 'четное' 'нечетное' 'четное' 'нечетное']```\n",
    "    3. Использование без явного указания ```y```\n",
    "    ```out = np.where(x > 2)\n",
    "    print(out)\n",
    "    # (array([2, 3, 4]),)```"
   ]
  },
  {
   "cell_type": "code",
   "execution_count": null,
   "id": "25cb8ba864798ddf",
   "metadata": {
    "ExecuteTime": {
     "end_time": "2024-04-09T10:33:26.562151Z",
     "start_time": "2024-04-09T10:33:26.555032Z"
    }
   },
   "outputs": [],
   "source": [
    "print(b)\n",
    "print(np.where( (b < 10) & (b % 2 == 1) , -1 ,b))"
   ]
  },
  {
   "cell_type": "code",
   "execution_count": null,
   "id": "50f9d7b8423cfaa",
   "metadata": {
    "ExecuteTime": {
     "end_time": "2024-04-09T10:33:26.672023Z",
     "start_time": "2024-04-09T10:33:26.665552Z"
    }
   },
   "outputs": [],
   "source": [
    "x = np.array([1, 2, 3])\n",
    "y = np.array([4, 5, 6])\n",
    "z = np.where(x > 2, x, y)\n",
    "z"
   ]
  },
  {
   "cell_type": "markdown",
   "id": "2b2d4c0a3cae2a5e",
   "metadata": {},
   "source": [
    "Выберите значения, которые нечетные и больше 3 или четные и меньше 0. Остальные значения замените на ноль."
   ]
  },
  {
   "cell_type": "code",
   "execution_count": null,
   "id": "ac8b800e70915850",
   "metadata": {
    "ExecuteTime": {
     "end_time": "2024-04-09T10:33:26.821770Z",
     "start_time": "2024-04-09T10:33:26.817813Z"
    }
   },
   "outputs": [],
   "source": [
    "selected_values = np.where ( ( (b > 3) & (b % 2==1) ) | ( (b < 0) & (b %2==0) ) , b , 0 )"
   ]
  },
  {
   "cell_type": "markdown",
   "id": "ff36dcf27a02a396",
   "metadata": {},
   "source": [
    "## 3.2 Математические и статистические операции с массивами "
   ]
  },
  {
   "cell_type": "markdown",
   "id": "88e49854b0e19ee1",
   "metadata": {},
   "source": [
    "Математические и статистические операции с массивами в библиотеке NumPy включают в себя различные функции, позволяющие проводить вычисления с элементами массивов. Эти операции обеспечивают мощные инструменты для анализа данных, научных вычислений и многих других приложений. Вот некоторые из ключевых операций:"
   ]
  },
  {
   "cell_type": "markdown",
   "id": "3392e4832efb9a1f",
   "metadata": {},
   "source": [
    "*Список основных функций*:\n",
    "    1. ```sum``` - Вычисляет сумму элементов массива.\n",
    "    2. ```mean``` - Вычисляет среднее значение элементов массива.\n",
    "    3. ```median```  - Метод numpy.median() используется для вычисления медианы значений в массиве. Медиана - это значение, которое делит упорядоченный массив пополам, то есть половина значений меньше медианы, а другая половина больше.\n",
    "    4. ```std``` - Вычисляет стандартное отклонение элементов массива.\n",
    "    5. ```var``` - Вычисляет дисперсию элементов массива. (variance)\n",
    "    6. ```min/max``` - Возвращает минимальное/максимальное значение в массиве\n",
    "    7. ```argmin/argmax``` - Возвращает индекс минимального/максимального значения в массиве.\n",
    "    8. ```cumsum``` - Возвращает кумулятивные суммы элементов массива. Для массива [a, b, c, d, ...], кумулятивная сумма будет [a, a+b, a+b+c, a+b+c+d, ...].\n",
    "    9. ```cumprod``` -  Возвращает кумулятивные произведения элементов массива.\n",
    "Для массива [a, b, c, d, ...], кумулятивное произведение будет [a, a*b, a*b*c, a*b*c*d, ...].\n",
    "    10. ```np.ptp``` - Peak-to-Peak, ptp возвращает размах (peak-to-peak) значений в массиве, то есть разницу между максимальным и минимальным значениями.\n",
    "    11. ```np.diff``` - diff вычисляет разности между соседними элементами массива. Этот метод особенно полезен при анализе изменений во временных рядах данных.\n",
    "    12. ```np.bincount(arr)``` - это метод библиотеки NumPy, предназначенный для подсчета частоты встречаемости каждого неотрицательного целого числа в массиве. Массив может содержать только неотрицательные целые числа. \n",
    "    ```Массив данных: [1 2 2 3 4 4 4]```\n",
    "    ```Количество вхождений каждого значения: [0 1 2 1 3]```"
   ]
  },
  {
   "cell_type": "markdown",
   "id": "707bd5378884022",
   "metadata": {},
   "source": []
  },
  {
   "cell_type": "code",
   "execution_count": null,
   "id": "58216a1fc22687f1",
   "metadata": {
    "ExecuteTime": {
     "end_time": "2024-04-09T10:33:26.910175Z",
     "start_time": "2024-04-09T10:33:26.905694Z"
    }
   },
   "outputs": [],
   "source": [
    "arr = np.array([22, 13, 45, 7, 19])\n",
    "\n",
    "result1 =  np.argmin(arr)\n",
    "result2 =  arr.argmax()\n",
    "result1 , result2"
   ]
  },
  {
   "cell_type": "markdown",
   "id": "e7dfd87b5a077c3d",
   "metadata": {},
   "source": [
    "Задача: Представим, что у вас есть данные о ежедневных изменениях стоимости акций компании. Используйте методы для анализа финансовых показателей. Найдите изменение цен за каждый день, а также дни с минимальным и максимальным изменением. (Внимание: Не забудьте что когда вы ищите изменение в ценах, то кол-во значений уменьшается на 1, т.к. первое значение не с чем сравнивать.)"
   ]
  },
  {
   "cell_type": "code",
   "execution_count": null,
   "id": "522c6c830009d8a9",
   "metadata": {
    "ExecuteTime": {
     "end_time": "2024-04-09T10:33:27.039856Z",
     "start_time": "2024-04-09T10:33:27.035558Z"
    }
   },
   "outputs": [],
   "source": [
    "# put your python code here\n",
    "import numpy as np\n",
    "\n",
    "stock_prices = np.array([50, 55, 60, 52, 48, 65, 70])\n",
    "days = np.array(['понедельник', 'вторник', 'среда', 'четверг', 'пятница', 'суббота', 'воскресенье'])\n",
    "\n",
    "daily_returns =  np.diff(stock_prices)\n",
    "best_day =  days [ np.argmax(daily_returns) + 1]\n",
    "worst_day =  days [ np.argmin(daily_returns) + 1]\n",
    "\n",
    "\n",
    "print(f\"Изменения цен за день: {daily_returns}\")\n",
    "print(f\"Лучший день: {best_day}\")\n",
    "print(f\"Худший день: {worst_day}\")"
   ]
  },
  {
   "cell_type": "markdown",
   "id": "53c2329f62daf246",
   "metadata": {},
   "source": [
    "Задача: Вам предоставлен массив доходов отдельных инвесторов за год. Необходимо рассчитать медиану доходов и выполнить дополнительные шаги:\n",
    "\n",
    "    Найти медиану доходов.\n",
    "    Определить, сколько инвесторов заработали выше медианного значения, а сколько ниже.\n",
    "    Найти разброс доходов для инвесторов, заработавших выше медианы.\n"
   ]
  },
  {
   "cell_type": "code",
   "execution_count": null,
   "id": "654c699ae6577546",
   "metadata": {
    "ExecuteTime": {
     "end_time": "2024-04-09T10:39:41.775220Z",
     "start_time": "2024-04-09T10:39:41.748355Z"
    }
   },
   "outputs": [],
   "source": [
    "# Заданные данные (доходы инвесторов в тысячах долларов)\n",
    "income_data = np.array([40, 55, 60, 75, 80, 85, 90, 100, 120, 150])\n",
    "\n",
    "median_income =  np.median(income_data)\n",
    "\n",
    "above_median =  income_data[income_data > median_income]\n",
    "below_median =  income_data[income_data < median_income]\n",
    "\n",
    "#print(above_median)\n",
    "income_range_above_median =  np.ptp(above_median)\n",
    "\n",
    "print(\"Медиана доходов:\", median_income)\n",
    "print(\"Инвесторы, заработавшие выше медианы:\", above_median)\n",
    "print(\"Инвесторы, заработавшие ниже медианы:\", below_median)\n",
    "print(\"Разброс доходов для инвесторов, заработавших выше медианы:\", income_range_above_median)"
   ]
  },
  {
   "cell_type": "markdown",
   "id": "71a41eed147a0a9a",
   "metadata": {},
   "source": [
    "Задача: Найдите среднюю стоимость акций каждой компании за все дни. Затем определите компанию с максимальной волатильностью (наибольшим размахом цен). И под конец, найдите день с наибольшим общим изменением в стоимости акций всех компаний.\n",
    "\n",
    "Средняя стоимость акций каждой компании: [120.71 121.43 120.86]\n",
    "Индекс самой волатильной компании: 2\n",
    "Индекс дня с наибольшим изменением в стоимости акций: 3\n",
    "\n"
   ]
  },
  {
   "cell_type": "code",
   "execution_count": null,
   "id": "2e617af6b7369c57",
   "metadata": {
    "ExecuteTime": {
     "end_time": "2024-04-09T11:11:38.290718Z",
     "start_time": "2024-04-09T11:11:38.281495Z"
    }
   },
   "outputs": [],
   "source": [
    "# put your python code here\n",
    "import numpy as np\n",
    "\n",
    "# Цены акций для 3 компаний(каждый столбец - отдельная компания)\n",
    "stock_prices = np.array([\n",
    "    [110, 112, 108],\n",
    "    [115, 118, 120],\n",
    "    [108, 110, 105],\n",
    "    [122, 121, 124],\n",
    "    [128, 130, 125],\n",
    "    [133, 132, 134],\n",
    "    [129, 127, 130]\n",
    "])\n",
    "\n",
    "average_prices = np.round(np.mean(stock_prices, axis=0), 2)# Средняя стоимость акций каждой компании за все дни (ответ округлите до 2-х знаков после запятой)\n",
    "\n",
    "volatility = np.ptp(stock_prices, axis=0)\n",
    "most_volatile_company = np.argmax(volatility)\n",
    "# \n",
    "#x = np.array([i for i in np.split(stock_prices,3,axis=1)]).reshape((3,1,7))\n",
    "#y = np.diff(x).reshape((3,6,1))[: , : , 0]\n",
    "#z = np.array([ np.sum(y[ : , i]) for i in range(len(y[0])) ])\n",
    "total_daily_change =  np.sum(np.abs(np.diff(stock_prices, axis=0)), axis=1)\n",
    "\n",
    "day_with_max_change = np.argmax(total_daily_change) + 1 # Индекс дня(строки) с наибольшим общим изменением в стоимости акций всех компаний.\n",
    "# \n",
    "print(\"Средняя стоимость акций каждой компании:\", average_prices)\n",
    "print(\"Индекс самой волатильной компании:\", most_volatile_company)\n",
    "print(\"Индекс дня с наибольшим изменением в стоимости акций:\", day_with_max_change)\n"
   ]
  },
  {
   "cell_type": "markdown",
   "id": "a5257fb9a0d1b2b6",
   "metadata": {},
   "source": [
    "Задача: Найдите средний возраст пациентов. Определите пациента с самым высоким уровнем холестерина и самым низким давлением.\n",
    "\n",
    "Средний возраст пациентов: 36.7\n",
    "Пациент с самым высоким уровнем холестерина: [ 45 220 130]\n",
    "Пациент с самым низким давлением: [ 35 190 110]"
   ]
  },
  {
   "cell_type": "code",
   "execution_count": null,
   "id": "8bd6fc62cc9fda94",
   "metadata": {
    "ExecuteTime": {
     "end_time": "2024-04-09T11:18:27.999492Z",
     "start_time": "2024-04-09T11:18:27.991478Z"
    }
   },
   "outputs": [],
   "source": [
    "# put your python code here\n",
    "import numpy as np\n",
    "\n",
    "# Заданные данные (1-й столбец: возраст, 2-й столбец: уровень холестерина, 3-й столбец: давление)\n",
    "medical_data = np.array([\n",
    "    [30, 200, 120],\n",
    "    [45, 220, 130],\n",
    "    [35, 190, 110]\n",
    "])\n",
    "\n",
    "average_age = np.round(np.mean(medical_data[: , 0]),1)\n",
    "max_cholesterol_patient = np.argmax(medical_data[: , 1])# Индекс пациента с самым высоким уровнем холестерина\n",
    "min_pressure_patient =  np.argmin(medical_data[: , 2])# Индекс пациента с самым низким давлением\n",
    "\n",
    "print(f\"Средний возраст пациентов: {average_age}\")\n",
    "print(\"Пациент с самым высоким уровнем холестерина:\", medical_data[max_cholesterol_patient]) # Показатели пациента с самым высоким уровнем холестерина\n",
    "print(\"Пациент с самым низким давлением:\", medical_data[min_pressure_patient]) # Показатели пациента с самым низким давлением"
   ]
  },
  {
   "cell_type": "markdown",
   "id": "c8df38a1c09ac71c",
   "metadata": {},
   "source": [
    "## 3.3 Сортировка и другие операции"
   ]
  },
  {
   "cell_type": "markdown",
   "id": "e0a9ea420173f195",
   "metadata": {},
   "source": [
    "```np.sort(a, axis=-1, kind=None, order=None)```  -  выполняет сортировку элементов массива.\n",
    " - a: Исходный массив, который нужно отсортировать.\n",
    " - axis: Опциональный параметр, указывающий ось, по которой нужно провести сортировку. По умолчанию -1, что означает сортировку по последней оси.\n",
    " - kind: Опциональный параметр, определяющий алгоритм сортировки. Может принимать значения 'quicksort', 'mergesort', 'heapsort' или None. По умолчанию используется 'quicksort'.\n",
    " - order: Опциональный параметр, применяется при сортировке структурированных массивов. Может содержать названия полей и направления сортировки для каждого поля.\n",
    "<img src=\"https://ucarecdn.com/26d962df-de4e-4682-9d7f-3dc8014de6b4/\">"
   ]
  },
  {
   "cell_type": "markdown",
   "id": "953e12141ca723e4",
   "metadata": {},
   "source": [
    "```np.unique(ar, return_index=False, return_inverse=False, return_counts=False, axis=None)``` - это функция, которая возвращает уникальные элементы массива. \n",
    "\n",
    "- return_index: Если True, то также возвращает массив индексов первого вхождения уникальных элементов.\n",
    "- return_inverse: Если True, то также возвращает массив, который при использовании как индекс восстанавливает исходный массив.\n",
    "- return_counts: Если True, то также возвращает массив, содержащий количество вхождений каждого уникального элемента.\n",
    "- axis: Опциональный параметр, указывающий ось, по которой нужно найти уникальные элементы. Если не указан, поиск производится по всему массиву.\n",
    "<img src=\"https://ucarecdn.com/b83aabf6-7891-41bd-aee3-db4aaeb17315/\">"
   ]
  },
  {
   "cell_type": "markdown",
   "id": "9337bb10644f66f3",
   "metadata": {},
   "source": [
    "```numpy.intersect1d(ar1, ar2, assume_unique=False, return_indices=False)``` - Возвращает отсортированный массив уникальных элементов, общих для двух входных массивов.\n",
    "- assume_unique: Если True, то предполагает, что входные массивы уже уникальны, что ускоряет выполнение.\n",
    "- return_indices: Если True, то также возвращает индексы элементов в каждом из входных массивов"
   ]
  },
  {
   "cell_type": "markdown",
   "id": "154aeb19614aef5f",
   "metadata": {},
   "source": [
    "```np.union1d(ar1, ar2)``` - Возвращает отсортированный массив уникальных элементов, объединенных из двух входных массивов.\n",
    "<img src=\"https://ucarecdn.com/a3cd125b-37f5-490c-bfc1-32793ebd211f/\">"
   ]
  },
  {
   "cell_type": "markdown",
   "id": "61273065120e9997",
   "metadata": {},
   "source": [
    "```np.in1d(ar1, ar2, assume_unique=False, invert=False)``` - Возвращает булев массив той же формы, что и ar1, указывающий, содержатся ли элементы ar1 в ar2.\n",
    " - assume_unique: Если True, то предполагает, что ar1 и ar2 уже уникальны.\n",
    " - invert: Если True, то инвертирует результат, то есть возвращает, содержатся ли элементы ar1 не в ar2.\n",
    "\n",
    "<img src=\"https://ucarecdn.com/229dc3ff-416f-4bae-878e-ac3e7ff3e1f5/\">"
   ]
  },
  {
   "cell_type": "markdown",
   "id": "99ed23603f3fe72b",
   "metadata": {},
   "source": [
    "```np.setdiff1d(ar1, ar2, assume_unique=False)``` - Возвращает уникальные элементы, которые есть в ar1, но отсутствуют в ar2.\n",
    "```np.setxor1d(ar1, ar2, assume_unique=False)``` - Возвращает уникальные элементы, которые есть в одном из массивов, но отсутствуют в обоих"
   ]
  },
  {
   "cell_type": "markdown",
   "id": "69d6c81608e233a0",
   "metadata": {},
   "source": [
    "```np.delete(arr, obj, axis=None)``` - это функция библиотеки NumPy, которая используется для удаления элементов из массива. Она может использоваться для удаления как отдельных элементов, так и целых строк или столбцов в многомерных массивах. \n",
    "\n",
    "- arr: Одномерный массив неотрицательных целых чисел. Обязательный параметр.\n",
    "- arr: Исходный массив.\n",
    "- obj: Объект, который нужно удалить. Это может быть индекс, срез или последовательность индексов/срезов. Функция возвращает новый массив с удаленными элементами. Исходный массив не изменяется.\n",
    "- axis: Опциональный параметр, указывающий ось, по которой нужно удалить элементы. Если axis не указан, функция работает с плоским массивом.\n",
    "\n",
    "<img src=\"https://ucarecdn.com/1ee00444-4053-448c-a605-d1abe0a713be/\" width=600>.\n",
    "\n",
    "<img src=\"https://ucarecdn.com/71b5b026-b397-434b-b989-35b4124d7017/\">\n"
   ]
  },
  {
   "cell_type": "markdown",
   "id": "a8f9cda0d85ab3be",
   "metadata": {},
   "source": [
    "##  3.4 Дополнительно: Генерация псевдослучайных чисел в Numpy\n",
    "\n",
    "В NumPy генерация псевдослучайных чисел выполняется с использованием модуля numpy.random. Этот модуль полезен в различных задачах, таких как создание случайных массивов, симуляция случайных процессов и другие приложения, где требуется использование случайности. Вот несколько основных функций для генерации псевдослучайных чисел в NumPy:"
   ]
  },
  {
   "cell_type": "markdown",
   "id": "85c5ed171a698bc8",
   "metadata": {},
   "source": []
  },
  {
   "cell_type": "markdown",
   "id": "276d07ff09cb85e8",
   "metadata": {},
   "source": [
    "<img src=\"3.4.png\">."
   ]
  },
  {
   "cell_type": "code",
   "execution_count": null,
   "id": "6650bf0148078903",
   "metadata": {},
   "outputs": [],
   "source": []
  }
 ],
 "metadata": {
  "kernelspec": {
   "display_name": "Python 3 (ipykernel)",
   "language": "python",
   "name": "python3"
  },
  "language_info": {
   "codemirror_mode": {
    "name": "ipython",
    "version": 3
   },
   "file_extension": ".py",
   "mimetype": "text/x-python",
   "name": "python",
   "nbconvert_exporter": "python",
   "pygments_lexer": "ipython3",
   "version": "3.11.8"
  }
 },
 "nbformat": 4,
 "nbformat_minor": 5
}
